{
 "cells": [
  {
   "cell_type": "markdown",
   "metadata": {
    "id": "nwYJsb6MjDbW",
    "papermill": {
     "duration": 0.077348,
     "end_time": "2024-05-02T11:59:36.692627",
     "exception": false,
     "start_time": "2024-05-02T11:59:36.615279",
     "status": "completed"
    },
    "tags": []
   },
   "source": [
    "# **Neural Network and its application Tutorial in Python**\n",
    "###### Created by **(Satvik Tiwari)** for DA623 \n",
    "---\n"
   ]
  },
  {
   "cell_type": "markdown",
   "metadata": {
    "id": "ZbqPIhRQNWWF",
    "papermill": {
     "duration": 0.073751,
     "end_time": "2024-05-02T11:59:36.840337",
     "exception": false,
     "start_time": "2024-05-02T11:59:36.766586",
     "status": "completed"
    },
    "tags": []
   },
   "source": [
    "# Overview"
   ]
  },
  {
   "cell_type": "markdown",
   "metadata": {
    "id": "srB7hSW32oJu",
    "papermill": {
     "duration": 0.073863,
     "end_time": "2024-05-02T11:59:36.988323",
     "exception": false,
     "start_time": "2024-05-02T11:59:36.914460",
     "status": "completed"
    },
    "tags": []
   },
   "source": [
    "We will cover the following topics in this notebook.\n",
    "\n",
    "\n",
    "*   Theory of how Perceptrons work and Learn\n",
    "*   Coded Walkthrough of a Neural Network\n",
    "*   Model the Wisconsin Breast Cancer Dataset\n",
    "*   Review Various Applications of Neural Networks\n",
    "\n",
    "So stay tuned!\n",
    "\n"
   ]
  },
  {
   "cell_type": "markdown",
   "metadata": {
    "id": "NOr3gaeovftN",
    "papermill": {
     "duration": 0.073843,
     "end_time": "2024-05-02T11:59:37.137169",
     "exception": false,
     "start_time": "2024-05-02T11:59:37.063326",
     "status": "completed"
    },
    "tags": []
   },
   "source": [
    "# What Are Neural Networks?\n"
   ]
  },
  {
   "cell_type": "markdown",
   "metadata": {
    "id": "ESAIluzExhen",
    "papermill": {
     "duration": 0.07346,
     "end_time": "2024-05-02T11:59:37.284416",
     "exception": false,
     "start_time": "2024-05-02T11:59:37.210956",
     "status": "completed"
    },
    "tags": []
   },
   "source": [
    "In simple terms, neural networks are representative of the human brain, and they are specificially made to recognize patterns. They interpret data through various models. The patterns that these models detect are all numerical specifically in the form of vectors. "
   ]
  },
  {
   "cell_type": "markdown",
   "metadata": {
    "id": "SamhlETV1ZTd",
    "papermill": {
     "duration": 0.074869,
     "end_time": "2024-05-02T11:59:37.433431",
     "exception": false,
     "start_time": "2024-05-02T11:59:37.358562",
     "status": "completed"
    },
    "tags": []
   },
   "source": [
    "Neural networks are extremely helpful for performing tasks involving clustering and classification. Because of the networks similarity to the human brain, it is able to recognize patterns in unlabeled data.\n",
    "\n",
    "We will start off by investigating the most basic Neural Network: **The Perceptron**"
   ]
  },
  {
   "cell_type": "markdown",
   "metadata": {
    "id": "PElDyoWNlFOv",
    "papermill": {
     "duration": 0.075169,
     "end_time": "2024-05-02T11:59:37.582705",
     "exception": false,
     "start_time": "2024-05-02T11:59:37.507536",
     "status": "completed"
    },
    "tags": []
   },
   "source": [
    "## Perceptrons"
   ]
  },
  {
   "cell_type": "markdown",
   "metadata": {
    "id": "h3dDubF6LUsh",
    "papermill": {
     "duration": 0.074383,
     "end_time": "2024-05-02T11:59:37.731989",
     "exception": false,
     "start_time": "2024-05-02T11:59:37.657606",
     "status": "completed"
    },
    "tags": []
   },
   "source": [
    "<img src=\"https://tinyurl.com/ybcfd78e\" alt=\"perceptron\" width=\"400\"/>\n",
    "\n",
    "\n",
    "\n"
   ]
  },
  {
   "cell_type": "markdown",
   "metadata": {
    "id": "hFvT_Nv-AXCN",
    "papermill": {
     "duration": 0.07467,
     "end_time": "2024-05-02T11:59:37.881068",
     "exception": false,
     "start_time": "2024-05-02T11:59:37.806398",
     "status": "completed"
    },
    "tags": []
   },
   "source": [
    "The Perceptron consists of two main components\n",
    "1.   Neurons ($x_i$)\n",
    "2.   Weights ($w_i$)\n",
    "\n",
    "Perceptrons represent the most basic form of a Neural Network with only two layers, the input and output layer.  As shown in the diagram above, both layers are joined by weights represented by the arrows. Each individual neuron represents a number. For example, if there are three inputs, the input layer will consist of 3 neurons plus an additional bias neuron. The importance of the bias ($b$) will become clear later in this tutorial. The output layer simply consists of one neuron in this scenario which represents the number we are attempting to predict. \n",
    "\n",
    "\n"
   ]
  },
  {
   "cell_type": "markdown",
   "metadata": {
    "id": "KyhmPbDzUspC",
    "papermill": {
     "duration": 0.07358,
     "end_time": "2024-05-02T11:59:38.029364",
     "exception": false,
     "start_time": "2024-05-02T11:59:37.955784",
     "status": "completed"
    },
    "tags": []
   },
   "source": [
    "**Forward Propagation**\n",
    "\n",
    "The process of going from the input layer to the output is known as Forward Propagation. To simplify the computations, we will use vector notation to represent the input features and the weights.\n",
    "\n",
    "  $\\vec{x}=\\begin{bmatrix}  x_1 & x_2 & ... & x_n\\end{bmatrix}$\n",
    "\n",
    "\n",
    "  $\\vec{w}=\\begin{bmatrix}  w_1 & w_2 & ... & w_n \\end{bmatrix}$\n",
    "\n",
    "  Finally, to get the value of the output neuron, we simply take the dot product of these two vectors and add the bias. \n",
    "\n",
    "  $z=\\vec{x}\\cdot\\vec{w}+b=x_1\\times w_1+x_2\\times w_2+...+x_n\\times w_n+b$\n",
    "\n",
    "\n",
    "\n",
    "\n"
   ]
  },
  {
   "cell_type": "markdown",
   "metadata": {
    "id": "ibfm7azdc5-2",
    "papermill": {
     "duration": 0.073768,
     "end_time": "2024-05-02T11:59:38.177523",
     "exception": false,
     "start_time": "2024-05-02T11:59:38.103755",
     "status": "completed"
    },
    "tags": []
   },
   "source": [
    "**The Bias Term**\n",
    "\n",
    "To get a better understanding of this output, lets analyze it with just one input neuron. In other words, our output neuron will store the following.\n",
    "\n",
    "$z=x_1\\times w_1+b$\n",
    "\n",
    "If we visualize this in two dimensional space, we know that this will represent a line with slope $w_1$ and intercept $b$. We can now easily see the role of the bias. Without it, our model would always go through the origin. Now, we can shift our model along the axes giving us more flexibility while training. However, we are still only able to represent linear models. To add non-linearities to our model we use an activation function.\n",
    "\n"
   ]
  },
  {
   "cell_type": "markdown",
   "metadata": {
    "id": "OJdJxEI9hf9T",
    "papermill": {
     "duration": 0.073618,
     "end_time": "2024-05-02T11:59:38.324860",
     "exception": false,
     "start_time": "2024-05-02T11:59:38.251242",
     "status": "completed"
    },
    "tags": []
   },
   "source": [
    "**Activation Functions**\n",
    "\n",
    "Lets imagine that we are solving a binary classification problem. This means the range of our output $\\hat{y}$ (predicted value) must be $(0, 1)$ since we are predicting a probablity that the input belongs to a certain class. However, the range of a linear equation is $(-\\infty, \\infty)$. Therefore, we must apply some other function to satisfy this constraint. In binary classification problems, the most common activation function is called the sigmoid function. \n",
    "\n",
    "$\\sigma(x)=\\frac{1}{1+e^{-x}}$\n",
    "\n",
    "\n",
    "<img src=\"https://tinyurl.com/ycggxehs\" alt=\"sigmoid_graph\" width=\"400\"/>\n",
    "\n",
    "\n",
    "\n",
    "As you can see in this graph, $\\sigma(x)\\in(0, 1)$. This activation function makes it possible to predict a probablity for a binary output. As you go further into machine learning, you will see several other activation functions. The most common ones other than sigmoid are ReLU, tanh, and softmax.\n"
   ]
  },
  {
   "cell_type": "markdown",
   "metadata": {
    "id": "zB2F37Lp-jHU",
    "papermill": {
     "duration": 0.073639,
     "end_time": "2024-05-02T11:59:38.472832",
     "exception": false,
     "start_time": "2024-05-02T11:59:38.399193",
     "status": "completed"
    },
    "tags": []
   },
   "source": [
    "**The Output**\n",
    "\n",
    "Now that we know all the parts of the perceptron, let's see how to get the final output. After forward propagation, we saw the output was\n",
    "\n",
    "  $z=\\vec{x}\\cdot\\vec{w}+b=x_1\\times w_1+x_2\\times w_2+...+x_n\\times w_n+b$\n",
    "\n",
    "Finally, we must apply the activation function to get our final output.\n",
    "\n",
    "$\\hat{y}=\\sigma(z)$\n",
    "\n",
    "That is all there is to get the output from a perceptron! To sum it up in three simple steps:\n",
    "\n",
    "\n",
    "\n",
    "1.   Get the dot product of the weights and the input features $(\\vec{x}\\cdot\\vec{w})$.\n",
    "2.   Add the bias $(\\vec{x}\\cdot\\vec{w}+b)$.\n",
    "3.   Apply the activation function and that is the predicted value $(\\hat{y}=\\sigma(\\vec{x}\\cdot\\vec{w}+b))$!\n",
    "\n",
    "So far we know how to take the input values and return the corresponding output. However, we must adjust the weights to make the network fit the training data. The process of making these adjustments is known as **back propagation**.\n",
    "\n"
   ]
  },
  {
   "cell_type": "markdown",
   "metadata": {
    "id": "F_AwZqZQmBzq",
    "papermill": {
     "duration": 0.075136,
     "end_time": "2024-05-02T11:59:38.621794",
     "exception": false,
     "start_time": "2024-05-02T11:59:38.546658",
     "status": "completed"
    },
    "tags": []
   },
   "source": [
    "In order to adjust our weights, first we must figure out a way to numerically signify the accuracy of our prediction. In other words, we need to figure out how close our predicted value is to the actual value. A simple way to do this is to use the **Sum of Squares Error**.\n",
    "\n",
    "$\\mathcal{L}(y, \\hat{y})=(y-\\hat{y})^{2}$\n",
    "\n",
    "Although this function works, most real-life applications will not use this error function. We will discuss another group of cross entropy loss functions. \n"
   ]
  },
  {
   "cell_type": "markdown",
   "metadata": {
    "id": "4g-R2gHbEw5R",
    "papermill": {
     "duration": 0.07372,
     "end_time": "2024-05-02T11:59:38.770158",
     "exception": false,
     "start_time": "2024-05-02T11:59:38.696438",
     "status": "completed"
    },
    "tags": []
   },
   "source": [
    "**Loss Function**\n",
    "\n",
    "Several functions exist for accomplishing this task, however, the most common loss function for binary problems is called **Binary Cross-Entropy**.\n",
    "\n",
    "$\\mathcal{L}(y, \\hat{y})=-(y\\log(\\hat{y}) + (1-y)\\log(1-\\hat{y}))$\n",
    "\n",
    "Where $y$ is the actual value (0 or 1) and $\\hat{y}$ is the predicted probability. Looking closer at this equation, we can see that the first term will cancel out if $y=0$, and similarly the second term will cancel out if $y=1$. Therefore, we can write the same equation as a piecewise function.\n",
    "\n",
    "$\\mathcal{L}(y, \\hat{y})=\\begin{cases}-\\log(1-\\hat{y}) & \\text{if $y=0$} \\\\-\\log(\\hat{y}) & \\text{if $y=1$}\\end{cases}$\n",
    "\n",
    "Keep in mind that $\\hat{y}$ is a decimal value in the range $(0, 1)$. The $\\log$ function returns a negative number for such values. As a result, we must take the negative of the log to return a positive value. \n",
    "\n",
    "To see why this function works as the error, try experimenting in the next code cell with different values of $y$ and $\\hat{y}$ then analyze the corresponding loss function value."
   ]
  },
  {
   "cell_type": "code",
   "execution_count": 1,
   "metadata": {
    "cellView": "form",
    "execution": {
     "iopub.execute_input": "2024-05-02T11:59:38.925159Z",
     "iopub.status.busy": "2024-05-02T11:59:38.924377Z",
     "iopub.status.idle": "2024-05-02T11:59:38.927419Z",
     "shell.execute_reply": "2024-05-02T11:59:38.927954Z",
     "shell.execute_reply.started": "2024-04-30T14:17:54.620624Z"
    },
    "id": "1YdpLQSFPUdk",
    "outputId": "99cbb1ae-c4aa-4325-adcc-ecd375d806ef",
    "papermill": {
     "duration": 0.084045,
     "end_time": "2024-05-02T11:59:38.928100",
     "exception": false,
     "start_time": "2024-05-02T11:59:38.844055",
     "status": "completed"
    },
    "tags": []
   },
   "outputs": [
    {
     "name": "stdout",
     "output_type": "stream",
     "text": [
      "Loss: 0.05129329438755058\n"
     ]
    }
   ],
   "source": [
    "import numpy as np\n",
    "def binary_crossentropy(y, yhat):\n",
    "  #code is derived from the piecewise function\n",
    "  if y == 0:\n",
    "    return -np.log(1.0-yhat)\n",
    "\n",
    "  if y == 1:\n",
    "    return -np.log(yhat)\n",
    "\n",
    "y = 0 \n",
    "yhat = 0.05 \n",
    "\n",
    "print(f'Loss: {binary_crossentropy(y, yhat)}')\n"
   ]
  },
  {
   "cell_type": "markdown",
   "metadata": {
    "id": "9uHqb3_RtMC4",
    "papermill": {
     "duration": 0.075322,
     "end_time": "2024-05-02T11:59:39.078504",
     "exception": false,
     "start_time": "2024-05-02T11:59:39.003182",
     "status": "completed"
    },
    "tags": []
   },
   "source": [
    "**Back Propogation**\n",
    "\n",
    "To simplify this process, we will show back propagation with the Sum of Squares error as our loss function. \n",
    "\n",
    "$\\mathcal{L}(y, \\hat{y})=(y-\\hat{y})^{2}$\n",
    "\n",
    "Keep in mind that our goal is to find the global minimum of the loss concerning our weights. To update our weights, we first need to find out how much a small change in the weight will affect our loss function. In other words, this is what we need to find:\n",
    "\n",
    "$\\frac{\\partial \\mathcal{L}(y, \\hat{y})}{\\partial w}$\n",
    "\n",
    "However, we cannot find the derivative of $(y-\\hat{y})^2$ with respect to $w$ if it does not exist in the expression. Fortunately, we can use the chain rule to overcome this obstacle. \n",
    "\n",
    "$\\frac{\\partial \\mathcal{L}(y, \\hat{y})}{\\partial w} = \\frac{\\partial \\mathcal{L}(y, \\hat{y})}{\\partial \\hat{y}} * \\frac{\\partial \\hat{y}}{\\partial{z}} * \\frac{\\partial z}{\\partial w}$\n",
    "\n",
    "As a reminder, during forward propagation, we defined $z=w \\cdot x+b$. The expanded expression can easily be simplified. \n",
    "\n",
    "$\\frac{\\partial \\mathcal{L}(y, \\hat{y})}{\\partial \\hat{y}} * \\frac{\\partial \\hat{y}}{\\partial{z}} * \\frac{\\partial z}{\\partial w} = -2(y-\\hat{y}) * \\sigma(z)(1-\\sigma(z)) * x$\n",
    "\n",
    "The first term, $-2(y-\\hat{y})$, and the last term, $x$, are pretty easy to derive. The middle term requires us to take the derivative of the sigmoid function. We will not derive it here, but the sigmoid derivative can be cleanly written in terms of the sigmoid function itself as:\n",
    "\n",
    "$\\sigma^\\prime(x)=\\sigma(x)(1-\\sigma(x))$\n",
    "\n",
    "The value of $\\frac{\\partial \\mathcal{L}(y, \\hat{y})}{\\partial w}$ that we solved for, gives us the value that we call a gradient. Now, we will see the graphical interpretation. \n",
    "\n"
   ]
  },
  {
   "cell_type": "markdown",
   "metadata": {
    "id": "XViF253ODQDz",
    "papermill": {
     "duration": 0.0738,
     "end_time": "2024-05-02T11:59:39.227709",
     "exception": false,
     "start_time": "2024-05-02T11:59:39.153909",
     "status": "completed"
    },
    "tags": []
   },
   "source": [
    "In the graph below, the $x$-axis represents the weight, and the $y$-axis represents the function J, which is any arbitrary loss function. The value we solved for the above is called the gradient, or in simpler terms, it is the slope of the tangent line at a point. Our end goal is to reach the global cost minimum since it is the point where the loss is minimized. Here is the algorithm that we will repeat several times to achieve this task. \n",
    "\n",
    "$w = w-\\frac{\\partial \\mathcal{L}(y, \\hat{y})}{\\partial w}$\n",
    "\n"
   ]
  },
  {
   "cell_type": "markdown",
   "metadata": {
    "id": "8yoLWi777Qqh",
    "papermill": {
     "duration": 0.073889,
     "end_time": "2024-05-02T11:59:39.375691",
     "exception": false,
     "start_time": "2024-05-02T11:59:39.301802",
     "status": "completed"
    },
    "tags": []
   },
   "source": [
    "**Artificial Neural Networks**\n",
    "\n",
    "Artificial Neural Networks (ANN) are very similar to Perceptrons except they have one extra layer. The figure below shows an example of the ANN. The input and output layers do not change. The layer in the middle is called the hidden layer. Before, we only had one weight matrix, connecting the input to the output. Now, we have an extra set of connections. \n",
    "\n",
    "Here is what the two-weight matrices would look like in the figure below.\n",
    "\n",
    "$W_1=\n",
    "\\begin{bmatrix} \n",
    "w_{1,1} & w_{1,2} & w_{1,3} & w_{1, 4} & w_{1, 5}\\\\\n",
    "w_{2,1} & w_{2,2} & w_{2,3} & w_{2, 4} & w_{2, 5}\\\\\n",
    "w_{3,1} & w_{3,2} & w_{3,3} & w_{3, 4} & w_{3, 5}      \n",
    "\\end{bmatrix}\n",
    "$\n",
    "\n",
    "Here $W_1$ represents the connections from the input layer to the hidden layer. Notice that the number of rows is the number of neurons in the input layer and the number of columns is the number of neurons in the hidden layer. \n",
    "\n",
    "$W_2=\n",
    "\\begin{bmatrix} \n",
    "\\beta_{1,1} & \\beta_{1,2}\\\\\n",
    "\\beta_{2,1} & \\beta_{2,2}\\\\\n",
    "\\beta_{3,1} & \\beta_{3,2}\\\\     \n",
    "\\beta_{4,1} & \\beta_{4,2}\\\\ \n",
    "\\beta_{5,1} & \\beta_{5,2}\\\\  \n",
    "\\end{bmatrix}\n",
    "$\n",
    "\n",
    "$W_2$ is a matrix storing the weights ($\\beta$) connecting the hidden layer to the output layer. There are two columns since the output layer in the image has 2 output neurons. \n",
    "\n"
   ]
  },
  {
   "cell_type": "markdown",
   "metadata": {
    "id": "67hH3A5lxhje",
    "papermill": {
     "duration": 0.07467,
     "end_time": "2024-05-02T11:59:39.525123",
     "exception": false,
     "start_time": "2024-05-02T11:59:39.450453",
     "status": "completed"
    },
    "tags": []
   },
   "source": [
    "# Code\n",
    "\n",
    "The following code is us building a neural network from scratch on the Wisconsin Breast Cancer dataset. "
   ]
  },
  {
   "cell_type": "markdown",
   "metadata": {
    "id": "35rh1sKy_kTV",
    "papermill": {
     "duration": 0.075023,
     "end_time": "2024-05-02T11:59:39.677147",
     "exception": false,
     "start_time": "2024-05-02T11:59:39.602124",
     "status": "completed"
    },
    "tags": []
   },
   "source": [
    "## Imports"
   ]
  },
  {
   "cell_type": "markdown",
   "metadata": {
    "id": "p3zOI-0YYVDb",
    "papermill": {
     "duration": 0.074722,
     "end_time": "2024-05-02T11:59:39.826115",
     "exception": false,
     "start_time": "2024-05-02T11:59:39.751393",
     "status": "completed"
    },
    "tags": []
   },
   "source": [
    "We begin the neural network here by importing some necessary libraries that will allow us to actually create the artificial NN, and also display what goes on internally to maximize the accuracy of the NN."
   ]
  },
  {
   "cell_type": "markdown",
   "metadata": {
    "id": "eA9v5T8kYxzz",
    "papermill": {
     "duration": 0.074176,
     "end_time": "2024-05-02T11:59:39.974846",
     "exception": false,
     "start_time": "2024-05-02T11:59:39.900670",
     "status": "completed"
    },
    "tags": []
   },
   "source": [
    "What is the purpose of each library?\n",
    "\n",
    "  - From the sklearn library, we import the breast cancer dataset. \n",
    "  - We import matplotlib, pandas, and numpy which help us organize and visualize the data and outputs. "
   ]
  },
  {
   "cell_type": "code",
   "execution_count": 2,
   "metadata": {
    "execution": {
     "iopub.execute_input": "2024-05-02T11:59:40.131991Z",
     "iopub.status.busy": "2024-05-02T11:59:40.131321Z",
     "iopub.status.idle": "2024-05-02T11:59:40.990361Z",
     "shell.execute_reply": "2024-05-02T11:59:40.989740Z",
     "shell.execute_reply.started": "2024-04-30T14:24:09.530680Z"
    },
    "id": "hI5bKzyq15QD",
    "papermill": {
     "duration": 0.941256,
     "end_time": "2024-05-02T11:59:40.990482",
     "exception": false,
     "start_time": "2024-05-02T11:59:40.049226",
     "status": "completed"
    },
    "tags": []
   },
   "outputs": [
    {
     "name": "stdout",
     "output_type": "stream",
     "text": [
      "iris\n",
      "stegan\n",
      "stock-time-series-20050101-to-20171231\n",
      "suniward\n",
      "\n"
     ]
    }
   ],
   "source": [
    "# This Python 3 environment comes with many helpful analytics libraries installed\n",
    "# It is defined by the kaggle/python docker image: https://github.com/kaggle/docker-python\n",
    "# For example, here's several helpful packages to load in \n",
    "\n",
    "import numpy as np # linear algebra\n",
    "import pandas as pd # data processing, CSV file I/O (e.g. pd.read_csv)\n",
    "import seaborn as sns # visualization\n",
    "import matplotlib.pyplot as plt\n",
    "\n",
    "%matplotlib inline\n",
    "\n",
    "# Input data files are available in the \"../input/\" directory.\n",
    "# For example, running this (by clicking run or pressing Shift+Enter) will list the files in the input directory\n",
    "\n",
    "from subprocess import check_output\n",
    "print(check_output([\"ls\", \"../input\"]).decode(\"utf8\"))\n",
    "\n",
    "# Any results you write to the current directory are saved as output."
   ]
  },
  {
   "cell_type": "markdown",
   "metadata": {
    "id": "18UQ5KSfAhDn",
    "papermill": {
     "duration": 0.07685,
     "end_time": "2024-05-02T11:59:41.143613",
     "exception": false,
     "start_time": "2024-05-02T11:59:41.066763",
     "status": "completed"
    },
    "tags": []
   },
   "source": [
    "## Loading Dataset, Preprocessing "
   ]
  },
  {
   "cell_type": "code",
   "execution_count": 3,
   "metadata": {
    "cellView": "both",
    "execution": {
     "iopub.execute_input": "2024-05-02T11:59:41.305953Z",
     "iopub.status.busy": "2024-05-02T11:59:41.305040Z",
     "iopub.status.idle": "2024-05-02T11:59:41.344119Z",
     "shell.execute_reply": "2024-05-02T11:59:41.343498Z",
     "shell.execute_reply.started": "2024-04-30T14:25:10.482849Z"
    },
    "id": "tgInYb7T7XNR",
    "outputId": "18983871-626d-4aec-bdbb-6268dad004db",
    "papermill": {
     "duration": 0.122841,
     "end_time": "2024-05-02T11:59:41.344221",
     "exception": false,
     "start_time": "2024-05-02T11:59:41.221380",
     "status": "completed"
    },
    "tags": []
   },
   "outputs": [
    {
     "data": {
      "text/html": [
       "<div>\n",
       "<style scoped>\n",
       "    .dataframe tbody tr th:only-of-type {\n",
       "        vertical-align: middle;\n",
       "    }\n",
       "\n",
       "    .dataframe tbody tr th {\n",
       "        vertical-align: top;\n",
       "    }\n",
       "\n",
       "    .dataframe thead th {\n",
       "        text-align: right;\n",
       "    }\n",
       "</style>\n",
       "<table border=\"1\" class=\"dataframe\">\n",
       "  <thead>\n",
       "    <tr style=\"text-align: right;\">\n",
       "      <th></th>\n",
       "      <th>Id</th>\n",
       "      <th>SepalLengthCm</th>\n",
       "      <th>SepalWidthCm</th>\n",
       "      <th>PetalLengthCm</th>\n",
       "      <th>PetalWidthCm</th>\n",
       "      <th>Species</th>\n",
       "    </tr>\n",
       "  </thead>\n",
       "  <tbody>\n",
       "    <tr>\n",
       "      <th>19</th>\n",
       "      <td>20</td>\n",
       "      <td>5.1</td>\n",
       "      <td>3.8</td>\n",
       "      <td>1.5</td>\n",
       "      <td>0.3</td>\n",
       "      <td>Iris-setosa</td>\n",
       "    </tr>\n",
       "    <tr>\n",
       "      <th>98</th>\n",
       "      <td>99</td>\n",
       "      <td>5.1</td>\n",
       "      <td>2.5</td>\n",
       "      <td>3.0</td>\n",
       "      <td>1.1</td>\n",
       "      <td>Iris-versicolor</td>\n",
       "    </tr>\n",
       "    <tr>\n",
       "      <th>25</th>\n",
       "      <td>26</td>\n",
       "      <td>5.0</td>\n",
       "      <td>3.0</td>\n",
       "      <td>1.6</td>\n",
       "      <td>0.2</td>\n",
       "      <td>Iris-setosa</td>\n",
       "    </tr>\n",
       "    <tr>\n",
       "      <th>90</th>\n",
       "      <td>91</td>\n",
       "      <td>5.5</td>\n",
       "      <td>2.6</td>\n",
       "      <td>4.4</td>\n",
       "      <td>1.2</td>\n",
       "      <td>Iris-versicolor</td>\n",
       "    </tr>\n",
       "    <tr>\n",
       "      <th>130</th>\n",
       "      <td>131</td>\n",
       "      <td>7.4</td>\n",
       "      <td>2.8</td>\n",
       "      <td>6.1</td>\n",
       "      <td>1.9</td>\n",
       "      <td>Iris-virginica</td>\n",
       "    </tr>\n",
       "  </tbody>\n",
       "</table>\n",
       "</div>"
      ],
      "text/plain": [
       "      Id  SepalLengthCm  SepalWidthCm  PetalLengthCm  PetalWidthCm  \\\n",
       "19    20            5.1           3.8            1.5           0.3   \n",
       "98    99            5.1           2.5            3.0           1.1   \n",
       "25    26            5.0           3.0            1.6           0.2   \n",
       "90    91            5.5           2.6            4.4           1.2   \n",
       "130  131            7.4           2.8            6.1           1.9   \n",
       "\n",
       "             Species  \n",
       "19       Iris-setosa  \n",
       "98   Iris-versicolor  \n",
       "25       Iris-setosa  \n",
       "90   Iris-versicolor  \n",
       "130   Iris-virginica  "
      ]
     },
     "execution_count": 3,
     "metadata": {},
     "output_type": "execute_result"
    }
   ],
   "source": [
    "# load iris database\n",
    "data = pd.read_csv('../input/iris/Iris.csv')\n",
    "data.sample(n=5)"
   ]
  },
  {
   "cell_type": "code",
   "execution_count": 4,
   "metadata": {
    "execution": {
     "iopub.execute_input": "2024-05-02T11:59:41.509843Z",
     "iopub.status.busy": "2024-05-02T11:59:41.509244Z",
     "iopub.status.idle": "2024-05-02T11:59:41.532350Z",
     "shell.execute_reply": "2024-05-02T11:59:41.531716Z",
     "shell.execute_reply.started": "2024-04-30T14:26:51.956750Z"
    },
    "id": "Z-gNuPbovUnu",
    "papermill": {
     "duration": 0.111083,
     "end_time": "2024-05-02T11:59:41.532492",
     "exception": false,
     "start_time": "2024-05-02T11:59:41.421409",
     "status": "completed"
    },
    "tags": []
   },
   "outputs": [
    {
     "data": {
      "text/html": [
       "<div>\n",
       "<style scoped>\n",
       "    .dataframe tbody tr th:only-of-type {\n",
       "        vertical-align: middle;\n",
       "    }\n",
       "\n",
       "    .dataframe tbody tr th {\n",
       "        vertical-align: top;\n",
       "    }\n",
       "\n",
       "    .dataframe thead th {\n",
       "        text-align: right;\n",
       "    }\n",
       "</style>\n",
       "<table border=\"1\" class=\"dataframe\">\n",
       "  <thead>\n",
       "    <tr style=\"text-align: right;\">\n",
       "      <th></th>\n",
       "      <th>Id</th>\n",
       "      <th>SepalLengthCm</th>\n",
       "      <th>SepalWidthCm</th>\n",
       "      <th>PetalLengthCm</th>\n",
       "      <th>PetalWidthCm</th>\n",
       "    </tr>\n",
       "  </thead>\n",
       "  <tbody>\n",
       "    <tr>\n",
       "      <th>count</th>\n",
       "      <td>150.000000</td>\n",
       "      <td>150.000000</td>\n",
       "      <td>150.000000</td>\n",
       "      <td>150.000000</td>\n",
       "      <td>150.000000</td>\n",
       "    </tr>\n",
       "    <tr>\n",
       "      <th>mean</th>\n",
       "      <td>75.500000</td>\n",
       "      <td>5.843333</td>\n",
       "      <td>3.054000</td>\n",
       "      <td>3.758667</td>\n",
       "      <td>1.198667</td>\n",
       "    </tr>\n",
       "    <tr>\n",
       "      <th>std</th>\n",
       "      <td>43.445368</td>\n",
       "      <td>0.828066</td>\n",
       "      <td>0.433594</td>\n",
       "      <td>1.764420</td>\n",
       "      <td>0.763161</td>\n",
       "    </tr>\n",
       "    <tr>\n",
       "      <th>min</th>\n",
       "      <td>1.000000</td>\n",
       "      <td>4.300000</td>\n",
       "      <td>2.000000</td>\n",
       "      <td>1.000000</td>\n",
       "      <td>0.100000</td>\n",
       "    </tr>\n",
       "    <tr>\n",
       "      <th>25%</th>\n",
       "      <td>38.250000</td>\n",
       "      <td>5.100000</td>\n",
       "      <td>2.800000</td>\n",
       "      <td>1.600000</td>\n",
       "      <td>0.300000</td>\n",
       "    </tr>\n",
       "    <tr>\n",
       "      <th>50%</th>\n",
       "      <td>75.500000</td>\n",
       "      <td>5.800000</td>\n",
       "      <td>3.000000</td>\n",
       "      <td>4.350000</td>\n",
       "      <td>1.300000</td>\n",
       "    </tr>\n",
       "    <tr>\n",
       "      <th>75%</th>\n",
       "      <td>112.750000</td>\n",
       "      <td>6.400000</td>\n",
       "      <td>3.300000</td>\n",
       "      <td>5.100000</td>\n",
       "      <td>1.800000</td>\n",
       "    </tr>\n",
       "    <tr>\n",
       "      <th>max</th>\n",
       "      <td>150.000000</td>\n",
       "      <td>7.900000</td>\n",
       "      <td>4.400000</td>\n",
       "      <td>6.900000</td>\n",
       "      <td>2.500000</td>\n",
       "    </tr>\n",
       "  </tbody>\n",
       "</table>\n",
       "</div>"
      ],
      "text/plain": [
       "               Id  SepalLengthCm  SepalWidthCm  PetalLengthCm  PetalWidthCm\n",
       "count  150.000000     150.000000    150.000000     150.000000    150.000000\n",
       "mean    75.500000       5.843333      3.054000       3.758667      1.198667\n",
       "std     43.445368       0.828066      0.433594       1.764420      0.763161\n",
       "min      1.000000       4.300000      2.000000       1.000000      0.100000\n",
       "25%     38.250000       5.100000      2.800000       1.600000      0.300000\n",
       "50%     75.500000       5.800000      3.000000       4.350000      1.300000\n",
       "75%    112.750000       6.400000      3.300000       5.100000      1.800000\n",
       "max    150.000000       7.900000      4.400000       6.900000      2.500000"
      ]
     },
     "execution_count": 4,
     "metadata": {},
     "output_type": "execute_result"
    }
   ],
   "source": [
    "data.describe()"
   ]
  },
  {
   "cell_type": "code",
   "execution_count": 5,
   "metadata": {
    "execution": {
     "iopub.execute_input": "2024-05-02T11:59:41.703766Z",
     "iopub.status.busy": "2024-05-02T11:59:41.702990Z",
     "iopub.status.idle": "2024-05-02T11:59:47.582347Z",
     "shell.execute_reply": "2024-05-02T11:59:47.582863Z",
     "shell.execute_reply.started": "2024-04-30T14:27:17.944075Z"
    },
    "papermill": {
     "duration": 5.973188,
     "end_time": "2024-05-02T11:59:47.583007",
     "exception": false,
     "start_time": "2024-05-02T11:59:41.609819",
     "status": "completed"
    },
    "tags": []
   },
   "outputs": [
    {
     "data": {
      "text/plain": [
       "<seaborn.axisgrid.PairGrid at 0x7d138e2758d0>"
      ]
     },
     "execution_count": 5,
     "metadata": {},
     "output_type": "execute_result"
    },
    {
     "data": {
      "image/png": "[encoded data removed]",
      "text/plain": [
       "<Figure size 823.25x720 with 20 Axes>"
      ]
     },
     "metadata": {
      "needs_background": "light"
     },
     "output_type": "display_data"
    }
   ],
   "source": [
    "# simple visualization to show how the inputs compare against each other\n",
    "sns.pairplot( data=data, vars=('SepalLengthCm','SepalWidthCm','PetalLengthCm','PetalWidthCm'), hue='Species' )"
   ]
  },
  {
   "cell_type": "markdown",
   "metadata": {
    "papermill": {
     "duration": 0.082778,
     "end_time": "2024-05-02T11:59:47.749107",
     "exception": false,
     "start_time": "2024-05-02T11:59:47.666329",
     "status": "completed"
    },
    "tags": []
   },
   "source": [
    "# Normalize the data"
   ]
  },
  {
   "cell_type": "code",
   "execution_count": 6,
   "metadata": {
    "execution": {
     "iopub.execute_input": "2024-05-02T11:59:47.960389Z",
     "iopub.status.busy": "2024-05-02T11:59:47.959672Z",
     "iopub.status.idle": "2024-05-02T11:59:47.990459Z",
     "shell.execute_reply": "2024-05-02T11:59:47.989988Z",
     "shell.execute_reply.started": "2024-04-30T14:28:08.159329Z"
    },
    "papermill": {
     "duration": 0.156379,
     "end_time": "2024-05-02T11:59:47.990576",
     "exception": false,
     "start_time": "2024-05-02T11:59:47.834197",
     "status": "completed"
    },
    "tags": []
   },
   "outputs": [
    {
     "data": {
      "text/html": [
       "<div>\n",
       "<style scoped>\n",
       "    .dataframe tbody tr th:only-of-type {\n",
       "        vertical-align: middle;\n",
       "    }\n",
       "\n",
       "    .dataframe tbody tr th {\n",
       "        vertical-align: top;\n",
       "    }\n",
       "\n",
       "    .dataframe thead th {\n",
       "        text-align: right;\n",
       "    }\n",
       "</style>\n",
       "<table border=\"1\" class=\"dataframe\">\n",
       "  <thead>\n",
       "    <tr style=\"text-align: right;\">\n",
       "      <th></th>\n",
       "      <th>SepalLengthCm</th>\n",
       "      <th>SepalWidthCm</th>\n",
       "      <th>PetalLengthCm</th>\n",
       "      <th>PetalWidthCm</th>\n",
       "    </tr>\n",
       "  </thead>\n",
       "  <tbody>\n",
       "    <tr>\n",
       "      <th>23</th>\n",
       "      <td>0.222222</td>\n",
       "      <td>0.541667</td>\n",
       "      <td>0.118644</td>\n",
       "      <td>0.166667</td>\n",
       "    </tr>\n",
       "    <tr>\n",
       "      <th>26</th>\n",
       "      <td>0.194444</td>\n",
       "      <td>0.583333</td>\n",
       "      <td>0.101695</td>\n",
       "      <td>0.125000</td>\n",
       "    </tr>\n",
       "    <tr>\n",
       "      <th>32</th>\n",
       "      <td>0.250000</td>\n",
       "      <td>0.875000</td>\n",
       "      <td>0.084746</td>\n",
       "      <td>0.000000</td>\n",
       "    </tr>\n",
       "    <tr>\n",
       "      <th>19</th>\n",
       "      <td>0.222222</td>\n",
       "      <td>0.750000</td>\n",
       "      <td>0.084746</td>\n",
       "      <td>0.083333</td>\n",
       "    </tr>\n",
       "    <tr>\n",
       "      <th>79</th>\n",
       "      <td>0.388889</td>\n",
       "      <td>0.250000</td>\n",
       "      <td>0.423729</td>\n",
       "      <td>0.375000</td>\n",
       "    </tr>\n",
       "  </tbody>\n",
       "</table>\n",
       "</div>"
      ],
      "text/plain": [
       "    SepalLengthCm  SepalWidthCm  PetalLengthCm  PetalWidthCm\n",
       "23       0.222222      0.541667       0.118644      0.166667\n",
       "26       0.194444      0.583333       0.101695      0.125000\n",
       "32       0.250000      0.875000       0.084746      0.000000\n",
       "19       0.222222      0.750000       0.084746      0.083333\n",
       "79       0.388889      0.250000       0.423729      0.375000"
      ]
     },
     "execution_count": 6,
     "metadata": {},
     "output_type": "execute_result"
    }
   ],
   "source": [
    "df_norm = data[['SepalLengthCm', 'SepalWidthCm', 'PetalLengthCm', 'PetalWidthCm']].apply(lambda x: (x - x.min()) / (x.max() - x.min()))\n",
    "df_norm.sample(n=5)"
   ]
  },
  {
   "cell_type": "code",
   "execution_count": 7,
   "metadata": {
    "execution": {
     "iopub.execute_input": "2024-05-02T11:59:48.160820Z",
     "iopub.status.busy": "2024-05-02T11:59:48.156549Z",
     "iopub.status.idle": "2024-05-02T11:59:48.175260Z",
     "shell.execute_reply": "2024-05-02T11:59:48.174800Z",
     "shell.execute_reply.started": "2024-04-30T14:28:20.430082Z"
    },
    "papermill": {
     "duration": 0.104435,
     "end_time": "2024-05-02T11:59:48.175359",
     "exception": false,
     "start_time": "2024-05-02T11:59:48.070924",
     "status": "completed"
    },
    "tags": []
   },
   "outputs": [
    {
     "data": {
      "text/html": [
       "<div>\n",
       "<style scoped>\n",
       "    .dataframe tbody tr th:only-of-type {\n",
       "        vertical-align: middle;\n",
       "    }\n",
       "\n",
       "    .dataframe tbody tr th {\n",
       "        vertical-align: top;\n",
       "    }\n",
       "\n",
       "    .dataframe thead th {\n",
       "        text-align: right;\n",
       "    }\n",
       "</style>\n",
       "<table border=\"1\" class=\"dataframe\">\n",
       "  <thead>\n",
       "    <tr style=\"text-align: right;\">\n",
       "      <th></th>\n",
       "      <th>SepalLengthCm</th>\n",
       "      <th>SepalWidthCm</th>\n",
       "      <th>PetalLengthCm</th>\n",
       "      <th>PetalWidthCm</th>\n",
       "    </tr>\n",
       "  </thead>\n",
       "  <tbody>\n",
       "    <tr>\n",
       "      <th>count</th>\n",
       "      <td>150.000000</td>\n",
       "      <td>150.000000</td>\n",
       "      <td>150.000000</td>\n",
       "      <td>150.000000</td>\n",
       "    </tr>\n",
       "    <tr>\n",
       "      <th>mean</th>\n",
       "      <td>0.428704</td>\n",
       "      <td>0.439167</td>\n",
       "      <td>0.467571</td>\n",
       "      <td>0.457778</td>\n",
       "    </tr>\n",
       "    <tr>\n",
       "      <th>std</th>\n",
       "      <td>0.230018</td>\n",
       "      <td>0.180664</td>\n",
       "      <td>0.299054</td>\n",
       "      <td>0.317984</td>\n",
       "    </tr>\n",
       "    <tr>\n",
       "      <th>min</th>\n",
       "      <td>0.000000</td>\n",
       "      <td>0.000000</td>\n",
       "      <td>0.000000</td>\n",
       "      <td>0.000000</td>\n",
       "    </tr>\n",
       "    <tr>\n",
       "      <th>25%</th>\n",
       "      <td>0.222222</td>\n",
       "      <td>0.333333</td>\n",
       "      <td>0.101695</td>\n",
       "      <td>0.083333</td>\n",
       "    </tr>\n",
       "    <tr>\n",
       "      <th>50%</th>\n",
       "      <td>0.416667</td>\n",
       "      <td>0.416667</td>\n",
       "      <td>0.567797</td>\n",
       "      <td>0.500000</td>\n",
       "    </tr>\n",
       "    <tr>\n",
       "      <th>75%</th>\n",
       "      <td>0.583333</td>\n",
       "      <td>0.541667</td>\n",
       "      <td>0.694915</td>\n",
       "      <td>0.708333</td>\n",
       "    </tr>\n",
       "    <tr>\n",
       "      <th>max</th>\n",
       "      <td>1.000000</td>\n",
       "      <td>1.000000</td>\n",
       "      <td>1.000000</td>\n",
       "      <td>1.000000</td>\n",
       "    </tr>\n",
       "  </tbody>\n",
       "</table>\n",
       "</div>"
      ],
      "text/plain": [
       "       SepalLengthCm  SepalWidthCm  PetalLengthCm  PetalWidthCm\n",
       "count     150.000000    150.000000     150.000000    150.000000\n",
       "mean        0.428704      0.439167       0.467571      0.457778\n",
       "std         0.230018      0.180664       0.299054      0.317984\n",
       "min         0.000000      0.000000       0.000000      0.000000\n",
       "25%         0.222222      0.333333       0.101695      0.083333\n",
       "50%         0.416667      0.416667       0.567797      0.500000\n",
       "75%         0.583333      0.541667       0.694915      0.708333\n",
       "max         1.000000      1.000000       1.000000      1.000000"
      ]
     },
     "execution_count": 7,
     "metadata": {},
     "output_type": "execute_result"
    }
   ],
   "source": [
    "df_norm.describe()"
   ]
  },
  {
   "cell_type": "markdown",
   "metadata": {
    "papermill": {
     "duration": 0.080561,
     "end_time": "2024-05-02T11:59:48.336597",
     "exception": false,
     "start_time": "2024-05-02T11:59:48.256036",
     "status": "completed"
    },
    "tags": []
   },
   "source": [
    "Convert the Species labels to indexes for use with neural network.\n",
    "Iris-setoso = 0\n",
    "Iris-versicolor = 1\n",
    "Iris-virginica = 2"
   ]
  },
  {
   "cell_type": "code",
   "execution_count": 8,
   "metadata": {
    "execution": {
     "iopub.execute_input": "2024-05-02T11:59:48.509210Z",
     "iopub.status.busy": "2024-05-02T11:59:48.508570Z",
     "iopub.status.idle": "2024-05-02T11:59:48.512463Z",
     "shell.execute_reply": "2024-05-02T11:59:48.511862Z",
     "shell.execute_reply.started": "2024-04-30T14:29:43.088332Z"
    },
    "papermill": {
     "duration": 0.095083,
     "end_time": "2024-05-02T11:59:48.512577",
     "exception": false,
     "start_time": "2024-05-02T11:59:48.417494",
     "status": "completed"
    },
    "tags": []
   },
   "outputs": [
    {
     "data": {
      "text/html": [
       "<div>\n",
       "<style scoped>\n",
       "    .dataframe tbody tr th:only-of-type {\n",
       "        vertical-align: middle;\n",
       "    }\n",
       "\n",
       "    .dataframe tbody tr th {\n",
       "        vertical-align: top;\n",
       "    }\n",
       "\n",
       "    .dataframe thead th {\n",
       "        text-align: right;\n",
       "    }\n",
       "</style>\n",
       "<table border=\"1\" class=\"dataframe\">\n",
       "  <thead>\n",
       "    <tr style=\"text-align: right;\">\n",
       "      <th></th>\n",
       "      <th>Species</th>\n",
       "    </tr>\n",
       "  </thead>\n",
       "  <tbody>\n",
       "    <tr>\n",
       "      <th>14</th>\n",
       "      <td>0</td>\n",
       "    </tr>\n",
       "    <tr>\n",
       "      <th>12</th>\n",
       "      <td>0</td>\n",
       "    </tr>\n",
       "    <tr>\n",
       "      <th>17</th>\n",
       "      <td>0</td>\n",
       "    </tr>\n",
       "    <tr>\n",
       "      <th>131</th>\n",
       "      <td>2</td>\n",
       "    </tr>\n",
       "    <tr>\n",
       "      <th>2</th>\n",
       "      <td>0</td>\n",
       "    </tr>\n",
       "  </tbody>\n",
       "</table>\n",
       "</div>"
      ],
      "text/plain": [
       "     Species\n",
       "14         0\n",
       "12         0\n",
       "17         0\n",
       "131        2\n",
       "2          0"
      ]
     },
     "execution_count": 8,
     "metadata": {},
     "output_type": "execute_result"
    }
   ],
   "source": [
    "target = data[['Species']].replace(['Iris-setosa','Iris-versicolor','Iris-virginica'],[0,1,2])\n",
    "target.sample(n=5)"
   ]
  },
  {
   "cell_type": "code",
   "execution_count": 9,
   "metadata": {
    "execution": {
     "iopub.execute_input": "2024-05-02T11:59:48.690444Z",
     "iopub.status.busy": "2024-05-02T11:59:48.689447Z",
     "iopub.status.idle": "2024-05-02T11:59:48.693399Z",
     "shell.execute_reply": "2024-05-02T11:59:48.692802Z",
     "shell.execute_reply.started": "2024-04-30T14:29:55.506417Z"
    },
    "papermill": {
     "duration": 0.099184,
     "end_time": "2024-05-02T11:59:48.693523",
     "exception": false,
     "start_time": "2024-05-02T11:59:48.594339",
     "status": "completed"
    },
    "tags": []
   },
   "outputs": [
    {
     "data": {
      "text/html": [
       "<div>\n",
       "<style scoped>\n",
       "    .dataframe tbody tr th:only-of-type {\n",
       "        vertical-align: middle;\n",
       "    }\n",
       "\n",
       "    .dataframe tbody tr th {\n",
       "        vertical-align: top;\n",
       "    }\n",
       "\n",
       "    .dataframe thead th {\n",
       "        text-align: right;\n",
       "    }\n",
       "</style>\n",
       "<table border=\"1\" class=\"dataframe\">\n",
       "  <thead>\n",
       "    <tr style=\"text-align: right;\">\n",
       "      <th></th>\n",
       "      <th>SepalLengthCm</th>\n",
       "      <th>SepalWidthCm</th>\n",
       "      <th>PetalLengthCm</th>\n",
       "      <th>PetalWidthCm</th>\n",
       "      <th>Species</th>\n",
       "    </tr>\n",
       "  </thead>\n",
       "  <tbody>\n",
       "    <tr>\n",
       "      <th>111</th>\n",
       "      <td>0.583333</td>\n",
       "      <td>0.291667</td>\n",
       "      <td>0.728814</td>\n",
       "      <td>0.750000</td>\n",
       "      <td>2</td>\n",
       "    </tr>\n",
       "    <tr>\n",
       "      <th>11</th>\n",
       "      <td>0.138889</td>\n",
       "      <td>0.583333</td>\n",
       "      <td>0.101695</td>\n",
       "      <td>0.041667</td>\n",
       "      <td>0</td>\n",
       "    </tr>\n",
       "    <tr>\n",
       "      <th>55</th>\n",
       "      <td>0.388889</td>\n",
       "      <td>0.333333</td>\n",
       "      <td>0.593220</td>\n",
       "      <td>0.500000</td>\n",
       "      <td>1</td>\n",
       "    </tr>\n",
       "    <tr>\n",
       "      <th>81</th>\n",
       "      <td>0.333333</td>\n",
       "      <td>0.166667</td>\n",
       "      <td>0.457627</td>\n",
       "      <td>0.375000</td>\n",
       "      <td>1</td>\n",
       "    </tr>\n",
       "    <tr>\n",
       "      <th>79</th>\n",
       "      <td>0.388889</td>\n",
       "      <td>0.250000</td>\n",
       "      <td>0.423729</td>\n",
       "      <td>0.375000</td>\n",
       "      <td>1</td>\n",
       "    </tr>\n",
       "  </tbody>\n",
       "</table>\n",
       "</div>"
      ],
      "text/plain": [
       "     SepalLengthCm  SepalWidthCm  PetalLengthCm  PetalWidthCm  Species\n",
       "111       0.583333      0.291667       0.728814      0.750000        2\n",
       "11        0.138889      0.583333       0.101695      0.041667        0\n",
       "55        0.388889      0.333333       0.593220      0.500000        1\n",
       "81        0.333333      0.166667       0.457627      0.375000        1\n",
       "79        0.388889      0.250000       0.423729      0.375000        1"
      ]
     },
     "execution_count": 9,
     "metadata": {},
     "output_type": "execute_result"
    }
   ],
   "source": [
    "df = pd.concat([df_norm, target], axis=1)\n",
    "df.sample(n=5)"
   ]
  },
  {
   "cell_type": "markdown",
   "metadata": {
    "papermill": {
     "duration": 0.082748,
     "end_time": "2024-05-02T11:59:48.858950",
     "exception": false,
     "start_time": "2024-05-02T11:59:48.776202",
     "status": "completed"
    },
    "tags": []
   },
   "source": [
    "# Mark some of the data for testing purpose."
   ]
  },
  {
   "cell_type": "code",
   "execution_count": 10,
   "metadata": {
    "execution": {
     "iopub.execute_input": "2024-05-02T11:59:49.037618Z",
     "iopub.status.busy": "2024-05-02T11:59:49.036677Z",
     "iopub.status.idle": "2024-05-02T11:59:49.040425Z",
     "shell.execute_reply": "2024-05-02T11:59:49.040959Z",
     "shell.execute_reply.started": "2024-04-30T14:32:02.490992Z"
    },
    "papermill": {
     "duration": 0.100005,
     "end_time": "2024-05-02T11:59:49.041084",
     "exception": false,
     "start_time": "2024-05-02T11:59:48.941079",
     "status": "completed"
    },
    "tags": []
   },
   "outputs": [
    {
     "data": {
      "text/html": [
       "<div>\n",
       "<style scoped>\n",
       "    .dataframe tbody tr th:only-of-type {\n",
       "        vertical-align: middle;\n",
       "    }\n",
       "\n",
       "    .dataframe tbody tr th {\n",
       "        vertical-align: top;\n",
       "    }\n",
       "\n",
       "    .dataframe thead th {\n",
       "        text-align: right;\n",
       "    }\n",
       "</style>\n",
       "<table border=\"1\" class=\"dataframe\">\n",
       "  <thead>\n",
       "    <tr style=\"text-align: right;\">\n",
       "      <th></th>\n",
       "      <th>SepalLengthCm</th>\n",
       "      <th>SepalWidthCm</th>\n",
       "      <th>PetalLengthCm</th>\n",
       "      <th>PetalWidthCm</th>\n",
       "      <th>Species</th>\n",
       "      <th>train</th>\n",
       "    </tr>\n",
       "  </thead>\n",
       "  <tbody>\n",
       "    <tr>\n",
       "      <th>38</th>\n",
       "      <td>0.027778</td>\n",
       "      <td>0.416667</td>\n",
       "      <td>0.050847</td>\n",
       "      <td>0.041667</td>\n",
       "      <td>0</td>\n",
       "      <td>True</td>\n",
       "    </tr>\n",
       "    <tr>\n",
       "      <th>113</th>\n",
       "      <td>0.388889</td>\n",
       "      <td>0.208333</td>\n",
       "      <td>0.677966</td>\n",
       "      <td>0.791667</td>\n",
       "      <td>2</td>\n",
       "      <td>True</td>\n",
       "    </tr>\n",
       "    <tr>\n",
       "      <th>121</th>\n",
       "      <td>0.361111</td>\n",
       "      <td>0.333333</td>\n",
       "      <td>0.661017</td>\n",
       "      <td>0.791667</td>\n",
       "      <td>2</td>\n",
       "      <td>True</td>\n",
       "    </tr>\n",
       "    <tr>\n",
       "      <th>17</th>\n",
       "      <td>0.222222</td>\n",
       "      <td>0.625000</td>\n",
       "      <td>0.067797</td>\n",
       "      <td>0.083333</td>\n",
       "      <td>0</td>\n",
       "      <td>True</td>\n",
       "    </tr>\n",
       "    <tr>\n",
       "      <th>111</th>\n",
       "      <td>0.583333</td>\n",
       "      <td>0.291667</td>\n",
       "      <td>0.728814</td>\n",
       "      <td>0.750000</td>\n",
       "      <td>2</td>\n",
       "      <td>True</td>\n",
       "    </tr>\n",
       "  </tbody>\n",
       "</table>\n",
       "</div>"
      ],
      "text/plain": [
       "     SepalLengthCm  SepalWidthCm  PetalLengthCm  PetalWidthCm  Species  train\n",
       "38        0.027778      0.416667       0.050847      0.041667        0   True\n",
       "113       0.388889      0.208333       0.677966      0.791667        2   True\n",
       "121       0.361111      0.333333       0.661017      0.791667        2   True\n",
       "17        0.222222      0.625000       0.067797      0.083333        0   True\n",
       "111       0.583333      0.291667       0.728814      0.750000        2   True"
      ]
     },
     "execution_count": 10,
     "metadata": {},
     "output_type": "execute_result"
    }
   ],
   "source": [
    "train_test_per = 90/100.0\n",
    "df['train'] = np.random.rand(len(df)) < train_test_per\n",
    "df.sample(n=5)"
   ]
  },
  {
   "cell_type": "markdown",
   "metadata": {
    "papermill": {
     "duration": 0.081115,
     "end_time": "2024-05-02T11:59:49.205063",
     "exception": false,
     "start_time": "2024-05-02T11:59:49.123948",
     "status": "completed"
    },
    "tags": []
   },
   "source": [
    "# Separate train and test Data"
   ]
  },
  {
   "cell_type": "code",
   "execution_count": 11,
   "metadata": {
    "execution": {
     "iopub.execute_input": "2024-05-02T11:59:49.383581Z",
     "iopub.status.busy": "2024-05-02T11:59:49.382663Z",
     "iopub.status.idle": "2024-05-02T11:59:49.386573Z",
     "shell.execute_reply": "2024-05-02T11:59:49.385887Z",
     "shell.execute_reply.started": "2024-04-30T14:33:40.736645Z"
    },
    "papermill": {
     "duration": 0.099798,
     "end_time": "2024-05-02T11:59:49.386683",
     "exception": false,
     "start_time": "2024-05-02T11:59:49.286885",
     "status": "completed"
    },
    "tags": []
   },
   "outputs": [
    {
     "data": {
      "text/html": [
       "<div>\n",
       "<style scoped>\n",
       "    .dataframe tbody tr th:only-of-type {\n",
       "        vertical-align: middle;\n",
       "    }\n",
       "\n",
       "    .dataframe tbody tr th {\n",
       "        vertical-align: top;\n",
       "    }\n",
       "\n",
       "    .dataframe thead th {\n",
       "        text-align: right;\n",
       "    }\n",
       "</style>\n",
       "<table border=\"1\" class=\"dataframe\">\n",
       "  <thead>\n",
       "    <tr style=\"text-align: right;\">\n",
       "      <th></th>\n",
       "      <th>SepalLengthCm</th>\n",
       "      <th>SepalWidthCm</th>\n",
       "      <th>PetalLengthCm</th>\n",
       "      <th>PetalWidthCm</th>\n",
       "      <th>Species</th>\n",
       "    </tr>\n",
       "  </thead>\n",
       "  <tbody>\n",
       "    <tr>\n",
       "      <th>101</th>\n",
       "      <td>0.416667</td>\n",
       "      <td>0.291667</td>\n",
       "      <td>0.694915</td>\n",
       "      <td>0.750000</td>\n",
       "      <td>2</td>\n",
       "    </tr>\n",
       "    <tr>\n",
       "      <th>14</th>\n",
       "      <td>0.416667</td>\n",
       "      <td>0.833333</td>\n",
       "      <td>0.033898</td>\n",
       "      <td>0.041667</td>\n",
       "      <td>0</td>\n",
       "    </tr>\n",
       "    <tr>\n",
       "      <th>15</th>\n",
       "      <td>0.388889</td>\n",
       "      <td>1.000000</td>\n",
       "      <td>0.084746</td>\n",
       "      <td>0.125000</td>\n",
       "      <td>0</td>\n",
       "    </tr>\n",
       "    <tr>\n",
       "      <th>86</th>\n",
       "      <td>0.666667</td>\n",
       "      <td>0.458333</td>\n",
       "      <td>0.627119</td>\n",
       "      <td>0.583333</td>\n",
       "      <td>1</td>\n",
       "    </tr>\n",
       "    <tr>\n",
       "      <th>76</th>\n",
       "      <td>0.694444</td>\n",
       "      <td>0.333333</td>\n",
       "      <td>0.644068</td>\n",
       "      <td>0.541667</td>\n",
       "      <td>1</td>\n",
       "    </tr>\n",
       "  </tbody>\n",
       "</table>\n",
       "</div>"
      ],
      "text/plain": [
       "     SepalLengthCm  SepalWidthCm  PetalLengthCm  PetalWidthCm  Species\n",
       "101       0.416667      0.291667       0.694915      0.750000        2\n",
       "14        0.416667      0.833333       0.033898      0.041667        0\n",
       "15        0.388889      1.000000       0.084746      0.125000        0\n",
       "86        0.666667      0.458333       0.627119      0.583333        1\n",
       "76        0.694444      0.333333       0.644068      0.541667        1"
      ]
     },
     "execution_count": 11,
     "metadata": {},
     "output_type": "execute_result"
    }
   ],
   "source": [
    "train = df[df.train == 1]\n",
    "train = train.drop('train', axis=1).sample(frac=1)\n",
    "train.sample(n=5)"
   ]
  },
  {
   "cell_type": "code",
   "execution_count": 12,
   "metadata": {
    "execution": {
     "iopub.execute_input": "2024-05-02T11:59:49.569245Z",
     "iopub.status.busy": "2024-05-02T11:59:49.568439Z",
     "iopub.status.idle": "2024-05-02T11:59:49.572555Z",
     "shell.execute_reply": "2024-05-02T11:59:49.571876Z",
     "shell.execute_reply.started": "2024-04-30T14:33:51.171145Z"
    },
    "papermill": {
     "duration": 0.100109,
     "end_time": "2024-05-02T11:59:49.572665",
     "exception": false,
     "start_time": "2024-05-02T11:59:49.472556",
     "status": "completed"
    },
    "tags": []
   },
   "outputs": [
    {
     "data": {
      "text/html": [
       "<div>\n",
       "<style scoped>\n",
       "    .dataframe tbody tr th:only-of-type {\n",
       "        vertical-align: middle;\n",
       "    }\n",
       "\n",
       "    .dataframe tbody tr th {\n",
       "        vertical-align: top;\n",
       "    }\n",
       "\n",
       "    .dataframe thead th {\n",
       "        text-align: right;\n",
       "    }\n",
       "</style>\n",
       "<table border=\"1\" class=\"dataframe\">\n",
       "  <thead>\n",
       "    <tr style=\"text-align: right;\">\n",
       "      <th></th>\n",
       "      <th>SepalLengthCm</th>\n",
       "      <th>SepalWidthCm</th>\n",
       "      <th>PetalLengthCm</th>\n",
       "      <th>PetalWidthCm</th>\n",
       "      <th>Species</th>\n",
       "    </tr>\n",
       "  </thead>\n",
       "  <tbody>\n",
       "    <tr>\n",
       "      <th>106</th>\n",
       "      <td>0.166667</td>\n",
       "      <td>0.208333</td>\n",
       "      <td>0.593220</td>\n",
       "      <td>0.666667</td>\n",
       "      <td>2</td>\n",
       "    </tr>\n",
       "    <tr>\n",
       "      <th>40</th>\n",
       "      <td>0.194444</td>\n",
       "      <td>0.625000</td>\n",
       "      <td>0.050847</td>\n",
       "      <td>0.083333</td>\n",
       "      <td>0</td>\n",
       "    </tr>\n",
       "    <tr>\n",
       "      <th>24</th>\n",
       "      <td>0.138889</td>\n",
       "      <td>0.583333</td>\n",
       "      <td>0.152542</td>\n",
       "      <td>0.041667</td>\n",
       "      <td>0</td>\n",
       "    </tr>\n",
       "    <tr>\n",
       "      <th>125</th>\n",
       "      <td>0.805556</td>\n",
       "      <td>0.500000</td>\n",
       "      <td>0.847458</td>\n",
       "      <td>0.708333</td>\n",
       "      <td>2</td>\n",
       "    </tr>\n",
       "    <tr>\n",
       "      <th>6</th>\n",
       "      <td>0.083333</td>\n",
       "      <td>0.583333</td>\n",
       "      <td>0.067797</td>\n",
       "      <td>0.083333</td>\n",
       "      <td>0</td>\n",
       "    </tr>\n",
       "  </tbody>\n",
       "</table>\n",
       "</div>"
      ],
      "text/plain": [
       "     SepalLengthCm  SepalWidthCm  PetalLengthCm  PetalWidthCm  Species\n",
       "106       0.166667      0.208333       0.593220      0.666667        2\n",
       "40        0.194444      0.625000       0.050847      0.083333        0\n",
       "24        0.138889      0.583333       0.152542      0.041667        0\n",
       "125       0.805556      0.500000       0.847458      0.708333        2\n",
       "6         0.083333      0.583333       0.067797      0.083333        0"
      ]
     },
     "execution_count": 12,
     "metadata": {},
     "output_type": "execute_result"
    }
   ],
   "source": [
    "test = df[df.train == 0]\n",
    "test = test.drop('train', axis=1)\n",
    "test.sample(n=5)"
   ]
  },
  {
   "cell_type": "code",
   "execution_count": 13,
   "metadata": {
    "execution": {
     "iopub.execute_input": "2024-05-02T11:59:49.747786Z",
     "iopub.status.busy": "2024-05-02T11:59:49.746863Z",
     "iopub.status.idle": "2024-05-02T11:59:49.750953Z",
     "shell.execute_reply": "2024-05-02T11:59:49.750340Z",
     "shell.execute_reply.started": "2024-04-30T14:34:15.810203Z"
    },
    "papermill": {
     "duration": 0.093142,
     "end_time": "2024-05-02T11:59:49.751052",
     "exception": false,
     "start_time": "2024-05-02T11:59:49.657910",
     "status": "completed"
    },
    "tags": []
   },
   "outputs": [
    {
     "data": {
      "text/plain": [
       "array([[0.13888889, 0.41666667, 0.06779661, 0.08333333],\n",
       "       [0.80555556, 0.41666667, 0.81355932, 0.625     ],\n",
       "       [0.75      , 0.5       , 0.62711864, 0.54166667],\n",
       "       [0.16666667, 0.45833333, 0.08474576, 0.        ],\n",
       "       [0.55555556, 0.54166667, 0.62711864, 0.625     ]])"
      ]
     },
     "execution_count": 13,
     "metadata": {},
     "output_type": "execute_result"
    }
   ],
   "source": [
    "X = train.values[:,:4]\n",
    "X[:5]"
   ]
  },
  {
   "cell_type": "code",
   "execution_count": 14,
   "metadata": {
    "execution": {
     "iopub.execute_input": "2024-05-02T11:59:49.952930Z",
     "iopub.status.busy": "2024-05-02T11:59:49.952053Z",
     "iopub.status.idle": "2024-05-02T11:59:49.955618Z",
     "shell.execute_reply": "2024-05-02T11:59:49.956096Z",
     "shell.execute_reply.started": "2024-04-30T14:34:18.249275Z"
    },
    "papermill": {
     "duration": 0.107865,
     "end_time": "2024-05-02T11:59:49.956217",
     "exception": false,
     "start_time": "2024-05-02T11:59:49.848352",
     "status": "completed"
    },
    "tags": []
   },
   "outputs": [
    {
     "data": {
      "text/plain": [
       "array([[1, 0, 0],\n",
       "       [0, 0, 1],\n",
       "       [0, 1, 0],\n",
       "       [1, 0, 0],\n",
       "       [0, 1, 0]])"
      ]
     },
     "execution_count": 14,
     "metadata": {},
     "output_type": "execute_result"
    }
   ],
   "source": [
    "targets = [[1,0,0],[0,1,0],[0,0,1]]\n",
    "y = np.array([targets[int(x)] for x in train.values[:,4:5]])\n",
    "y[:5]"
   ]
  },
  {
   "cell_type": "markdown",
   "metadata": {
    "id": "hVtKxNvFx9U2",
    "papermill": {
     "duration": 0.09042,
     "end_time": "2024-05-02T11:59:50.137795",
     "exception": false,
     "start_time": "2024-05-02T11:59:50.047375",
     "status": "completed"
    },
    "tags": []
   },
   "source": [
    "# Create backpropagating neural network"
   ]
  },
  {
   "cell_type": "markdown",
   "metadata": {
    "papermill": {
     "duration": 0.084832,
     "end_time": "2024-05-02T11:59:50.312168",
     "exception": false,
     "start_time": "2024-05-02T11:59:50.227336",
     "status": "completed"
    },
    "tags": []
   },
   "source": [
    "<H2>Create backpropagating neural network</H2>\n",
    "Create 3 layers: Input, hidden and Output.\n",
    "\n",
    "Inputs = length and widths of the species<BR>\n",
    "Output = 3 values, each one indicating a species. ie Values 1, 0, 0 for the output indicates Iris-setosa<BR>\n",
    "w1 is a matrices of weight connecting Input and the hidden layer. Each node in input layer connects to each node in the hidden layer.\n",
    "\n",
    "Weight are randomized between -1 and 1."
   ]
  },
  {
   "cell_type": "code",
   "execution_count": 15,
   "metadata": {
    "execution": {
     "iopub.execute_input": "2024-05-02T11:59:50.488269Z",
     "iopub.status.busy": "2024-05-02T11:59:50.487496Z",
     "iopub.status.idle": "2024-05-02T11:59:50.491329Z",
     "shell.execute_reply": "2024-05-02T11:59:50.490788Z",
     "shell.execute_reply.started": "2024-04-30T14:39:40.365335Z"
    },
    "id": "BiwNHC5jOoff",
    "papermill": {
     "duration": 0.094791,
     "end_time": "2024-05-02T11:59:50.491430",
     "exception": false,
     "start_time": "2024-05-02T11:59:50.396639",
     "status": "completed"
    },
    "tags": []
   },
   "outputs": [
    {
     "data": {
      "text/plain": [
       "array([[ 0.93405968,  0.0944645 ,  0.94536872,  0.42963199,  0.39545765],\n",
       "       [-0.56782101,  0.95254891, -0.98753949, -0.49403528, -0.13041694],\n",
       "       [ 0.55876584, -0.60462985,  0.72598647,  0.96680135, -0.67231552],\n",
       "       [ 0.19466789, -0.9820278 , -0.22685743, -0.91167988,  0.91330594]])"
      ]
     },
     "execution_count": 15,
     "metadata": {},
     "output_type": "execute_result"
    }
   ],
   "source": [
    "num_inputs = len(X[0])\n",
    "hidden_layer_neurons = 5\n",
    "np.random.seed(4)\n",
    "w1 = 2*np.random.random((num_inputs, hidden_layer_neurons)) - 1\n",
    "w1"
   ]
  },
  {
   "cell_type": "markdown",
   "metadata": {
    "papermill": {
     "duration": 0.08971,
     "end_time": "2024-05-02T11:59:50.671246",
     "exception": false,
     "start_time": "2024-05-02T11:59:50.581536",
     "status": "completed"
    },
    "tags": []
   },
   "source": [
    "w2 are the weights of connections between hidden layer and output layer"
   ]
  },
  {
   "cell_type": "code",
   "execution_count": 16,
   "metadata": {
    "execution": {
     "iopub.execute_input": "2024-05-02T11:59:50.863594Z",
     "iopub.status.busy": "2024-05-02T11:59:50.862716Z",
     "iopub.status.idle": "2024-05-02T11:59:50.866922Z",
     "shell.execute_reply": "2024-05-02T11:59:50.866248Z",
     "shell.execute_reply.started": "2024-04-30T14:40:07.093539Z"
    },
    "papermill": {
     "duration": 0.095324,
     "end_time": "2024-05-02T11:59:50.867029",
     "exception": false,
     "start_time": "2024-05-02T11:59:50.771705",
     "status": "completed"
    },
    "tags": []
   },
   "outputs": [
    {
     "data": {
      "text/plain": [
       "array([[-0.12770671,  0.89795461,  0.57261197],\n",
       "       [ 0.7325786 , -0.65366916, -0.85010283],\n",
       "       [ 0.20148544, -0.66405563,  0.46676034],\n",
       "       [-0.18311228,  0.05581765,  0.87514317],\n",
       "       [ 0.04339224, -0.78361323, -0.68355319]])"
      ]
     },
     "execution_count": 16,
     "metadata": {},
     "output_type": "execute_result"
    }
   ],
   "source": [
    "num_outputs = len(y[0])\n",
    "w2 = 2*np.random.random((hidden_layer_neurons, num_outputs)) - 1\n",
    "w2"
   ]
  },
  {
   "cell_type": "markdown",
   "metadata": {
    "id": "A9CrehG0AmoT",
    "papermill": {
     "duration": 0.103707,
     "end_time": "2024-05-02T11:59:51.056686",
     "exception": false,
     "start_time": "2024-05-02T11:59:50.952979",
     "status": "completed"
    },
    "tags": []
   },
   "source": [
    "<H2>Train the network by updating the weights using backpropogation.</H2>\n",
    "This is the crux of the network. The layers are fed forward using sigmoid activation function. The weighs are then updated based on error using gradient descent.\n",
    "\n",
    "<pre>\n",
    "Forward Propagation ( use current weights to caluculate output ):\n",
    "> node activation = output from previous layer (network inputs in case of first layer) * weights\n",
    "> node output = sigmoid activation function = 1 / ( 1 + exp( node activation ) )\n",
    "\n",
    "Backpropagation ( update network weights ):\n",
    "Error calculation ( how far off we are from the expected values ):\n",
    "> derivative (different for different activation functions) = output * ( 1 - output )\n",
    "> error (for the last layer) = ( expected - output ) * derivative\n",
    "> error (for other layers) = ( error calulated previously * that layer's weight ) * derivative\n",
    "Update weight based on error caculated:\n",
    "> Weight = weight + ( output * error * learning rate )\n",
    "</pre>"
   ]
  },
  {
   "cell_type": "code",
   "execution_count": 17,
   "metadata": {
    "execution": {
     "iopub.execute_input": "2024-05-02T11:59:51.265288Z",
     "iopub.status.busy": "2024-05-02T11:59:51.264266Z",
     "iopub.status.idle": "2024-05-02T11:59:51.266903Z",
     "shell.execute_reply": "2024-05-02T11:59:51.267608Z",
     "shell.execute_reply.started": "2024-04-30T14:41:12.569696Z"
    },
    "id": "xHH94y2EPcBz",
    "outputId": "0c5c0e55-04e3-415d-f49d-5af86739e538",
    "papermill": {
     "duration": 0.116505,
     "end_time": "2024-05-02T11:59:51.267778",
     "exception": false,
     "start_time": "2024-05-02T11:59:51.151273",
     "status": "completed"
    },
    "tags": []
   },
   "outputs": [],
   "source": [
    "# taken from> https://gist.github.com/craffel/2d727968c3aaebd10359\n",
    "def draw_neural_net(ax, left, right, bottom, top, layer_sizes):\n",
    "    '''\n",
    "    Draw a neural network cartoon using matplotilb.\n",
    "    \n",
    "    :usage:\n",
    "        >>> fig = plt.figure(figsize=(12, 12))\n",
    "        >>> draw_neural_net(fig.gca(), .1, .9, .1, .9, [4, 7, 2])\n",
    "    \n",
    "    :parameters:\n",
    "        - ax : matplotlib.axes.AxesSubplot\n",
    "            The axes on which to plot the cartoon (get e.g. by plt.gca())\n",
    "        - left : float\n",
    "            The center of the leftmost node(s) will be placed here\n",
    "        - right : float\n",
    "            The center of the rightmost node(s) will be placed here\n",
    "        - bottom : float\n",
    "            The center of the bottommost node(s) will be placed here\n",
    "        - top : float\n",
    "            The center of the topmost node(s) will be placed here\n",
    "        - layer_sizes : list of int\n",
    "            List of layer sizes, including input and output dimensionality\n",
    "    '''\n",
    "    n_layers = len(layer_sizes)\n",
    "    v_spacing = (top - bottom)/float(max(layer_sizes))\n",
    "    h_spacing = (right - left)/float(len(layer_sizes) - 1)\n",
    "    # Nodes\n",
    "    for n, layer_size in enumerate(layer_sizes):\n",
    "        layer_top = v_spacing*(layer_size - 1)/2. + (top + bottom)/2.\n",
    "        for m in range(layer_size):\n",
    "            circle = plt.Circle((n*h_spacing + left, layer_top - m*v_spacing), v_spacing/4.,\n",
    "                                color='w', ec='k', zorder=4)\n",
    "            ax.add_artist(circle)\n",
    "    # Edges\n",
    "    for n, (layer_size_a, layer_size_b) in enumerate(zip(layer_sizes[:-1], layer_sizes[1:])):\n",
    "        layer_top_a = v_spacing*(layer_size_a - 1)/2. + (top + bottom)/2.\n",
    "        layer_top_b = v_spacing*(layer_size_b - 1)/2. + (top + bottom)/2.\n",
    "        for m in range(layer_size_a):\n",
    "            for o in range(layer_size_b):\n",
    "                line = plt.Line2D([n*h_spacing + left, (n + 1)*h_spacing + left],\n",
    "                                  [layer_top_a - m*v_spacing, layer_top_b - o*v_spacing], c='k')\n",
    "                ax.add_artist(line)"
   ]
  },
  {
   "cell_type": "markdown",
   "metadata": {
    "papermill": {
     "duration": 0.102455,
     "end_time": "2024-05-02T11:59:51.469380",
     "exception": false,
     "start_time": "2024-05-02T11:59:51.366925",
     "status": "completed"
    },
    "tags": []
   },
   "source": [
    "**A Graphical representations of our network will be something like below**<BR>\n",
    "The first set of 4 nodes is the input.<BR>\n",
    "The second set of 5 nodes is the hidden layer. <BR>\n",
    "The last set of 3 nodes is the output layer.<BR><BR>\n",
    "All the nodes of a layer are fully connected to all nodes of the next layer."
   ]
  },
  {
   "cell_type": "code",
   "execution_count": 18,
   "metadata": {
    "execution": {
     "iopub.execute_input": "2024-05-02T11:59:51.662526Z",
     "iopub.status.busy": "2024-05-02T11:59:51.655340Z",
     "iopub.status.idle": "2024-05-02T11:59:51.784376Z",
     "shell.execute_reply": "2024-05-02T11:59:51.783791Z",
     "shell.execute_reply.started": "2024-04-30T14:41:44.592377Z"
    },
    "papermill": {
     "duration": 0.229823,
     "end_time": "2024-05-02T11:59:51.784533",
     "exception": false,
     "start_time": "2024-05-02T11:59:51.554710",
     "status": "completed"
    },
    "tags": []
   },
   "outputs": [
    {
     "data": {
      "image/png": "[encoded data removed]",
      "text/plain": [
       "<Figure size 864x864 with 1 Axes>"
      ]
     },
     "metadata": {
      "needs_background": "light"
     },
     "output_type": "display_data"
    }
   ],
   "source": [
    "fig = plt.figure(figsize=(12, 12))\n",
    "ax = fig.gca()\n",
    "ax.axis('off')\n",
    "draw_neural_net(ax, .1, .9, .1, .9, [4, 5, 3])"
   ]
  },
  {
   "cell_type": "markdown",
   "metadata": {
    "papermill": {
     "duration": 0.087787,
     "end_time": "2024-05-02T11:59:51.962642",
     "exception": false,
     "start_time": "2024-05-02T11:59:51.874855",
     "status": "completed"
    },
    "tags": []
   },
   "source": [
    "\n",
    "The sigmoid activation function squashes the input values between 0 and 1. This provides a consistant way for the network to deal with outputs."
   ]
  },
  {
   "cell_type": "code",
   "execution_count": 19,
   "metadata": {
    "execution": {
     "iopub.execute_input": "2024-05-02T11:59:52.146031Z",
     "iopub.status.busy": "2024-05-02T11:59:52.145375Z",
     "iopub.status.idle": "2024-05-02T11:59:52.148641Z",
     "shell.execute_reply": "2024-05-02T11:59:52.148093Z",
     "shell.execute_reply.started": "2024-04-30T14:47:05.173356Z"
    },
    "papermill": {
     "duration": 0.096013,
     "end_time": "2024-05-02T11:59:52.148748",
     "exception": false,
     "start_time": "2024-05-02T11:59:52.052735",
     "status": "completed"
    },
    "tags": []
   },
   "outputs": [],
   "source": [
    "# sigmoid function representation\n",
    "_x = np.linspace( -5, 5, 50 )\n",
    "_y = 1 / ( 1 + np.exp( -_x ) )"
   ]
  },
  {
   "cell_type": "markdown",
   "metadata": {
    "papermill": {
     "duration": 0.086829,
     "end_time": "2024-05-02T11:59:52.323175",
     "exception": false,
     "start_time": "2024-05-02T11:59:52.236346",
     "status": "completed"
    },
    "tags": []
   },
   "source": [
    "# Training"
   ]
  },
  {
   "cell_type": "code",
   "execution_count": 20,
   "metadata": {
    "execution": {
     "iopub.execute_input": "2024-05-02T11:59:52.509385Z",
     "iopub.status.busy": "2024-05-02T11:59:52.508774Z",
     "iopub.status.idle": "2024-05-02T11:59:52.625222Z",
     "shell.execute_reply": "2024-05-02T11:59:52.624598Z",
     "shell.execute_reply.started": "2024-04-30T14:47:06.572579Z"
    },
    "papermill": {
     "duration": 0.213509,
     "end_time": "2024-05-02T11:59:52.625327",
     "exception": false,
     "start_time": "2024-05-02T11:59:52.411818",
     "status": "completed"
    },
    "tags": []
   },
   "outputs": [
    {
     "name": "stdout",
     "output_type": "stream",
     "text": [
      "Error: 0.10346535305277953\n"
     ]
    }
   ],
   "source": [
    "learning_rate = 0.2 # slowly update the network\n",
    "error = []\n",
    "for epoch in range(1000):\n",
    "    # activate the first layer using the input\n",
    "    #   matrix multiplication between the input and the layer 1 weights\n",
    "    #   result is fed into a sigmoid function\n",
    "    l1 = 1/(1 + np.exp(-(np.dot(X, w1))))\n",
    "    # activate the second layer using first layer as input\n",
    "    l2 = 1/(1 + np.exp(-(np.dot(l1, w2))))\n",
    "    # find the average errorof this batch\n",
    "    #   using absolute, can use use square as well\n",
    "    er = (abs(y - l2)).mean()\n",
    "    error.append(er)\n",
    "    \n",
    "    # BACKPROPAGATION / learning!\n",
    "    # find contribution of error on each weight on the second layer\n",
    "    l2_delta = (y - l2)*(l2 * (1-l2))\n",
    "    # update each weight in the second layer slowly\n",
    "    w2 += l1.T.dot(l2_delta) * learning_rate\n",
    "    \n",
    "    # find contribution of error on each weight on the second layer w.r.t the first layer\n",
    "    l1_delta = l2_delta.dot(w2.T) * (l1 * (1-l1))\n",
    "    # udpate weights in the first layer\n",
    "    w1 += X.T.dot(l1_delta) * learning_rate\n",
    "    \n",
    "print('Error:', er)"
   ]
  },
  {
   "cell_type": "code",
   "execution_count": 21,
   "metadata": {
    "execution": {
     "iopub.execute_input": "2024-05-02T11:59:52.817125Z",
     "iopub.status.busy": "2024-05-02T11:59:52.816074Z",
     "iopub.status.idle": "2024-05-02T11:59:52.966032Z",
     "shell.execute_reply": "2024-05-02T11:59:52.966564Z",
     "shell.execute_reply.started": "2024-04-30T14:47:07.693690Z"
    },
    "papermill": {
     "duration": 0.250943,
     "end_time": "2024-05-02T11:59:52.966716",
     "exception": false,
     "start_time": "2024-05-02T11:59:52.715773",
     "status": "completed"
    },
    "tags": []
   },
   "outputs": [
    {
     "data": {
      "text/plain": [
       "[<matplotlib.lines.Line2D at 0x7d138d59d510>]"
      ]
     },
     "execution_count": 21,
     "metadata": {},
     "output_type": "execute_result"
    },
    {
     "data": {
      "image/png": "[encoded data removed]",
      "text/plain": [
       "<Figure size 432x288 with 1 Axes>"
      ]
     },
     "metadata": {
      "needs_background": "light"
     },
     "output_type": "display_data"
    }
   ],
   "source": [
    "plt.plot(error)"
   ]
  },
  {
   "cell_type": "markdown",
   "metadata": {
    "papermill": {
     "duration": 0.089371,
     "end_time": "2024-05-02T11:59:53.148492",
     "exception": false,
     "start_time": "2024-05-02T11:59:53.059121",
     "status": "completed"
    },
    "tags": []
   },
   "source": [
    "# Test the network for accuracy."
   ]
  },
  {
   "cell_type": "code",
   "execution_count": 22,
   "metadata": {
    "execution": {
     "iopub.execute_input": "2024-05-02T11:59:53.341077Z",
     "iopub.status.busy": "2024-05-02T11:59:53.340257Z",
     "iopub.status.idle": "2024-05-02T11:59:53.344243Z",
     "shell.execute_reply": "2024-05-02T11:59:53.343686Z",
     "shell.execute_reply.started": "2024-04-30T14:47:11.300141Z"
    },
    "papermill": {
     "duration": 0.103879,
     "end_time": "2024-05-02T11:59:53.344343",
     "exception": false,
     "start_time": "2024-05-02T11:59:53.240464",
     "status": "completed"
    },
    "tags": []
   },
   "outputs": [
    {
     "data": {
      "text/plain": [
       "array([[0.998, 0.001, 0.007],\n",
       "       [0.998, 0.004, 0.001],\n",
       "       [0.998, 0.001, 0.005],\n",
       "       [0.998, 0.   , 0.009],\n",
       "       [0.999, 0.001, 0.005],\n",
       "       [0.998, 0.001, 0.003],\n",
       "       [0.002, 0.98 , 0.004],\n",
       "       [0.003, 0.998, 0.   ],\n",
       "       [0.014, 1.   , 0.   ],\n",
       "       [0.   , 0.135, 0.862],\n",
       "       [0.   , 0.737, 0.297],\n",
       "       [0.   , 0.773, 0.437],\n",
       "       [0.   , 0.838, 0.379],\n",
       "       [0.   , 0.529, 0.625],\n",
       "       [0.003, 0.991, 0.001],\n",
       "       [0.001, 0.942, 0.019],\n",
       "       [0.   , 0.736, 0.196]])"
      ]
     },
     "execution_count": 22,
     "metadata": {},
     "output_type": "execute_result"
    }
   ],
   "source": [
    "X = test.values[:,:4]\n",
    "y = np.array([targets[int(x)] for x in test.values[:,4:5]])\n",
    "\n",
    "l1 = 1/(1 + np.exp(-(np.dot(X, w1))))\n",
    "l2 = 1/(1 + np.exp(-(np.dot(l1, w2))))\n",
    "\n",
    "np.round(l2,3)"
   ]
  },
  {
   "cell_type": "markdown",
   "metadata": {
    "papermill": {
     "duration": 0.093008,
     "end_time": "2024-05-02T11:59:53.530297",
     "exception": false,
     "start_time": "2024-05-02T11:59:53.437289",
     "status": "completed"
    },
    "tags": []
   },
   "source": [
    "\n",
    "From the above maxtrix we take the maximum value (per row), which forms our predictions..."
   ]
  },
  {
   "cell_type": "code",
   "execution_count": 23,
   "metadata": {
    "execution": {
     "iopub.execute_input": "2024-05-02T11:59:53.729003Z",
     "iopub.status.busy": "2024-05-02T11:59:53.728340Z",
     "iopub.status.idle": "2024-05-02T11:59:53.731940Z",
     "shell.execute_reply": "2024-05-02T11:59:53.731390Z",
     "shell.execute_reply.started": "2024-04-30T14:47:12.523876Z"
    },
    "papermill": {
     "duration": 0.111238,
     "end_time": "2024-05-02T11:59:53.732045",
     "exception": false,
     "start_time": "2024-05-02T11:59:53.620807",
     "status": "completed"
    },
    "tags": []
   },
   "outputs": [
    {
     "name": "stdout",
     "output_type": "stream",
     "text": [
      "             Species       Prediction\n",
      "6        Iris-setosa      Iris-setosa\n",
      "24       Iris-setosa      Iris-setosa\n",
      "35       Iris-setosa      Iris-setosa\n",
      "40       Iris-setosa      Iris-setosa\n",
      "42       Iris-setosa      Iris-setosa\n",
      "49       Iris-setosa      Iris-setosa\n",
      "61   Iris-versicolor  Iris-versicolor\n",
      "63   Iris-versicolor  Iris-versicolor\n",
      "91   Iris-versicolor  Iris-versicolor\n",
      "100   Iris-virginica   Iris-virginica\n",
      "103   Iris-virginica  Iris-versicolor\n",
      "106   Iris-virginica  Iris-versicolor\n",
      "108   Iris-virginica  Iris-versicolor\n",
      "122   Iris-virginica   Iris-virginica\n",
      "125   Iris-virginica  Iris-versicolor\n",
      "137   Iris-virginica  Iris-versicolor\n",
      "149   Iris-virginica  Iris-versicolor\n",
      "Correct: 11 / 17 : 64.70588235294117 %\n"
     ]
    }
   ],
   "source": [
    "yp = np.argmax(l2, axis=1) # prediction\n",
    "res = yp == np.argmax(y, axis=1)\n",
    "correct = np.sum(res)/len(res)\n",
    "\n",
    "testres = test[['Species']].replace([0,1,2], ['Iris-setosa','Iris-versicolor','Iris-virginica'])\n",
    "\n",
    "testres['Prediction'] = yp\n",
    "testres['Prediction'] = testres['Prediction'].replace([0,1,2], ['Iris-setosa','Iris-versicolor','Iris-virginica'])\n",
    "\n",
    "print(testres)\n",
    "print('Correct:',sum(res),'/',len(res), ':', (correct*100),'%')"
   ]
  },
  {
   "cell_type": "markdown",
   "metadata": {
    "papermill": {
     "duration": 0.090775,
     "end_time": "2024-05-02T11:59:53.913447",
     "exception": false,
     "start_time": "2024-05-02T11:59:53.822672",
     "status": "completed"
    },
    "tags": []
   },
   "source": [
    "<a id=\"19\"></a> <br>\n",
    "# L Layer Neural Network or Deep Neural Network\n",
    "* **What happens if number of hidden layer increase:** Earlier layerls can detect simple features.\n",
    "* When model composing simple features together in later layers of neural network that it can learn more and more complex functions. For example, lets look at our sign one.\n",
    "<a href=\"http://ibb.co/dNgDJH\"><img src=\"http://preview.ibb.co/mpD4Qx/10.jpg\" alt=\"10\" border=\"0\"></a>\n",
    "* For example first hidden layer learns edges or basic shapes like line. When number of layer increase, layers start to learn more complex things like convex shapes or characteristic features like forefinger.\n",
    "* Lets create our model\n",
    "    * There are some hyperparameters we need to choose like learning rate, number of iterations, number of hidden layer, number of hidden units, type of activation functions. Woww it is too much :)\n",
    "    * These hyperparameters can be chosen intiutively if you spend a lot of time in deep learning world.\n",
    "    * However, if you do not spend too much time, the best way is to google it but it is not necessary. You need to try hyperparameters to find best one.\n",
    "\n",
    "\n",
    "\n",
    "    \n",
    "    "
   ]
  },
  {
   "cell_type": "markdown",
   "metadata": {
    "papermill": {
     "duration": 0.089939,
     "end_time": "2024-05-02T11:59:54.094539",
     "exception": false,
     "start_time": "2024-05-02T11:59:54.004600",
     "status": "completed"
    },
    "tags": []
   },
   "source": [
    "# Deep Neural Network on Fashion MNIST data. <a class=\"anchor\" id=\"dnn\"></a>\n",
    "Now, it's time to work on a real data and build a more robust deep neural network.\n",
    "We will use the Fashion MNIST dataset for our purpose.<br>\n",
    "Fashion-MNIST is a dataset of Zalando’s article images consisting of a training set of 60,000 examples and a test set of 10,000 examples.\n",
    "Each example is a 28×28 grayscale image, associated with a label from 10 classes."
   ]
  },
  {
   "cell_type": "code",
   "execution_count": 24,
   "metadata": {
    "execution": {
     "iopub.execute_input": "2024-05-02T11:59:54.281727Z",
     "iopub.status.busy": "2024-05-02T11:59:54.281050Z",
     "iopub.status.idle": "2024-05-02T12:00:03.733576Z",
     "shell.execute_reply": "2024-05-02T12:00:03.733034Z",
     "shell.execute_reply.started": "2024-04-30T15:04:52.122946Z"
    },
    "papermill": {
     "duration": 9.548665,
     "end_time": "2024-05-02T12:00:03.733698",
     "exception": false,
     "start_time": "2024-05-02T11:59:54.185033",
     "status": "completed"
    },
    "tags": []
   },
   "outputs": [
    {
     "name": "stdout",
     "output_type": "stream",
     "text": [
      "Downloading data from https://storage.googleapis.com/tensorflow/tf-keras-datasets/train-labels-idx1-ubyte.gz\n",
      "32768/29515 [=================================] - 0s 0us/step\n",
      "Downloading data from https://storage.googleapis.com/tensorflow/tf-keras-datasets/train-images-idx3-ubyte.gz\n",
      "26427392/26421880 [==============================] - 1s 0us/step\n",
      "Downloading data from https://storage.googleapis.com/tensorflow/tf-keras-datasets/t10k-labels-idx1-ubyte.gz\n",
      "8192/5148 [===============================================] - 0s 0us/step\n",
      "Downloading data from https://storage.googleapis.com/tensorflow/tf-keras-datasets/t10k-images-idx3-ubyte.gz\n",
      "4423680/4422102 [==============================] - 1s 0us/step\n",
      "(45000, 28, 28) (15000, 28, 28) (10000, 28, 28)\n"
     ]
    }
   ],
   "source": [
    "import tensorflow as tf\n",
    "from sklearn.model_selection import train_test_split\n",
    "mnist_fashion = tf.keras.datasets.fashion_mnist\n",
    "(x_train, y_train),(x_test, y_test) = mnist_fashion.load_data()\n",
    "\n",
    "# split training set into training set and validation set using train_test_split provided by scikit-learn \n",
    "x_train, x_val, y_train, y_val = train_test_split(x_train, y_train, test_size=0.25, random_state=77)\n",
    "\n",
    "num_classes = 10   # The items in the dataset are to be classified into 1 of the 10 classes.\n",
    "\n",
    "print(x_train.shape, x_val.shape, x_test.shape)"
   ]
  },
  {
   "cell_type": "markdown",
   "metadata": {
    "papermill": {
     "duration": 0.10409,
     "end_time": "2024-05-02T12:00:03.943498",
     "exception": false,
     "start_time": "2024-05-02T12:00:03.839408",
     "status": "completed"
    },
    "tags": []
   },
   "source": [
    "Plot some sample images from the dataset."
   ]
  },
  {
   "cell_type": "code",
   "execution_count": 25,
   "metadata": {
    "execution": {
     "iopub.execute_input": "2024-05-02T12:00:04.165240Z",
     "iopub.status.busy": "2024-05-02T12:00:04.164648Z",
     "iopub.status.idle": "2024-05-02T12:00:04.881120Z",
     "shell.execute_reply": "2024-05-02T12:00:04.881683Z",
     "shell.execute_reply.started": "2024-04-30T15:04:54.389984Z"
    },
    "papermill": {
     "duration": 0.834171,
     "end_time": "2024-05-02T12:00:04.881834",
     "exception": false,
     "start_time": "2024-05-02T12:00:04.047663",
     "status": "completed"
    },
    "tags": []
   },
   "outputs": [
    {
     "data": {
      "image/png": "[encoded data removed]",
      "text/plain": [
       "<Figure size 432x432 with 16 Axes>"
      ]
     },
     "metadata": {},
     "output_type": "display_data"
    }
   ],
   "source": [
    "import matplotlib.pyplot as plt\n",
    "class_names = ['T-shirt/top', 'Trouser', 'Pullover', 'Dress', 'Coat', \n",
    "               'Sandal', 'Shirt', 'Sneaker', 'Bag', 'Ankle boot']\n",
    "\n",
    "plt.figure(figsize=(6,6))\n",
    "for i in range(16):\n",
    "    plt.subplot(4,4,i+1)\n",
    "    plt.xticks([])\n",
    "    plt.yticks([])\n",
    "    plt.grid(False)\n",
    "    plt.imshow(x_train[i], cmap=plt.cm.binary)\n",
    "    plt.xlabel(class_names[y_train[i]])\n",
    "plt.show()"
   ]
  },
  {
   "cell_type": "markdown",
   "metadata": {
    "papermill": {
     "duration": 0.106424,
     "end_time": "2024-05-02T12:00:05.097331",
     "exception": false,
     "start_time": "2024-05-02T12:00:04.990907",
     "status": "completed"
    },
    "tags": []
   },
   "source": [
    "### Build a deep neural network on this dataset. <a class=\"anchor\" id=\"bdnn\"></a>"
   ]
  },
  {
   "cell_type": "code",
   "execution_count": 26,
   "metadata": {
    "execution": {
     "iopub.execute_input": "2024-05-02T12:00:05.325654Z",
     "iopub.status.busy": "2024-05-02T12:00:05.325042Z",
     "iopub.status.idle": "2024-05-02T12:00:05.346385Z",
     "shell.execute_reply": "2024-05-02T12:00:05.345870Z",
     "shell.execute_reply.started": "2024-04-30T15:07:07.490949Z"
    },
    "papermill": {
     "duration": 0.142883,
     "end_time": "2024-05-02T12:00:05.346526",
     "exception": false,
     "start_time": "2024-05-02T12:00:05.203643",
     "status": "completed"
    },
    "tags": []
   },
   "outputs": [],
   "source": [
    "from tensorflow.keras.layers import Flatten\n",
    "from tensorflow.keras.models import Sequential\n",
    "from tensorflow.keras.layers import Dense\n",
    "from tensorflow.keras.optimizers import Adam, SGD, Adadelta, Adagrad, Adamax, Nadam, RMSprop\n",
    "adam = Adam(lr=0.001, beta_1=0.9, beta_2=0.999, epsilon=None, decay=0.0, amsgrad=False)\n",
    "sgd = SGD(lr=0.001, momentum=0.0, decay=0.0, nesterov=False)\n",
    "adad = Adadelta(lr=1.0,rho=0.95,epsilon=None,decay=0.0)\n",
    "adag = Adagrad(lr=0.01,epsilon=None,decay=0.0)\n",
    "adamax = Adamax(lr=0.002,beta_1=0.9,beta_2=0.999,epsilon=None,decay=0.0)\n",
    "nadam = Nadam(lr=0.002,beta_1=0.9,beta_2=0.999,epsilon=None,schedule_decay=0.004)\n",
    "rms = RMSprop(lr=0.001,rho=0.9,epsilon=None,decay=0.0)\n",
    "\n",
    "loss = ['sparse_categorical_crossentropy','mean_squared_error','mean_absolute_error',\n",
    "        'categorical_crossentropy','categorical_hinge']\n",
    "\n",
    "metrics = ['accuracy','precision','recall']\n",
    "\n",
    "model = Sequential()\n",
    "model.add(Flatten())  # This function flattens the input data\n",
    "\n",
    "# Feel free to play around with different parameters here like number of units in each layer or switching the activation function or increasing/decreasing the number of layers.\n",
    "model.add(Dense(512, activation='relu'))    \n",
    "\n",
    "model.add(Dense(256, activation='relu')) \n",
    "\n",
    "model.add(Dense(128, activation='relu'))\n",
    "\n",
    "model.add(Dense(64, activation='relu'))\n",
    "\n",
    "model.add(Dense(10, activation='softmax'))   # The number of units in the last layer should always be the number of classes in which we have to classify our input data."
   ]
  },
  {
   "cell_type": "code",
   "execution_count": 27,
   "metadata": {
    "execution": {
     "iopub.execute_input": "2024-05-02T12:00:09.220215Z",
     "iopub.status.busy": "2024-05-02T12:00:06.067644Z",
     "iopub.status.idle": "2024-05-02T12:00:09.518693Z",
     "shell.execute_reply": "2024-05-02T12:00:09.518088Z",
     "shell.execute_reply.started": "2024-04-30T15:07:13.496375Z"
    },
    "papermill": {
     "duration": 4.065205,
     "end_time": "2024-05-02T12:00:09.518813",
     "exception": false,
     "start_time": "2024-05-02T12:00:05.453608",
     "status": "completed"
    },
    "tags": []
   },
   "outputs": [],
   "source": [
    "model.compile(optimizer=adam, loss=loss[0], metrics=metrics[0])"
   ]
  },
  {
   "cell_type": "markdown",
   "metadata": {
    "papermill": {
     "duration": 0.111958,
     "end_time": "2024-05-02T12:00:09.738531",
     "exception": false,
     "start_time": "2024-05-02T12:00:09.626573",
     "status": "completed"
    },
    "tags": []
   },
   "source": [
    "### Training"
   ]
  },
  {
   "cell_type": "code",
   "execution_count": 28,
   "metadata": {
    "execution": {
     "iopub.execute_input": "2024-05-02T12:00:09.989206Z",
     "iopub.status.busy": "2024-05-02T12:00:09.988492Z",
     "iopub.status.idle": "2024-05-02T12:00:46.225694Z",
     "shell.execute_reply": "2024-05-02T12:00:46.224962Z",
     "shell.execute_reply.started": "2024-04-30T15:07:48.887068Z"
    },
    "papermill": {
     "duration": 36.380415,
     "end_time": "2024-05-02T12:00:46.225831",
     "exception": false,
     "start_time": "2024-05-02T12:00:09.845416",
     "status": "completed"
    },
    "tags": []
   },
   "outputs": [
    {
     "name": "stdout",
     "output_type": "stream",
     "text": [
      "1407/1407 [==============================] - 2s 2ms/step - loss: 0.1730 - accuracy: 0.9354\n",
      "313/313 [==============================] - 1s 2ms/step - loss: 0.5199 - accuracy: 0.8770\n",
      "Train: 0.935, Test: 0.877\n"
     ]
    }
   ],
   "source": [
    "batch_size = 128\n",
    "epochs = 50\n",
    "\n",
    "history = model.fit(x=x_train, y=y_train, batch_size=batch_size, epochs=epochs, verbose=0, validation_data=(x_val, y_val))  # You can set verbose to 1 to get the status of your model training, 2 to get one line per epoch, here I kept it 0 to keep the notebook precise. \n",
    "\n",
    "_, train_acc = model.evaluate(x_train, y_train, verbose=1)\n",
    "_, test_acc = model.evaluate(x_test, y_test, verbose=1)\n",
    "print('Train: %.3f, Test: %.3f' % (train_acc, test_acc))"
   ]
  },
  {
   "cell_type": "markdown",
   "metadata": {
    "papermill": {
     "duration": 0.127515,
     "end_time": "2024-05-02T12:00:46.481552",
     "exception": false,
     "start_time": "2024-05-02T12:00:46.354037",
     "status": "completed"
    },
    "tags": []
   },
   "source": [
    "# Plot the training history visualisation "
   ]
  },
  {
   "cell_type": "code",
   "execution_count": 29,
   "metadata": {
    "execution": {
     "iopub.execute_input": "2024-05-02T12:00:46.750465Z",
     "iopub.status.busy": "2024-05-02T12:00:46.749587Z",
     "iopub.status.idle": "2024-05-02T12:00:46.752407Z",
     "shell.execute_reply": "2024-05-02T12:00:46.751944Z",
     "shell.execute_reply.started": "2024-04-30T15:09:21.903859Z"
    },
    "papermill": {
     "duration": 0.142263,
     "end_time": "2024-05-02T12:00:46.752556",
     "exception": false,
     "start_time": "2024-05-02T12:00:46.610293",
     "status": "completed"
    },
    "tags": []
   },
   "outputs": [],
   "source": [
    "def plot_history(history):\n",
    "    # Plot training & validation accuracy values\n",
    "    plt.plot(history.history['accuracy'])\n",
    "    plt.plot(history.history['val_accuracy'])\n",
    "    plt.title('Model accuracy')\n",
    "    plt.ylabel('Accuracy')\n",
    "    plt.xlabel('Epoch')\n",
    "    plt.legend(['Train', 'Val'], loc='upper left')\n",
    "    plt.show()\n",
    "\n",
    "    # Plot training & validation loss values\n",
    "    plt.plot(history.history['loss'])\n",
    "    plt.plot(history.history['val_loss'])\n",
    "    plt.title('Model loss')\n",
    "    plt.ylabel('Loss')\n",
    "    plt.xlabel('Epoch')\n",
    "    plt.legend(['Train', 'Val'], loc='upper left')\n",
    "    plt.show()"
   ]
  },
  {
   "cell_type": "code",
   "execution_count": 30,
   "metadata": {
    "execution": {
     "iopub.execute_input": "2024-05-02T12:00:47.024933Z",
     "iopub.status.busy": "2024-05-02T12:00:47.023182Z",
     "iopub.status.idle": "2024-05-02T12:00:47.343501Z",
     "shell.execute_reply": "2024-05-02T12:00:47.342937Z"
    },
    "papermill": {
     "duration": 0.459954,
     "end_time": "2024-05-02T12:00:47.343635",
     "exception": false,
     "start_time": "2024-05-02T12:00:46.883681",
     "status": "completed"
    },
    "tags": []
   },
   "outputs": [
    {
     "data": {
      "image/png": "[encoded data removed]",
      "text/plain": [
       "<Figure size 432x288 with 1 Axes>"
      ]
     },
     "metadata": {
      "needs_background": "light"
     },
     "output_type": "display_data"
    },
    {
     "data": {
      "image/png": "[encoded data removed]",
      "text/plain": [
       "<Figure size 432x288 with 1 Axes>"
      ]
     },
     "metadata": {
      "needs_background": "light"
     },
     "output_type": "display_data"
    }
   ],
   "source": [
    "plot_history(history)"
   ]
  },
  {
   "cell_type": "markdown",
   "metadata": {
    "papermill": {
     "duration": 0.130613,
     "end_time": "2024-05-02T12:00:47.606653",
     "exception": false,
     "start_time": "2024-05-02T12:00:47.476040",
     "status": "completed"
    },
    "tags": []
   },
   "source": [
    "#### Seems the model is overfitting here. An ideal loss plot should look similar to this.\n",
    "<img src=\"https://encrypted-tbn0.gstatic.com/images?q=tbn%3AANd9GcQHXfXuIksn-3ejS8UFeawUppJTmN2endFI6w&usqp=CAU\" width=\"460px\" align=\"center\">\n",
    "\n",
    "#### But at least we have managed to build our first deep neural network."
   ]
  },
  {
   "cell_type": "markdown",
   "metadata": {
    "papermill": {
     "duration": 0.13124,
     "end_time": "2024-05-02T12:00:47.867877",
     "exception": false,
     "start_time": "2024-05-02T12:00:47.736637",
     "status": "completed"
    },
    "tags": []
   },
   "source": [
    "# Managing Model Overfitting! <a class=\"anchor\" id=\"mmo\"></a>\n",
    "\n",
    "Now that we have trained our very first model, it's time to optimise the model training dealing with the problem of overfitting. \n",
    "\n",
    "Overfitting could be handled in many ways. Some most common ways we will see here include:\n",
    "* Weight Regularization\n",
    "* Dropout\n",
    "* Early Stopping or Callbacks"
   ]
  },
  {
   "cell_type": "markdown",
   "metadata": {
    "papermill": {
     "duration": 0.129265,
     "end_time": "2024-05-02T12:00:48.126243",
     "exception": false,
     "start_time": "2024-05-02T12:00:47.996978",
     "status": "completed"
    },
    "tags": []
   },
   "source": [
    "### Weight Regularization <a class=\"anchor\" id=\"wr\"></a>\n",
    "\n",
    "One of the most common way is to put constraints on the complexity of a network by forcing its weights only to take small values, which makes the distribution of weight values more \"regular\". This is called \"weight regularization\", and it is done by adding to the loss function of the network a cost associated with having large weights.\n",
    "\n",
    "Weight regularization could be done with 2 different techniques:\n",
    "  * L1 regularization or Lasso Regression\n",
    "  * L2 regularization or Ridge Regression\n",
    "  \n",
    "In tf.keras, weight regularization is added by passing weight regularizer instances to layers as keyword arguments."
   ]
  },
  {
   "cell_type": "code",
   "execution_count": 31,
   "metadata": {
    "execution": {
     "iopub.execute_input": "2024-05-02T12:00:48.409180Z",
     "iopub.status.busy": "2024-05-02T12:00:48.408292Z",
     "iopub.status.idle": "2024-05-02T12:01:26.971777Z",
     "shell.execute_reply": "2024-05-02T12:01:26.972269Z"
    },
    "papermill": {
     "duration": 38.717443,
     "end_time": "2024-05-02T12:01:26.972426",
     "exception": false,
     "start_time": "2024-05-02T12:00:48.254983",
     "status": "completed"
    },
    "tags": []
   },
   "outputs": [
    {
     "data": {
      "image/png": "[encoded data removed]",
      "text/plain": [
       "<Figure size 432x288 with 1 Axes>"
      ]
     },
     "metadata": {
      "needs_background": "light"
     },
     "output_type": "display_data"
    },
    {
     "data": {
      "image/png": "[encoded data removed]",
      "text/plain": [
       "<Figure size 432x288 with 1 Axes>"
      ]
     },
     "metadata": {
      "needs_background": "light"
     },
     "output_type": "display_data"
    },
    {
     "name": "stdout",
     "output_type": "stream",
     "text": [
      "1407/1407 [==============================] - 3s 2ms/step - loss: 0.2957 - accuracy: 0.9147\n",
      "313/313 [==============================] - 1s 2ms/step - loss: 0.4432 - accuracy: 0.8704\n",
      "Train: 0.915, Test: 0.870\n"
     ]
    }
   ],
   "source": [
    "from  tensorflow.keras import regularizers\n",
    "\n",
    "# Build the model\n",
    "model = Sequential()\n",
    "model.add(Flatten())\n",
    "\n",
    "# Add l2 regularizer (with 0.001 as regularization value) as kernel regularizer \n",
    "model.add(Dense(512, activation='relu', kernel_regularizer=regularizers.l2(0.001)))\n",
    "\n",
    "# Add l2 regularizer (with 0.001 as regularization value) as kernel regularizer \n",
    "model.add(Dense(256, activation='relu', kernel_regularizer=regularizers.l2(0.001)))\n",
    "\n",
    "# Add l2 regularizer (with 0.001 as regularization value) as kernel regularizer \n",
    "model.add(Dense(128, activation='relu', kernel_regularizer=regularizers.l2(0.001)))\n",
    "\n",
    "# Add l2 regularizer (with 0.001 as regularization value) as kernel regularizer \n",
    "model.add(Dense(64, activation='relu', kernel_regularizer=regularizers.l2(0.001)))\n",
    "\n",
    "# Add a Dense layer with number of neurons equal to the number of classes, with softmax as activation function\n",
    "model.add(Dense(10, activation='softmax'))\n",
    "\n",
    "# Compile the model created above.\n",
    "model.compile(optimizer=adam, loss=loss[0], metrics=metrics[0])\n",
    "\n",
    "\n",
    "# Fit the model created above to training and validation sets.\n",
    "history = model.fit(x=x_train, y=y_train, batch_size=batch_size, epochs=epochs, verbose=0, validation_data=(x_val, y_val))\n",
    "\n",
    "# Call the plot_history function to plot the obtained results\n",
    "plot_history(history)\n",
    "\n",
    "# Evaluate the results\n",
    "_, train_acc = model.evaluate(x_train, y_train, verbose=1)\n",
    "_, test_acc = model.evaluate(x_test, y_test, verbose=1)\n",
    "print('Train: %.3f, Test: %.3f' % (train_acc, test_acc))"
   ]
  },
  {
   "cell_type": "markdown",
   "metadata": {
    "papermill": {
     "duration": 0.155489,
     "end_time": "2024-05-02T12:01:27.302711",
     "exception": false,
     "start_time": "2024-05-02T12:01:27.147222",
     "status": "completed"
    },
    "tags": []
   },
   "source": [
    "### Dropout <a class=\"anchor\" id=\"drop\"></a>\n",
    "\n",
    "Dropout is another most commonly used regularization techniques for neural networks.<br>\n",
    "Dropout, applied as a hidden layer, randomly drops out a number of output features of the layer during training.<br>\n",
    "\n",
    "The \"dropout rate\" is the fraction of the features that are being dropped; it is usually set between 0.2 and 0.5.\n",
    "\n",
    "At test time, no units are dropped out, and instead the layer's output values are scaled down by a factor equal to the dropout rate, so as to balance for the fact that more units are active than at training time."
   ]
  },
  {
   "cell_type": "code",
   "execution_count": 32,
   "metadata": {
    "execution": {
     "iopub.execute_input": "2024-05-02T12:01:27.643040Z",
     "iopub.status.busy": "2024-05-02T12:01:27.632712Z",
     "iopub.status.idle": "2024-05-02T12:02:07.795328Z",
     "shell.execute_reply": "2024-05-02T12:02:07.794687Z"
    },
    "papermill": {
     "duration": 40.338203,
     "end_time": "2024-05-02T12:02:07.795456",
     "exception": false,
     "start_time": "2024-05-02T12:01:27.457253",
     "status": "completed"
    },
    "tags": []
   },
   "outputs": [
    {
     "data": {
      "image/png": "[encoded data removed]",
      "text/plain": [
       "<Figure size 432x288 with 1 Axes>"
      ]
     },
     "metadata": {
      "needs_background": "light"
     },
     "output_type": "display_data"
    },
    {
     "data": {
      "image/png": "[encoded data removed]",
      "text/plain": [
       "<Figure size 432x288 with 1 Axes>"
      ]
     },
     "metadata": {
      "needs_background": "light"
     },
     "output_type": "display_data"
    },
    {
     "name": "stdout",
     "output_type": "stream",
     "text": [
      "1407/1407 [==============================] - 2s 2ms/step - loss: 0.4406 - accuracy: 0.8780\n",
      "313/313 [==============================] - 1s 2ms/step - loss: 0.5077 - accuracy: 0.8555\n",
      "Train: 0.878, Test: 0.855\n"
     ]
    }
   ],
   "source": [
    "from tensorflow.keras.layers import Dropout\n",
    "\n",
    "# Build the model\n",
    "model = Sequential()\n",
    "model.add(Flatten())\n",
    "\n",
    "model.add(Dense(512, activation='relu', kernel_regularizer=regularizers.l2(0.001)))\n",
    "model.add(Dropout(0.3))   # Add a dropout layer with 0.3 probability\n",
    "model.add(Dense(256, activation='relu', kernel_regularizer=regularizers.l2(0.001)))\n",
    "model.add(Dropout(0.3))   # Add a dropout layer with 0.3 probability\n",
    "model.add(Dense(128, activation='relu', kernel_regularizer=regularizers.l2(0.001)))\n",
    "model.add(Dropout(0.3))   # Add a dropout layer with 0.3 probability\n",
    "model.add(Dense(64, activation='relu', kernel_regularizer=regularizers.l2(0.001)))\n",
    "model.add(Dense(10, activation='softmax'))\n",
    " \n",
    "model.compile(optimizer=adam, loss=loss[0], metrics=metrics[0])\n",
    "\n",
    "history = model.fit(x=x_train, y=y_train, batch_size=batch_size, epochs=epochs, verbose=0, validation_data=(x_val, y_val))\n",
    "\n",
    "plot_history(history)\n",
    "\n",
    "_, train_acc = model.evaluate(x_train, y_train, verbose=1)\n",
    "_, test_acc = model.evaluate(x_test, y_test, verbose=1)\n",
    "print('Train: %.3f, Test: %.3f' % (train_acc, test_acc))"
   ]
  },
  {
   "cell_type": "markdown",
   "metadata": {
    "papermill": {
     "duration": 0.17689,
     "end_time": "2024-05-02T12:02:08.153582",
     "exception": false,
     "start_time": "2024-05-02T12:02:07.976692",
     "status": "completed"
    },
    "tags": []
   },
   "source": [
    "### Early Stopping <a class=\"anchor\" id=\"es\"></a>\n",
    "\n",
    "The training could be stopped at an epoch where there isn't any improvement of accuracy or loss for a specific number of rounds. These specific number of rounds is called 'patience'. Even if we declare a total of 1,000 epochs, the training will stop according to the patience once it finds no improvement in the accuracy.<br>\n"
   ]
  },
  {
   "cell_type": "markdown",
   "metadata": {
    "id": "csOS6bJixisJ",
    "papermill": {
     "duration": 0.175406,
     "end_time": "2024-05-02T12:02:08.504104",
     "exception": false,
     "start_time": "2024-05-02T12:02:08.328698",
     "status": "completed"
    },
    "tags": []
   },
   "source": [
    "# Applications"
   ]
  },
  {
   "cell_type": "markdown",
   "metadata": {
    "id": "Fo7Zxg7R154s",
    "papermill": {
     "duration": 0.175176,
     "end_time": "2024-05-02T12:02:08.854859",
     "exception": false,
     "start_time": "2024-05-02T12:02:08.679683",
     "status": "completed"
    },
    "tags": []
   },
   "source": [
    "In this section, we will cover some applications of neural networks. These will be \n",
    "\n",
    "\n",
    "*   Medicine\n",
    "*   Robotics\n",
    "*   Finance\n",
    "*   Understanding Natural Language\n",
    "\n",
    "\n"
   ]
  },
  {
   "cell_type": "markdown",
   "metadata": {
    "id": "iz5oZRonr9DQ",
    "papermill": {
     "duration": 0.176577,
     "end_time": "2024-05-02T12:02:09.207161",
     "exception": false,
     "start_time": "2024-05-02T12:02:09.030584",
     "status": "completed"
    },
    "tags": []
   },
   "source": [
    "## Medicine "
   ]
  },
  {
   "cell_type": "markdown",
   "metadata": {
    "id": "jt8Rz3eTtSBC",
    "papermill": {
     "duration": 0.180787,
     "end_time": "2024-05-02T12:02:09.567193",
     "exception": false,
     "start_time": "2024-05-02T12:02:09.386406",
     "status": "completed"
    },
    "tags": []
   },
   "source": [
    "There are many applications of ML/DL to medicine and I will name and describe a few here. \n",
    "\n",
    "### Disease Identification\n",
    "\n",
    "Disease identification is an important sub-field of AI and Medicine. It works by collecting a set of images(generally by scraping the web, or datasets such as this [one](https://www.kaggle.com/paultimothymooney/chest-xray-pneumonia) on Kaggle) and training a more specific neural network known as a convolutional neural network(CNN). CNN's are extremely accurate and are made for image recognition and identification tasks. \n",
    "\n",
    "The founder of StartOnAI, Sid Sharma, recently wrote a paper called [\"DermaDetect A computer vision model for an accurate diagnosis of skin conditions and rashes\"](https://www.dropbox.com/s/hc5yqap7spo44ip/DermaDetect.pdf?dl=0). The goal of DermaDetect was to detect skin rashes/diseases using computer vision, and it describes in detail what Sid went through to get a highly accurate model. Sid used many states of the art techniques, and eventually even beat out the state of the art model in skin detection(determined by using Google AutoML). \n",
    "\n",
    "### Clinical Trial Research\n",
    "Identifying suitable for clinical trials is often difficult, but if we start using machine learning for predictive analysis on which candidates to select, we could access more data than we ever have. For instance, instead of just using genetic information, and family history, we could start using doctors' visits and even social media!\n",
    "\n",
    "### Health Records\n",
    "Over the past few months, we have seen the effect of COVID-19 first hand. Every day, thousands of researchers around the world and trying to find vaccines to cure and stop the spread of this deadly virus. And with the many initiatives going around, there has been a plethora of research papers being written, and the goal of these researchers is to get tangible information from the research papers which is where Natural Language Processing(NLP) comes into play. NLP allows computers to understand the text they see, and with the speed of computers, combining them with NLP will allow us to get new information extremely efficiently. \n",
    "\n",
    " "
   ]
  },
  {
   "cell_type": "markdown",
   "metadata": {
    "id": "gtLNsxvhr_Dn",
    "papermill": {
     "duration": 0.17704,
     "end_time": "2024-05-02T12:02:09.920284",
     "exception": false,
     "start_time": "2024-05-02T12:02:09.743244",
     "status": "completed"
    },
    "tags": []
   },
   "source": [
    "## Robotics"
   ]
  },
  {
   "cell_type": "markdown",
   "metadata": {
    "id": "Q0E_K8cEKbZV",
    "papermill": {
     "duration": 0.177173,
     "end_time": "2024-05-02T12:02:10.275870",
     "exception": false,
     "start_time": "2024-05-02T12:02:10.098697",
     "status": "completed"
    },
    "tags": []
   },
   "source": [
    "Next, let us talk about some important instances of robotics in the field of ML/DL.\n",
    "\n",
    "### Computer Vision\n",
    "Robotics and computer vision go hand in hand. For instance, many of the companies in the self-driving cars field, such as CommaAI, Tesla, and Uber, use various computer vision techniques to map out the environment in which the car is traveling in. With the amount of data, we take in when driving, we can simply use that data and feed it to a  vision model to help various types of robots to also understand and visualize the world! Along with this, we can use robots to find anomaly’s in structures such as buildings using computer vision. \n"
   ]
  },
  {
   "cell_type": "markdown",
   "metadata": {
    "papermill": {
     "duration": 0.179697,
     "end_time": "2024-05-02T12:02:10.635889",
     "exception": false,
     "start_time": "2024-05-02T12:02:10.456192",
     "status": "completed"
    },
    "tags": []
   },
   "source": [
    "For computer vision there is a very basic neural network behind all this. To be more precise, we are talking about the Convolutional Neural Network (ConvNet or CNN). . While CNN may seem like a strange mixture of biology and computer science, this is a very effective mechanism used for image recognition."
   ]
  },
  {
   "cell_type": "markdown",
   "metadata": {
    "papermill": {
     "duration": 0.1812,
     "end_time": "2024-05-02T12:02:11.012504",
     "exception": false,
     "start_time": "2024-05-02T12:02:10.831304",
     "status": "completed"
    },
    "tags": []
   },
   "source": [
    "Cnn use unique features that make a plane a plane or a snake to distinguish the images given. In fact, this process is also unconscious in our brains.\n",
    "For example, when we look at an airplane picture, we can identify the airplane by separating the features such as two wings, engines, windows. Cnn does the same, but previously they detect low-level properties such as curves and edges and create them up to more abstract concepts.\n",
    "\n",
    "To achieve the functionality we talked about, Cnn processes the image with various layers. Let's give an overview of these layers and their objectives:\n",
    "- **Convolutional Layer: ** Used to detect features \n",
    "- **Non-Linearity Layer: ** Introducing non-linearity to the system\n",
    "- **Pooling (Downsampling) Layer: ** Reduces weight count and checks fitness\n",
    "- **Flattening Layer: ** Prepares data for Classical Neural Network\n",
    "- **Fully-Connected Layer: ** Standard Neural Network used in classification\n",
    "\n",
    "![](https://adeshpande3.github.io/assets/Cover.png)\n",
    "\n",
    "Basically, Cnn uses the standard Neural Network to solve the classification problem, but uses other layers to identify information and identify some features.\n",
    "Let's dive into the details of each layer and its functions."
   ]
  },
  {
   "cell_type": "markdown",
   "metadata": {
    "papermill": {
     "duration": 0.176432,
     "end_time": "2024-05-02T12:02:11.371022",
     "exception": false,
     "start_time": "2024-05-02T12:02:11.194590",
     "status": "completed"
    },
    "tags": []
   },
   "source": [
    "We won't go much into the details of CNN but I wanted to show my BTP topic which was the steganalysis of images. For the tutorial we will keep it short and I will only use XU-Net to show the change in accuracy. "
   ]
  },
  {
   "cell_type": "markdown",
   "metadata": {
    "papermill": {
     "duration": 0.178207,
     "end_time": "2024-05-02T12:02:11.725628",
     "exception": false,
     "start_time": "2024-05-02T12:02:11.547421",
     "status": "completed"
    },
    "tags": []
   },
   "source": [
    "# Steganalysis of Image"
   ]
  },
  {
   "cell_type": "markdown",
   "metadata": {
    "papermill": {
     "duration": 0.177968,
     "end_time": "2024-05-02T12:02:12.083594",
     "exception": false,
     "start_time": "2024-05-02T12:02:11.905626",
     "status": "completed"
    },
    "tags": []
   },
   "source": [
    "Steganography is the science and art of covertcommunication. Conversely, steganalysis is the study ofuncovering the steganographic process. The evolution ofsteganography has been paralleled by the developmentof steganalysis. In this game of hide and seek, the twoplayer’s steganography and steganalysis always want tobreak the other down. "
   ]
  },
  {
   "cell_type": "markdown",
   "metadata": {
    "papermill": {
     "duration": 0.175127,
     "end_time": "2024-05-02T12:02:12.435248",
     "exception": false,
     "start_time": "2024-05-02T12:02:12.260121",
     "status": "completed"
    },
    "tags": []
   },
   "source": [
    "In this we have two types of image : <br> Cover : Normal Images <br> Stego : Images with embedding <br> Our goal is to find stego images from the given set of data"
   ]
  },
  {
   "cell_type": "markdown",
   "metadata": {
    "papermill": {
     "duration": 0.176518,
     "end_time": "2024-05-02T12:02:12.788343",
     "exception": false,
     "start_time": "2024-05-02T12:02:12.611825",
     "status": "completed"
    },
    "tags": []
   },
   "source": [
    "XU-Net is one of the earliest deep learning model which is used for steganalysis of the image."
   ]
  },
  {
   "cell_type": "code",
   "execution_count": 33,
   "metadata": {
    "execution": {
     "iopub.execute_input": "2024-05-02T12:02:13.163629Z",
     "iopub.status.busy": "2024-05-02T12:02:13.160802Z",
     "iopub.status.idle": "2024-05-02T12:02:13.447836Z",
     "shell.execute_reply": "2024-05-02T12:02:13.447172Z"
    },
    "papermill": {
     "duration": 0.479919,
     "end_time": "2024-05-02T12:02:13.447955",
     "exception": false,
     "start_time": "2024-05-02T12:02:12.968036",
     "status": "completed"
    },
    "tags": []
   },
   "outputs": [],
   "source": [
    "import numpy\n",
    "import numpy as np\n",
    "import random\n",
    "import os\n",
    "import matplotlib as mpl\n",
    "import matplotlib.pyplot as plt\n",
    "import matplotlib.colors as colors\n",
    "from keras.layers import Activation\n",
    "import tensorflow as tf\n",
    "import cv2\n",
    "from tensorflow.keras.layers import Lambda, Layer, ReLU\n",
    "from tensorflow.keras.models import Sequential\n",
    "from tensorflow.keras.layers import Dense, Dropout, Activation, Flatten, LSTM, SpatialDropout2D, Concatenate\n",
    "tf.keras.layers.Concatenate()\n",
    "from tensorflow.keras.layers import Conv2D, MaxPooling2D, AveragePooling2D, GlobalAveragePooling2D, UpSampling2D, BatchNormalization\n",
    "# from keras.layers.core import Reshape\n",
    "from keras import optimizers\n",
    "from tensorflow.keras import regularizers\n",
    "from keras import Input, Model\n",
    "from time import time\n",
    "import time as tm\n",
    "from keras.initializers import Constant, RandomNormal, glorot_normal\n",
    "from tensorflow.keras.models import load_model\n",
    "from tensorflow.keras.regularizers import l2\n",
    "from keras import backend as K\n",
    "from tensorflow.keras.utils import plot_model\n",
    "from keras.layers import  concatenate"
   ]
  },
  {
   "cell_type": "code",
   "execution_count": 34,
   "metadata": {
    "execution": {
     "iopub.execute_input": "2024-05-02T12:02:13.816318Z",
     "iopub.status.busy": "2024-05-02T12:02:13.815577Z",
     "iopub.status.idle": "2024-05-02T12:02:13.825091Z",
     "shell.execute_reply": "2024-05-02T12:02:13.824562Z"
    },
    "papermill": {
     "duration": 0.194068,
     "end_time": "2024-05-02T12:02:13.825197",
     "exception": false,
     "start_time": "2024-05-02T12:02:13.631129",
     "status": "completed"
    },
    "tags": []
   },
   "outputs": [
    {
     "name": "stdout",
     "output_type": "stream",
     "text": [
      "(5, 5, 1, 30)\n"
     ]
    }
   ],
   "source": [
    "################################################## 30 SRM FILTERS\n",
    "srm_weights = np.load('../input/stegan/SRM_Kernels.npy') \n",
    "biasSRM=numpy.ones(30)\n",
    "print (srm_weights.shape)\n",
    "################################################## TLU ACTIVATION FUNCTION\n",
    "T3 = 3;\n",
    "def Tanh3(x):\n",
    "    tanh3 = K.tanh(x)*T3\n",
    "    return tanh3\n",
    "##################################################"
   ]
  },
  {
   "cell_type": "code",
   "execution_count": 35,
   "metadata": {
    "execution": {
     "iopub.execute_input": "2024-05-02T12:02:14.204268Z",
     "iopub.status.busy": "2024-05-02T12:02:14.199024Z",
     "iopub.status.idle": "2024-05-02T12:02:14.229062Z",
     "shell.execute_reply": "2024-05-02T12:02:14.228448Z"
    },
    "papermill": {
     "duration": 0.226231,
     "end_time": "2024-05-02T12:02:14.229167",
     "exception": false,
     "start_time": "2024-05-02T12:02:14.002936",
     "status": "completed"
    },
    "tags": []
   },
   "outputs": [],
   "source": [
    "def Xu_Net( img_size=256, compile=True):\n",
    "    \n",
    "    #tf.reset_default_graph()\n",
    "    tf.keras.backend.clear_session()\n",
    "    print (\"using\",2,\"classes\")\n",
    "    \n",
    "    #Preprocessing\n",
    "    inputs = tf.keras.Input(shape=(img_size,img_size,1), name=\"input_1\")\n",
    "    layers = tf.keras.layers.Conv2D(30, (5,5), weights=[srm_weights,biasSRM], strides=(1,1), trainable=False, activation=Tanh3, use_bias=True)(inputs)\n",
    "\n",
    "\n",
    "    \n",
    "    #Block 1\n",
    "    \n",
    "    #Layer 0\n",
    "    layers = Conv2D(8, (5,5), strides=(1,1),padding=\"same\", kernel_initializer='glorot_normal', kernel_regularizer=tf.keras.regularizers.l2(0.0001),bias_regularizer=tf.keras.regularizers.l2(0.0001))(layers) \n",
    "    layers = ReLU(negative_slope=0.1, threshold=0)(layers)\n",
    "    layers = Lambda(tf.keras.backend.abs)(layers)\n",
    "    layers = BatchNormalization(momentum=0.2, epsilon=0.001, center=True, scale=True, trainable=True, fused=None, renorm=False, renorm_clipping=None, renorm_momentum=0.4, adjustment=None)(layers)\n",
    "    layers = Concatenate()([layers, layers, layers])\n",
    "    \n",
    "    #Block 2\n",
    "    \n",
    "    #Layer 1\n",
    "    layers = tf.keras.layers.SpatialDropout2D(rate=0.1)(layers)\n",
    "    layers = Conv2D(16, (5,5), strides=1,padding=\"same\", kernel_initializer='glorot_normal',kernel_regularizer=tf.keras.regularizers.l2(0.0001),bias_regularizer=tf.keras.regularizers.l2(0.0001))(layers) \n",
    "    layers = ReLU(negative_slope=0.1, threshold=0)(layers)\n",
    "    layers = tf.keras.layers.Lambda(tf.keras.backend.abs)(layers)\n",
    "    layers = BatchNormalization(momentum=0.2, epsilon=0.001, center=True, scale=True, trainable=True, fused=None, renorm=False, renorm_clipping=None, renorm_momentum=0.4, adjustment=None)(layers)  \n",
    "    layers = AveragePooling2D((5,5), strides= 2, padding='same')(layers)\n",
    "    \n",
    "    #Block 3\n",
    "    \n",
    "    #Layer 2\n",
    "    layers = tf.keras.layers.SpatialDropout2D(rate=0.1)(layers)\n",
    "    layers = Conv2D(32, (1,1), strides=1,padding=\"same\", kernel_initializer='glorot_normal',kernel_regularizer=tf.keras.regularizers.l2(0.0001),bias_regularizer=tf.keras.regularizers.l2(0.0001))(layers) \n",
    "    layers = ReLU(negative_slope=0.1, threshold=0)(layers)\n",
    "    layers = tf.keras.layers.Lambda(tf.keras.backend.abs)(layers)\n",
    "    layers = BatchNormalization(momentum=0.2, epsilon=0.001, center=True, scale=False, trainable=True, fused=None, renorm=False, renorm_clipping=None, renorm_momentum=0.4, adjustment=None)(layers)\n",
    "    layers = AveragePooling2D((5,5), strides= 2,padding=\"same\")(layers)\n",
    "    \n",
    "    #Block 4\n",
    "    #Layer 3\n",
    "    layers = tf.keras.layers.SpatialDropout2D(rate=0.1)(layers)\n",
    "    layers = Conv2D(64, (1,1), strides=1,padding=\"same\", kernel_initializer='glorot_normal',kernel_regularizer=tf.keras.regularizers.l2(0.0001),bias_regularizer=tf.keras.regularizers.l2(0.0001))(layers) \n",
    "    layers = ReLU(negative_slope=0.1, threshold=0)(layers)\n",
    "    layers = tf.keras.layers.Lambda(tf.keras.backend.abs)(layers)\n",
    "    layers = BatchNormalization(momentum=0.2, epsilon=0.001, center=True, scale=False, trainable=True, fused=None, renorm=False, renorm_clipping=None, renorm_momentum=0.4, adjustment=None)(layers)\n",
    "    layers = AveragePooling2D((5,5), strides=2,padding=\"same\")(layers)\n",
    "    #Block 5\n",
    "    #Layer 4\n",
    "    layers = tf.keras.layers.SpatialDropout2D(rate=0.1)(layers)\n",
    "    layers = Conv2D(128, (1,1), strides=1,padding=\"same\", kernel_initializer='glorot_normal',kernel_regularizer=tf.keras.regularizers.l2(0.0001),bias_regularizer=tf.keras.regularizers.l2(0.0001))(layers)\n",
    "    layers = ReLU(negative_slope=0.1, threshold=0)(layers)\n",
    "    layers = tf.keras.layers.Lambda(tf.keras.backend.abs)(layers)\n",
    "    layers = BatchNormalization(momentum=0.2, epsilon=0.001, center=True, scale=False, trainable=True, fused=None, renorm=False, renorm_clipping=None, renorm_momentum=0.4, adjustment=None)(layers)\n",
    "    layers = Concatenate()([layers, layers, layers])\n",
    "    layers = GlobalAveragePooling2D(data_format=\"channels_last\")(layers)\n",
    "    \n",
    "    #Block 6\n",
    "    #Layer 5, FC, Softmax\n",
    "  \n",
    "    #FC\n",
    "    layers = Dense(128,kernel_initializer='glorot_normal',kernel_regularizer=tf.keras.regularizers.l2(0.0001),bias_regularizer=tf.keras.regularizers.l2(0.0001))(layers)\n",
    "    layers = ReLU(negative_slope=0.1, threshold=0)(layers)\n",
    "    layers = Dense(64,kernel_initializer='glorot_normal',kernel_regularizer=tf.keras.regularizers.l2(0.0001),bias_regularizer=tf.keras.regularizers.l2(0.0001))(layers)\n",
    "    layers = ReLU(negative_slope=0.1, threshold=0)(layers)\n",
    "    layers = Dense(32,kernel_initializer='glorot_normal',kernel_regularizer=tf.keras.regularizers.l2(0.0001),bias_regularizer=tf.keras.regularizers.l2(0.0001))(layers)\n",
    "    layers = ReLU(negative_slope=0.1, threshold=0)(layers)\n",
    "   \n",
    "    #Softmax\n",
    "    predictions = Dense(2, activation=\"softmax\", name=\"output_1\",kernel_regularizer=tf.keras.regularizers.l2(0.0001),bias_regularizer=tf.keras.regularizers.l2(0.0001))(layers)\n",
    "    model =tf.keras.Model(inputs = inputs, outputs=predictions)\n",
    "    #Compile\n",
    "    optimizer = tf.keras.optimizers.SGD(learning_rate=0.005, momentum=0.95)\n",
    "    \n",
    "    if compile:\n",
    "        model.compile(optimizer= optimizer,\n",
    "                      loss='binary_crossentropy',\n",
    "                      metrics=['accuracy'])\n",
    "        print (\"Xunet\")\n",
    "    return model"
   ]
  },
  {
   "cell_type": "code",
   "execution_count": 36,
   "metadata": {
    "execution": {
     "iopub.execute_input": "2024-05-02T12:02:14.604399Z",
     "iopub.status.busy": "2024-05-02T12:02:14.603729Z",
     "iopub.status.idle": "2024-05-02T12:02:14.606949Z",
     "shell.execute_reply": "2024-05-02T12:02:14.606350Z"
    },
    "papermill": {
     "duration": 0.20156,
     "end_time": "2024-05-02T12:02:14.607049",
     "exception": false,
     "start_time": "2024-05-02T12:02:14.405489",
     "status": "completed"
    },
    "tags": []
   },
   "outputs": [],
   "source": [
    "acc_max=-1\n",
    "def train(model, X_train, y_train, X_valid, y_valid, X_test, y_test, batch_size, epochs, initial_epoch = 0, model_name=\"\"):\n",
    "    start_time = tm.time()\n",
    "    log_dir=\"logs/\"+model_name+\"_\"+\"{}\".format(time())\n",
    "    tensorboard = tf.keras.callbacks.TensorBoard(log_dir)\n",
    "    filepath = log_dir+\"/saved-model-{epoch:02d}-{val_accuracy:.2f}.hdf5\"\n",
    "    checkpoint = tf.keras.callbacks.ModelCheckpoint(filepath, monitor='val_accuracy', save_best_only=False, mode='max')\n",
    "    model.reset_states()\n",
    "    history=model.fit(X_train, y_train, epochs=epochs, \n",
    "                        callbacks=[tensorboard,checkpoint], \n",
    "                        batch_size=batch_size,validation_data=(X_valid, y_valid),initial_epoch=initial_epoch)\n",
    "    \n",
    "    metrics = model.evaluate(X_test, y_test, verbose=0)\n",
    "    results_dir=\"Results/\"+model_name+\"/\"\n",
    "    if not os.path.exists(results_dir):\n",
    "        os.makedirs(results_dir)\n",
    "      \n",
    "    with plt.style.context('seaborn-white'):\n",
    "        plt.figure(figsize=(10, 10))\n",
    "        #plt.subplot(1,2,1)\n",
    "        #Plot training & validation accuracy values\n",
    "        plt.plot(history.history['accuracy'])\n",
    "        plt.plot(history.history['val_accuracy'])\n",
    "        plt.title('Accuracy Vs Epochs')\n",
    "        plt.ylabel('Accuracy')\n",
    "        plt.xlabel('Epoch')\n",
    "        plt.legend(['Train', 'Validation'], loc='upper left')\n",
    "        plt.grid('on')\n",
    "        plt.savefig(results_dir+'Accuracy_Zhu_Net_'+model_name+'.eps', format='eps')\n",
    "        plt.savefig(results_dir+'Accuracy_Zhu_Net_'+model_name+'.svg', format='svg')\n",
    "        plt.savefig(results_dir+'Accuracy_Zhu_Net_'+model_name+'.pdf', format='pdf')\n",
    "        plt.show()\n",
    "        \n",
    "        plt.figure(figsize=(10, 10))\n",
    "        #plt.subplot(1,2,2)\n",
    "        #Plot training & validation loss values\n",
    "        plt.plot(history.history['loss'])\n",
    "        plt.plot(history.history['val_loss'])\n",
    "        plt.title('Loss Vs Epochs')\n",
    "        plt.ylabel('Loss')\n",
    "        plt.xlabel('Epoch')\n",
    "        plt.legend(['Train', 'Validation'], loc='upper left')\n",
    "        plt.grid('on')\n",
    "        plt.savefig(results_dir+'Loss_Zhu_Net_'+model_name+'.eps', format='eps')\n",
    "        plt.savefig(results_dir+'Loss_Zhu_Net_'+model_name+'.svg', format='svg')\n",
    "        plt.savefig(results_dir+'Loss_Zhu_Net_'+model_name+'.pdf', format='pdf')\n",
    "        plt.show()\n",
    "\n",
    "        '''\n",
    "        plt.figure(figsize=(10, 10))\n",
    "        #plt.subplot(1,2,2)\n",
    "        #Plot training & validation loss values\n",
    "        plt.plot(history.history['lr'])\n",
    "        plt.ylabel('Lr')\n",
    "        plt.xlabel('Epoch')\n",
    "        plt.grid('on')\n",
    "        plt.show()\n",
    "        '''\n",
    "    TIME = tm.time() - start_time\n",
    "    print(\"Time \"+model_name+\" = %s [seconds]\" % TIME)\n",
    "    return {k:v for k,v in zip (model.metrics_names, metrics)}"
   ]
  },
  {
   "cell_type": "code",
   "execution_count": 37,
   "metadata": {
    "execution": {
     "iopub.execute_input": "2024-05-02T12:02:14.971140Z",
     "iopub.status.busy": "2024-05-02T12:02:14.970267Z",
     "iopub.status.idle": "2024-05-02T12:02:14.973589Z",
     "shell.execute_reply": "2024-05-02T12:02:14.972832Z"
    },
    "papermill": {
     "duration": 0.189677,
     "end_time": "2024-05-02T12:02:14.973875",
     "exception": false,
     "start_time": "2024-05-02T12:02:14.784198",
     "status": "completed"
    },
    "tags": []
   },
   "outputs": [],
   "source": [
    "def Final_Results_Test(model,PATH_trained_models):\n",
    "    B_accuracy = 0 #B --> Best\n",
    "    for filename in os.listdir(PATH_trained_models):\n",
    "        if filename != ('train') and filename != ('validation'):\n",
    "            print(filename)\n",
    "            model.load_weights(PATH_trained_models+'/'+filename)\n",
    "            loss,accuracy = model.evaluate(X_test, y_test,verbose=0)\n",
    "            print(f'Loss={loss:.4f} y Accuracy={accuracy:0.4f}'+'\\n') \n",
    "            if accuracy > B_accuracy:\n",
    "                B_accuracy = accuracy\n",
    "                B_loss = loss\n",
    "                B_name = filename\n",
    "    print(\"\\n\\nBest\")\n",
    "    print(B_name)\n",
    "    print(f'Loss={B_loss:.4f} y Accuracy={B_accuracy:0.4f}'+'\\n')"
   ]
  },
  {
   "cell_type": "code",
   "execution_count": 38,
   "metadata": {
    "execution": {
     "iopub.execute_input": "2024-05-02T12:02:15.354327Z",
     "iopub.status.busy": "2024-05-02T12:02:15.353677Z",
     "iopub.status.idle": "2024-05-02T12:02:15.356869Z",
     "shell.execute_reply": "2024-05-02T12:02:15.356347Z"
    },
    "papermill": {
     "duration": 0.202461,
     "end_time": "2024-05-02T12:02:15.356988",
     "exception": false,
     "start_time": "2024-05-02T12:02:15.154527",
     "status": "completed"
    },
    "tags": []
   },
   "outputs": [],
   "source": [
    "from tqdm import tqdm\n",
    "\n",
    "def plot_train_valid(model,PATH_trained_models,model_name):\n",
    "    acc_train=[]\n",
    "    acc_valid=[]\n",
    "    loss_train=[]\n",
    "    loss_valid=[]\n",
    "    for filename in tqdm(os.listdir(PATH_trained_models)):\n",
    "        if filename != ('train') and filename != ('validation'):\n",
    "            print(filename)\n",
    "            model.load_weights(PATH_trained_models+'/'+filename)\n",
    "            loss,accuracy = model.evaluate(X_train, y_train,verbose=0)\n",
    "            acc_train.append(accuracy)\n",
    "            loss_train.append(loss)\n",
    "            loss,accuracy = model.evaluate(X_valid, y_valid,verbose=0)\n",
    "            acc_valid.append(accuracy)\n",
    "            loss_valid.append(loss)\n",
    "\n",
    "    results_dir=\"Results/\"+model_name+\"/\"\n",
    "    if not os.path.exists(results_dir):\n",
    "        os.makedirs(results_dir)\n",
    "\n",
    "    with plt.style.context('seaborn-white'):\n",
    "        plt.figure(figsize=(10, 10))\n",
    "        #plt.subplot(1,2,1)\n",
    "        #Plot training & validation accuracy values\n",
    "        plt.plot(acc_train)\n",
    "        plt.plot(acc_valid)\n",
    "        plt.title('Accuracy Vs Epochs')\n",
    "        plt.ylabel('Accuracy')\n",
    "        plt.xlabel('Epoch')\n",
    "        plt.legend(['Train', 'Validation'], loc='upper left')\n",
    "        plt.grid('on')\n",
    "        plt.savefig(results_dir+'Accuracy_Zhu_Net_'+model_name+'.eps', format='eps')\n",
    "        plt.savefig(results_dir+'Accuracy_Zhu_Net_'+model_name+'.svg', format='svg')\n",
    "        plt.savefig(results_dir+'Accuracy_Zhu_Net_'+model_name+'.pdf', format='pdf')\n",
    "        plt.show()\n",
    "\n",
    "        plt.figure(figsize=(10, 10))\n",
    "        #plt.subplot(1,2,2)\n",
    "        #Plot training & validation loss values\n",
    "        plt.plot(loss_train)\n",
    "        plt.plot(loss_valid)\n",
    "        plt.title('Loss Vs Epochs')\n",
    "        plt.ylabel('Loss')\n",
    "        plt.xlabel('Epoch')\n",
    "        plt.legend(['Train', 'Validation'], loc='upper left')\n",
    "        plt.grid('on')\n",
    "        plt.savefig(results_dir+'Loss_Zhu_Net_'+model_name+'.eps', format='eps')\n",
    "        plt.savefig(results_dir+'Loss_Zhu_Net_'+model_name+'.svg', format='svg')\n",
    "        plt.savefig(results_dir+'Loss_Zhu_Net_'+model_name+'.pdf', format='pdf')\n",
    "        plt.show()\n",
    "\n",
    "        '''\n",
    "        plt.figure(figsize=(10, 10))\n",
    "        #plt.subplot(1,2,2)\n",
    "        #Plot training & validation loss values\n",
    "        plt.plot(history.history['lr'])\n",
    "        plt.ylabel('Lr')\n",
    "        plt.xlabel('Epoch')\n",
    "        plt.grid('on')\n",
    "        plt.show()\n",
    "        '''\n",
    "    results={'acc_train':acc_train,'acc_valid':acc_valid,'loss_train':loss_train,'loss_valid':loss_valid}\n",
    "    if acc_max<acc_train:\n",
    "        acc_max=acc_train\n",
    "    return results"
   ]
  },
  {
   "cell_type": "code",
   "execution_count": 39,
   "metadata": {
    "execution": {
     "iopub.execute_input": "2024-05-02T12:02:15.729229Z",
     "iopub.status.busy": "2024-05-02T12:02:15.728422Z",
     "iopub.status.idle": "2024-05-02T12:02:15.731581Z",
     "shell.execute_reply": "2024-05-02T12:02:15.730931Z"
    },
    "papermill": {
     "duration": 0.196976,
     "end_time": "2024-05-02T12:02:15.731692",
     "exception": false,
     "start_time": "2024-05-02T12:02:15.534716",
     "status": "completed"
    },
    "tags": []
   },
   "outputs": [],
   "source": [
    "from sklearn.metrics import (\n",
    "    average_precision_score,\n",
    "    precision_recall_curve,\n",
    "    roc_auc_score,\n",
    "    roc_curve,\n",
    ")\n",
    "\n",
    "def get_curve(gt, pred, target_names,model_name):\n",
    "    labels=[]\n",
    "    for i in range(len(target_names)):\n",
    "        \n",
    "        curve_function = roc_curve\n",
    "        auc_roc = roc_auc_score(gt[:, i], pred[:, i])\n",
    "        label = model_name+target_names[i] + \" AUC: %.3f \" % auc_roc\n",
    "        labels.append(label)\n",
    "        xlabel = \"False positive rate\"\n",
    "        ylabel = \"True positive rate\"\n",
    "        a, b, _ = curve_function(gt[:, i], pred[:, i])\n",
    "        plt.figure(1, figsize=(7, 7))\n",
    "        plt.plot([0, 1], [0, 1], 'k--')\n",
    "        plt.plot(a, b, label=label)\n",
    "        plt.xlabel(xlabel)\n",
    "        plt.ylabel(ylabel)\n",
    "\n",
    "        plt.legend(loc='upper center', bbox_to_anchor=(1.3, 1),\n",
    "                  fancybox=True, ncol=1)\n",
    "      \n",
    "    return [a,b],labels\n",
    "labels = [\"Cover\",\"Stego\"]"
   ]
  },
  {
   "cell_type": "markdown",
   "metadata": {
    "papermill": {
     "duration": 0.177356,
     "end_time": "2024-05-02T12:02:16.089695",
     "exception": false,
     "start_time": "2024-05-02T12:02:15.912339",
     "status": "completed"
    },
    "tags": []
   },
   "source": [
    "## Working with BOSSbase 1.01 SUNIWARD y PAYLOAD = 0.4bpp"
   ]
  },
  {
   "cell_type": "code",
   "execution_count": 40,
   "metadata": {
    "execution": {
     "iopub.execute_input": "2024-05-02T12:02:16.454951Z",
     "iopub.status.busy": "2024-05-02T12:02:16.454162Z",
     "iopub.status.idle": "2024-05-02T12:02:25.945256Z",
     "shell.execute_reply": "2024-05-02T12:02:25.944619Z"
    },
    "papermill": {
     "duration": 9.677505,
     "end_time": "2024-05-02T12:02:25.945368",
     "exception": false,
     "start_time": "2024-05-02T12:02:16.267863",
     "status": "completed"
    },
    "tags": []
   },
   "outputs": [
    {
     "name": "stdout",
     "output_type": "stream",
     "text": [
      "(8000, 256, 256, 1)\n",
      "(8000, 2)\n",
      "(2000, 256, 256, 1)\n",
      "(2000, 2)\n",
      "(10000, 256, 256, 1)\n",
      "(10000, 2)\n"
     ]
    }
   ],
   "source": [
    "PATH04 = '../input'\n",
    "#Dataset\n",
    "EPOCHS=150\n",
    "PATH04_WOW1 = \"/suniward/\"\n",
    "\n",
    "#Train\n",
    "X_train = np.load(PATH04+PATH04_WOW1+'X_train.npy')\n",
    "y_train = np.load(PATH04+PATH04_WOW1+'y_train.npy')\n",
    "#Valid\n",
    "X_valid = np.load(PATH04+PATH04_WOW1+'X_valid.npy')\n",
    "y_valid = np.load(PATH04+PATH04_WOW1+'y_valid.npy')\n",
    "#Test\n",
    "X_test = np.load(PATH04+PATH04_WOW1+'X_test.npy')\n",
    "y_test = np.load(PATH04+PATH04_WOW1+'y_test.npy')\n",
    "\n",
    "print(X_train.shape)\n",
    "print(y_train.shape)\n",
    "print(X_valid.shape)\n",
    "print(y_valid.shape)\n",
    "print(X_test.shape)\n",
    "print(y_test.shape)\n"
   ]
  },
  {
   "cell_type": "code",
   "execution_count": 41,
   "metadata": {
    "execution": {
     "iopub.execute_input": "2024-05-02T12:02:26.307857Z",
     "iopub.status.busy": "2024-05-02T12:02:26.306911Z",
     "iopub.status.idle": "2024-05-02T12:02:26.309820Z",
     "shell.execute_reply": "2024-05-02T12:02:26.309297Z"
    },
    "papermill": {
     "duration": 0.185592,
     "end_time": "2024-05-02T12:02:26.309930",
     "exception": false,
     "start_time": "2024-05-02T12:02:26.124338",
     "status": "completed"
    },
    "tags": []
   },
   "outputs": [],
   "source": [
    "base_name=\"04WOW1\"\n",
    "m_name=\"Xu_Net\""
   ]
  },
  {
   "cell_type": "code",
   "execution_count": 42,
   "metadata": {
    "execution": {
     "iopub.execute_input": "2024-05-02T12:02:26.673450Z",
     "iopub.status.busy": "2024-05-02T12:02:26.672120Z",
     "iopub.status.idle": "2024-05-02T13:08:11.302642Z",
     "shell.execute_reply": "2024-05-02T13:08:11.303121Z"
    },
    "papermill": {
     "duration": 3944.814315,
     "end_time": "2024-05-02T13:08:11.303261",
     "exception": false,
     "start_time": "2024-05-02T12:02:26.488946",
     "status": "completed"
    },
    "tags": []
   },
   "outputs": [
    {
     "name": "stdout",
     "output_type": "stream",
     "text": [
      "using 2 classes\n",
      "Xunet\n",
      "Epoch 1/100\n",
      "250/250 [==============================] - 40s 158ms/step - loss: 0.7519 - accuracy: 0.4990 - val_loss: 0.7436 - val_accuracy: 0.5040\n",
      "Epoch 2/100\n",
      "250/250 [==============================] - 39s 157ms/step - loss: 0.7461 - accuracy: 0.4963 - val_loss: 0.7445 - val_accuracy: 0.5080\n",
      "Epoch 3/100\n",
      "250/250 [==============================] - 39s 156ms/step - loss: 0.7439 - accuracy: 0.5088 - val_loss: 0.7427 - val_accuracy: 0.5020\n",
      "Epoch 4/100\n",
      "250/250 [==============================] - 39s 156ms/step - loss: 0.7439 - accuracy: 0.5084 - val_loss: 0.7420 - val_accuracy: 0.5185\n",
      "Epoch 5/100\n",
      "250/250 [==============================] - 39s 156ms/step - loss: 0.7422 - accuracy: 0.5038 - val_loss: 0.7395 - val_accuracy: 0.5205\n",
      "Epoch 6/100\n",
      "250/250 [==============================] - 39s 156ms/step - loss: 0.7415 - accuracy: 0.5153 - val_loss: 0.7373 - val_accuracy: 0.5270\n",
      "Epoch 7/100\n",
      "250/250 [==============================] - 39s 156ms/step - loss: 0.7340 - accuracy: 0.5325 - val_loss: 0.7174 - val_accuracy: 0.5835\n",
      "Epoch 8/100\n",
      "250/250 [==============================] - 39s 156ms/step - loss: 0.7180 - accuracy: 0.5584 - val_loss: 0.7004 - val_accuracy: 0.5720\n",
      "Epoch 9/100\n",
      "250/250 [==============================] - 39s 156ms/step - loss: 0.7012 - accuracy: 0.5835 - val_loss: 0.6794 - val_accuracy: 0.6160\n",
      "Epoch 10/100\n",
      "250/250 [==============================] - 39s 156ms/step - loss: 0.6844 - accuracy: 0.6009 - val_loss: 0.6433 - val_accuracy: 0.6455\n",
      "Epoch 11/100\n",
      "250/250 [==============================] - 39s 156ms/step - loss: 0.6755 - accuracy: 0.6083 - val_loss: 0.6311 - val_accuracy: 0.6550\n",
      "Epoch 12/100\n",
      "250/250 [==============================] - 39s 156ms/step - loss: 0.6591 - accuracy: 0.6245 - val_loss: 0.6236 - val_accuracy: 0.6515\n",
      "Epoch 13/100\n",
      "250/250 [==============================] - 39s 156ms/step - loss: 0.6528 - accuracy: 0.6276 - val_loss: 0.6389 - val_accuracy: 0.6515\n",
      "Epoch 14/100\n",
      "250/250 [==============================] - 39s 156ms/step - loss: 0.6448 - accuracy: 0.6344 - val_loss: 0.6100 - val_accuracy: 0.6615\n",
      "Epoch 15/100\n",
      "250/250 [==============================] - 39s 156ms/step - loss: 0.6426 - accuracy: 0.6334 - val_loss: 0.6048 - val_accuracy: 0.6625\n",
      "Epoch 16/100\n",
      "250/250 [==============================] - 39s 156ms/step - loss: 0.6221 - accuracy: 0.6538 - val_loss: 0.5731 - val_accuracy: 0.6830\n",
      "Epoch 17/100\n",
      "250/250 [==============================] - 39s 156ms/step - loss: 0.6207 - accuracy: 0.6520 - val_loss: 0.5898 - val_accuracy: 0.6850\n",
      "Epoch 18/100\n",
      "250/250 [==============================] - 39s 156ms/step - loss: 0.6187 - accuracy: 0.6541 - val_loss: 0.5781 - val_accuracy: 0.6900\n",
      "Epoch 19/100\n",
      "250/250 [==============================] - 39s 156ms/step - loss: 0.6125 - accuracy: 0.6484 - val_loss: 0.5817 - val_accuracy: 0.6845\n",
      "Epoch 20/100\n",
      "250/250 [==============================] - 39s 156ms/step - loss: 0.6087 - accuracy: 0.6634 - val_loss: 0.6339 - val_accuracy: 0.6255\n",
      "Epoch 21/100\n",
      "250/250 [==============================] - 39s 156ms/step - loss: 0.6082 - accuracy: 0.6659 - val_loss: 0.5594 - val_accuracy: 0.6925\n",
      "Epoch 22/100\n",
      "250/250 [==============================] - 39s 156ms/step - loss: 0.5982 - accuracy: 0.6749 - val_loss: 0.5707 - val_accuracy: 0.6930\n",
      "Epoch 23/100\n",
      "250/250 [==============================] - 39s 156ms/step - loss: 0.5944 - accuracy: 0.6801 - val_loss: 0.6228 - val_accuracy: 0.6845\n",
      "Epoch 24/100\n",
      "250/250 [==============================] - 39s 156ms/step - loss: 0.5974 - accuracy: 0.6697 - val_loss: 0.5859 - val_accuracy: 0.6720\n",
      "Epoch 25/100\n",
      "250/250 [==============================] - 39s 156ms/step - loss: 0.6024 - accuracy: 0.6729 - val_loss: 0.5739 - val_accuracy: 0.6965\n",
      "Epoch 26/100\n",
      "250/250 [==============================] - 39s 156ms/step - loss: 0.5863 - accuracy: 0.6755 - val_loss: 0.5647 - val_accuracy: 0.7040\n",
      "Epoch 27/100\n",
      "250/250 [==============================] - 39s 156ms/step - loss: 0.5873 - accuracy: 0.6833 - val_loss: 0.5344 - val_accuracy: 0.7270\n",
      "Epoch 28/100\n",
      "250/250 [==============================] - 39s 156ms/step - loss: 0.5849 - accuracy: 0.6762 - val_loss: 0.5516 - val_accuracy: 0.7005\n",
      "Epoch 29/100\n",
      "250/250 [==============================] - 39s 156ms/step - loss: 0.5785 - accuracy: 0.6862 - val_loss: 0.5320 - val_accuracy: 0.7195\n",
      "Epoch 30/100\n",
      "250/250 [==============================] - 39s 156ms/step - loss: 0.5780 - accuracy: 0.6846 - val_loss: 0.5171 - val_accuracy: 0.7320\n",
      "Epoch 31/100\n",
      "250/250 [==============================] - 39s 156ms/step - loss: 0.5732 - accuracy: 0.6933 - val_loss: 0.5293 - val_accuracy: 0.7230\n",
      "Epoch 32/100\n",
      "250/250 [==============================] - 39s 156ms/step - loss: 0.5749 - accuracy: 0.6850 - val_loss: 0.5132 - val_accuracy: 0.7400\n",
      "Epoch 33/100\n",
      "250/250 [==============================] - 39s 156ms/step - loss: 0.5645 - accuracy: 0.6921 - val_loss: 0.5203 - val_accuracy: 0.7165\n",
      "Epoch 34/100\n",
      "250/250 [==============================] - 39s 156ms/step - loss: 0.5665 - accuracy: 0.6921 - val_loss: 0.5250 - val_accuracy: 0.7215\n",
      "Epoch 35/100\n",
      "250/250 [==============================] - 39s 156ms/step - loss: 0.5597 - accuracy: 0.6961 - val_loss: 0.5773 - val_accuracy: 0.6940\n",
      "Epoch 36/100\n",
      "250/250 [==============================] - 39s 156ms/step - loss: 0.5710 - accuracy: 0.6859 - val_loss: 0.5759 - val_accuracy: 0.6810\n",
      "Epoch 37/100\n",
      "250/250 [==============================] - 39s 156ms/step - loss: 0.5629 - accuracy: 0.6960 - val_loss: 0.5417 - val_accuracy: 0.7050\n",
      "Epoch 38/100\n",
      "250/250 [==============================] - 39s 156ms/step - loss: 0.5600 - accuracy: 0.6984 - val_loss: 0.5056 - val_accuracy: 0.7385\n",
      "Epoch 39/100\n",
      "250/250 [==============================] - 39s 156ms/step - loss: 0.5612 - accuracy: 0.7039 - val_loss: 0.5286 - val_accuracy: 0.7165\n",
      "Epoch 40/100\n",
      "250/250 [==============================] - 39s 156ms/step - loss: 0.5534 - accuracy: 0.7063 - val_loss: 0.4907 - val_accuracy: 0.7445\n",
      "Epoch 41/100\n",
      "250/250 [==============================] - 39s 156ms/step - loss: 0.5487 - accuracy: 0.7065 - val_loss: 0.5306 - val_accuracy: 0.7210\n",
      "Epoch 42/100\n",
      "250/250 [==============================] - 39s 156ms/step - loss: 0.5486 - accuracy: 0.7040 - val_loss: 0.5503 - val_accuracy: 0.6905\n",
      "Epoch 43/100\n",
      "250/250 [==============================] - 39s 156ms/step - loss: 0.5530 - accuracy: 0.7030 - val_loss: 0.5054 - val_accuracy: 0.7450\n",
      "Epoch 44/100\n",
      "250/250 [==============================] - 39s 156ms/step - loss: 0.5535 - accuracy: 0.6973 - val_loss: 0.5363 - val_accuracy: 0.7240\n",
      "Epoch 45/100\n",
      "250/250 [==============================] - 39s 156ms/step - loss: 0.5476 - accuracy: 0.7039 - val_loss: 0.5103 - val_accuracy: 0.7320\n",
      "Epoch 46/100\n",
      "250/250 [==============================] - 39s 156ms/step - loss: 0.5473 - accuracy: 0.7072 - val_loss: 0.5168 - val_accuracy: 0.7385\n",
      "Epoch 47/100\n",
      "250/250 [==============================] - 39s 157ms/step - loss: 0.5487 - accuracy: 0.7079 - val_loss: 0.4948 - val_accuracy: 0.7405\n",
      "Epoch 48/100\n",
      "250/250 [==============================] - 39s 156ms/step - loss: 0.5427 - accuracy: 0.7078 - val_loss: 0.4929 - val_accuracy: 0.7550\n",
      "Epoch 49/100\n",
      "250/250 [==============================] - 39s 156ms/step - loss: 0.5396 - accuracy: 0.7141 - val_loss: 0.4930 - val_accuracy: 0.7470\n",
      "Epoch 50/100\n",
      "250/250 [==============================] - 39s 156ms/step - loss: 0.5346 - accuracy: 0.7151 - val_loss: 0.5204 - val_accuracy: 0.7260\n",
      "Epoch 51/100\n",
      "250/250 [==============================] - 39s 156ms/step - loss: 0.5367 - accuracy: 0.7165 - val_loss: 0.4903 - val_accuracy: 0.7530\n",
      "Epoch 52/100\n",
      "250/250 [==============================] - 39s 156ms/step - loss: 0.5347 - accuracy: 0.7182 - val_loss: 0.4737 - val_accuracy: 0.7705\n",
      "Epoch 53/100\n",
      "250/250 [==============================] - 39s 156ms/step - loss: 0.5302 - accuracy: 0.7199 - val_loss: 0.4846 - val_accuracy: 0.7480\n",
      "Epoch 54/100\n",
      "250/250 [==============================] - 39s 156ms/step - loss: 0.5345 - accuracy: 0.7099 - val_loss: 0.4819 - val_accuracy: 0.7545\n",
      "Epoch 55/100\n",
      "250/250 [==============================] - 39s 156ms/step - loss: 0.5299 - accuracy: 0.7214 - val_loss: 0.4894 - val_accuracy: 0.7505\n",
      "Epoch 56/100\n",
      "250/250 [==============================] - 39s 156ms/step - loss: 0.5381 - accuracy: 0.7140 - val_loss: 0.4909 - val_accuracy: 0.7610\n",
      "Epoch 57/100\n",
      "250/250 [==============================] - 39s 156ms/step - loss: 0.5329 - accuracy: 0.7143 - val_loss: 0.5122 - val_accuracy: 0.7355\n",
      "Epoch 58/100\n",
      "250/250 [==============================] - 39s 156ms/step - loss: 0.5294 - accuracy: 0.7169 - val_loss: 0.4761 - val_accuracy: 0.7530\n",
      "Epoch 59/100\n",
      "250/250 [==============================] - 39s 157ms/step - loss: 0.5234 - accuracy: 0.7283 - val_loss: 0.5471 - val_accuracy: 0.7075\n",
      "Epoch 60/100\n",
      "250/250 [==============================] - 39s 156ms/step - loss: 0.5269 - accuracy: 0.7195 - val_loss: 0.5073 - val_accuracy: 0.7400\n",
      "Epoch 61/100\n",
      "250/250 [==============================] - 39s 156ms/step - loss: 0.5248 - accuracy: 0.7246 - val_loss: 0.4927 - val_accuracy: 0.7595\n",
      "Epoch 62/100\n",
      "250/250 [==============================] - 39s 156ms/step - loss: 0.5237 - accuracy: 0.7222 - val_loss: 0.4773 - val_accuracy: 0.7610\n",
      "Epoch 63/100\n",
      "250/250 [==============================] - 39s 156ms/step - loss: 0.5178 - accuracy: 0.7266 - val_loss: 0.5247 - val_accuracy: 0.7255\n",
      "Epoch 64/100\n",
      "250/250 [==============================] - 39s 156ms/step - loss: 0.5223 - accuracy: 0.7207 - val_loss: 0.5155 - val_accuracy: 0.7390\n",
      "Epoch 65/100\n",
      "250/250 [==============================] - 39s 156ms/step - loss: 0.5244 - accuracy: 0.7229 - val_loss: 0.5100 - val_accuracy: 0.7380\n",
      "Epoch 66/100\n",
      "250/250 [==============================] - 39s 156ms/step - loss: 0.5267 - accuracy: 0.7247 - val_loss: 0.5047 - val_accuracy: 0.7415\n",
      "Epoch 67/100\n",
      "250/250 [==============================] - 39s 156ms/step - loss: 0.5121 - accuracy: 0.7299 - val_loss: 0.4693 - val_accuracy: 0.7620\n",
      "Epoch 68/100\n",
      "250/250 [==============================] - 39s 156ms/step - loss: 0.5115 - accuracy: 0.7333 - val_loss: 0.4742 - val_accuracy: 0.7680\n",
      "Epoch 69/100\n",
      "250/250 [==============================] - 39s 156ms/step - loss: 0.5130 - accuracy: 0.7291 - val_loss: 0.5104 - val_accuracy: 0.7380\n",
      "Epoch 70/100\n",
      "250/250 [==============================] - 39s 156ms/step - loss: 0.5119 - accuracy: 0.7290 - val_loss: 0.4691 - val_accuracy: 0.7690\n",
      "Epoch 71/100\n",
      "250/250 [==============================] - 39s 156ms/step - loss: 0.5148 - accuracy: 0.7306 - val_loss: 0.4647 - val_accuracy: 0.7710\n",
      "Epoch 72/100\n",
      "250/250 [==============================] - 39s 156ms/step - loss: 0.5117 - accuracy: 0.7358 - val_loss: 0.4908 - val_accuracy: 0.7485\n",
      "Epoch 73/100\n",
      "250/250 [==============================] - 39s 156ms/step - loss: 0.5081 - accuracy: 0.7296 - val_loss: 0.5254 - val_accuracy: 0.7245\n",
      "Epoch 74/100\n",
      "250/250 [==============================] - 39s 156ms/step - loss: 0.5047 - accuracy: 0.7396 - val_loss: 0.4912 - val_accuracy: 0.7535\n",
      "Epoch 75/100\n",
      "250/250 [==============================] - 39s 156ms/step - loss: 0.5034 - accuracy: 0.7362 - val_loss: 0.5504 - val_accuracy: 0.7170\n",
      "Epoch 76/100\n",
      "250/250 [==============================] - 39s 156ms/step - loss: 0.5069 - accuracy: 0.7384 - val_loss: 0.5251 - val_accuracy: 0.7325\n",
      "Epoch 77/100\n",
      "250/250 [==============================] - 39s 156ms/step - loss: 0.5000 - accuracy: 0.7384 - val_loss: 0.4838 - val_accuracy: 0.7765\n",
      "Epoch 78/100\n",
      "250/250 [==============================] - 39s 156ms/step - loss: 0.5025 - accuracy: 0.7360 - val_loss: 0.4639 - val_accuracy: 0.7775\n",
      "Epoch 79/100\n",
      "250/250 [==============================] - 39s 156ms/step - loss: 0.5072 - accuracy: 0.7399 - val_loss: 0.4971 - val_accuracy: 0.7555\n",
      "Epoch 80/100\n",
      "250/250 [==============================] - 39s 156ms/step - loss: 0.4965 - accuracy: 0.7459 - val_loss: 0.4682 - val_accuracy: 0.7640\n",
      "Epoch 81/100\n",
      "250/250 [==============================] - 39s 156ms/step - loss: 0.5024 - accuracy: 0.7369 - val_loss: 0.4647 - val_accuracy: 0.7690\n",
      "Epoch 82/100\n",
      "250/250 [==============================] - 39s 156ms/step - loss: 0.5002 - accuracy: 0.7396 - val_loss: 0.5111 - val_accuracy: 0.7145\n",
      "Epoch 83/100\n",
      "250/250 [==============================] - 39s 156ms/step - loss: 0.5011 - accuracy: 0.7356 - val_loss: 0.4619 - val_accuracy: 0.7790\n",
      "Epoch 84/100\n",
      "250/250 [==============================] - 39s 156ms/step - loss: 0.4949 - accuracy: 0.7494 - val_loss: 0.4800 - val_accuracy: 0.7670\n",
      "Epoch 85/100\n",
      "250/250 [==============================] - 39s 156ms/step - loss: 0.5025 - accuracy: 0.7420 - val_loss: 0.4939 - val_accuracy: 0.7430\n",
      "Epoch 86/100\n",
      "250/250 [==============================] - 39s 156ms/step - loss: 0.4866 - accuracy: 0.7477 - val_loss: 0.4702 - val_accuracy: 0.7610\n",
      "Epoch 87/100\n",
      "250/250 [==============================] - 39s 156ms/step - loss: 0.5004 - accuracy: 0.7455 - val_loss: 0.4673 - val_accuracy: 0.7640\n",
      "Epoch 88/100\n",
      "250/250 [==============================] - 39s 156ms/step - loss: 0.4956 - accuracy: 0.7421 - val_loss: 0.4613 - val_accuracy: 0.7685\n",
      "Epoch 89/100\n",
      "250/250 [==============================] - 39s 156ms/step - loss: 0.4829 - accuracy: 0.7498 - val_loss: 0.4718 - val_accuracy: 0.7670\n",
      "Epoch 90/100\n",
      "250/250 [==============================] - 39s 156ms/step - loss: 0.4945 - accuracy: 0.7431 - val_loss: 0.4911 - val_accuracy: 0.7545\n",
      "Epoch 91/100\n",
      "250/250 [==============================] - 39s 156ms/step - loss: 0.4885 - accuracy: 0.7498 - val_loss: 0.4524 - val_accuracy: 0.7815\n",
      "Epoch 92/100\n",
      "250/250 [==============================] - 39s 156ms/step - loss: 0.4881 - accuracy: 0.7499 - val_loss: 0.4697 - val_accuracy: 0.7680\n",
      "Epoch 93/100\n",
      "250/250 [==============================] - 39s 156ms/step - loss: 0.4905 - accuracy: 0.7575 - val_loss: 0.4617 - val_accuracy: 0.7670\n",
      "Epoch 94/100\n",
      "250/250 [==============================] - 39s 156ms/step - loss: 0.4951 - accuracy: 0.7412 - val_loss: 0.4509 - val_accuracy: 0.7725\n",
      "Epoch 95/100\n",
      "250/250 [==============================] - 39s 156ms/step - loss: 0.4818 - accuracy: 0.7609 - val_loss: 0.4843 - val_accuracy: 0.7650\n",
      "Epoch 96/100\n",
      "250/250 [==============================] - 39s 156ms/step - loss: 0.4873 - accuracy: 0.7525 - val_loss: 0.4572 - val_accuracy: 0.7780\n",
      "Epoch 97/100\n",
      "250/250 [==============================] - 39s 156ms/step - loss: 0.4883 - accuracy: 0.7508 - val_loss: 0.4717 - val_accuracy: 0.7640\n",
      "Epoch 98/100\n",
      "250/250 [==============================] - 39s 156ms/step - loss: 0.4887 - accuracy: 0.7542 - val_loss: 0.4631 - val_accuracy: 0.7710\n",
      "Epoch 99/100\n",
      "250/250 [==============================] - 39s 156ms/step - loss: 0.4763 - accuracy: 0.7563 - val_loss: 0.4579 - val_accuracy: 0.7790\n",
      "Epoch 100/100\n",
      "250/250 [==============================] - 39s 156ms/step - loss: 0.4764 - accuracy: 0.7615 - val_loss: 0.4525 - val_accuracy: 0.7755\n"
     ]
    },
    {
     "data": {
      "image/png": "[encoded data removed]",
      "text/plain": [
       "<Figure size 720x720 with 1 Axes>"
      ]
     },
     "metadata": {},
     "output_type": "display_data"
    },
    {
     "data": {
      "image/png": "[encoded data removed]",
      "text/plain": [
       "<Figure size 720x720 with 1 Axes>"
      ]
     },
     "metadata": {},
     "output_type": "display_data"
    },
    {
     "name": "stdout",
     "output_type": "stream",
     "text": [
      "Time Model_Xu_Net_04WOW1 = 3944.00785446167 [seconds]\n"
     ]
    }
   ],
   "source": [
    "model= Xu_Net()\n",
    "name=\"Model_\"+m_name+\"_\"+base_name\n",
    "_, history  = train(model, X_train, y_train, X_valid, y_valid, X_test, y_test, batch_size=32, epochs=100, model_name=name)"
   ]
  },
  {
   "cell_type": "markdown",
   "metadata": {
    "papermill": {
     "duration": 8.761367,
     "end_time": "2024-05-02T13:08:28.914413",
     "exception": false,
     "start_time": "2024-05-02T13:08:20.153046",
     "status": "completed"
    },
    "tags": []
   },
   "source": [
    "Our main contribution was to add the DCT filter along with the three extra CNN layers at start. To read more about it follow the link : https://drive.google.com/file/d/1PsBQcMXg_UOpUkImk-UWD2rzteNxcrj6/view?usp=sharing"
   ]
  },
  {
   "cell_type": "markdown",
   "metadata": {
    "id": "FSuwyZPusB-n",
    "papermill": {
     "duration": 8.711485,
     "end_time": "2024-05-02T13:08:46.300808",
     "exception": false,
     "start_time": "2024-05-02T13:08:37.589323",
     "status": "completed"
    },
    "tags": []
   },
   "source": [
    "## Finance\n",
    "\n",
    "\n"
   ]
  },
  {
   "cell_type": "markdown",
   "metadata": {
    "id": "yjJE64JyRO05",
    "papermill": {
     "duration": 8.731686,
     "end_time": "2024-05-02T13:09:03.765334",
     "exception": false,
     "start_time": "2024-05-02T13:08:55.033648",
     "status": "completed"
    },
    "tags": []
   },
   "source": [
    "### Stock Market Trading\n",
    "Many people purchase stocks, and often they do it based on recent trends, and sentiment about a specific company, and they use this information to predict when to buy/sell stocks. This is when you could use recurrent neural networks(RNN’s) for sentiment analysis. We could look through the internet and find articles of a particular company by searching for the company’s name! Then we can take subsections of the beginning, middle, and end and assess their sentiment and give investors an accurate notification of when to buy or sell a particular stock."
   ]
  },
  {
   "cell_type": "markdown",
   "metadata": {
    "papermill": {
     "duration": 8.909871,
     "end_time": "2024-05-02T13:09:21.403256",
     "exception": false,
     "start_time": "2024-05-02T13:09:12.493385",
     "status": "completed"
    },
    "tags": []
   },
   "source": [
    "## Recurrent Neural Networks\n",
    "In a recurrent neural network we store the output activations from one or more of the layers of the network. Often these are hidden later activations. Then, the next time we feed an input example to the network, we include the previously-stored outputs as additional inputs. You can think of the additional inputs as being concatenated to the end of the “normal” inputs to the previous layer. For example, if a hidden layer had 10 regular input nodes and 128 hidden nodes in the layer, then it would actually have 138 total inputs (assuming you are feeding the layer’s outputs into itself à la Elman) rather than into another layer). Of course, the very first time you try to compute the output of the network you’ll need to fill in those extra 128 inputs with 0s or something.\n",
    "\n",
    "Source: [Quora](https://www.quora.com/What-is-a-simple-explanation-of-a-recurrent-neural-network)\n",
    "<img src=\"https://cdn-images-1.medium.com/max/1600/1*NKhwsOYNUT5xU7Pyf6Znhg.png\">\n",
    "\n",
    "Source: [Medium](https://medium.com/ai-journal/lstm-gru-recurrent-neural-networks-81fe2bcdf1f9)\n"
   ]
  },
  {
   "cell_type": "markdown",
   "metadata": {
    "papermill": {
     "duration": 8.682665,
     "end_time": "2024-05-02T13:09:38.723271",
     "exception": false,
     "start_time": "2024-05-02T13:09:30.040606",
     "status": "completed"
    },
    "tags": []
   },
   "source": [
    "Now, even though RNNs are quite powerful, they suffer from  **Vanishing gradient problem ** which hinders them from using long term information, like they are good for storing memory 3-4 instances of past iterations but larger number of instances don't provide good results so we don't just use regular RNNs. Instead, we use a better variation of RNNs: **Long Short Term Networks(LSTM).**\n",
    "\n",
    "### What is Vanishing Gradient problem?\n",
    "Vanishing gradient problem is a difficulty found in training artificial neural networks with gradient-based learning methods and backpropagation. In such methods, each of the neural network's weights receives an update proportional to the partial derivative of the error function with respect to the current weight in each iteration of training. The problem is that in some cases, the gradient will be vanishingly small, effectively preventing the weight from changing its value. In the worst case, this may completely stop the neural network from further training. As one example of the problem cause, traditional activation functions such as the hyperbolic tangent function have gradients in the range (0, 1), and backpropagation computes gradients by the chain rule. This has the effect of multiplying n of these small numbers to compute gradients of the \"front\" layers in an n-layer network, meaning that the gradient (error signal) decreases exponentially with n while the front layers train very slowly.\n",
    "\n",
    "Source: [Wikipedia](https://en.wikipedia.org/wiki/Vanishing_gradient_problem)\n",
    "\n",
    "<img src=\"https://cdn-images-1.medium.com/max/1460/1*FWy4STsp8k0M5Yd8LifG_Q.png\">\n",
    "\n",
    "Source: [Medium](https://medium.com/@anishsingh20/the-vanishing-gradient-problem-48ae7f501257)"
   ]
  },
  {
   "cell_type": "markdown",
   "metadata": {
    "papermill": {
     "duration": 8.847258,
     "end_time": "2024-05-02T13:09:56.317722",
     "exception": false,
     "start_time": "2024-05-02T13:09:47.470464",
     "status": "completed"
    },
    "tags": []
   },
   "source": [
    "## Long Short Term Memory(LSTM)\n",
    "Long short-term memory (LSTM) units (or blocks) are a building unit for layers of a recurrent neural network (RNN). A RNN composed of LSTM units is often called an LSTM network. A common LSTM unit is composed of a cell, an input gate, an output gate and a forget gate. The cell is responsible for \"remembering\" values over arbitrary time intervals; hence the word \"memory\" in LSTM. Each of the three gates can be thought of as a \"conventional\" artificial neuron, as in a multi-layer (or feedforward) neural network: that is, they compute an activation (using an activation function) of a weighted sum. Intuitively, they can be thought as regulators of the flow of values that goes through the connections of the LSTM; hence the denotation \"gate\". There are connections between these gates and the cell.\n",
    "\n",
    "The expression long short-term refers to the fact that LSTM is a model for the short-term memory which can last for a long period of time. An LSTM is well-suited to classify, process and predict time series given time lags of unknown size and duration between important events. LSTMs were developed to deal with the exploding and vanishing gradient problem when training traditional RNNs.\n",
    "\n",
    "Source: [Wikipedia](https://en.wikipedia.org/wiki/Long_short-term_memory)\n",
    "\n",
    "<img src=\"https://cdn-images-1.medium.com/max/1600/0*LyfY3Mow9eCYlj7o.\">\n",
    "\n",
    "Source: [Medium](https://codeburst.io/generating-text-using-an-lstm-network-no-libraries-2dff88a3968)\n",
    "\n",
    "The best LSTM explanation on internet: https://medium.com/deep-math-machine-learning-ai/chapter-10-1-deepnlp-lstm-long-short-term-memory-networks-with-math-21477f8e4235\n",
    "\n"
   ]
  },
  {
   "cell_type": "markdown",
   "metadata": {
    "papermill": {
     "duration": 8.624413,
     "end_time": "2024-05-02T13:10:13.676421",
     "exception": false,
     "start_time": "2024-05-02T13:10:05.052008",
     "status": "completed"
    },
    "tags": []
   },
   "source": [
    "## Components of LSTMs\n",
    "So the LSTM cell contains the following components\n",
    "* Forget Gate “f” ( a neural network with sigmoid)\n",
    "* Candidate layer “C\"(a NN with Tanh)\n",
    "* Input Gate “I” ( a NN with sigmoid )\n",
    "* Output Gate “O”( a NN with sigmoid)\n",
    "* Hidden state “H” ( a vector )\n",
    "* Memory state “C” ( a vector)\n",
    "\n",
    "* Inputs to the LSTM cell at any step are X<sub>t</sub> (current input) , H<sub>t-1</sub> (previous hidden state ) and C<sub>t-1</sub> (previous memory state).  \n",
    "* Outputs from the LSTM cell are H<sub>t</sub> (current hidden state ) and C<sub>t</sub> (current memory state)"
   ]
  },
  {
   "cell_type": "markdown",
   "metadata": {
    "papermill": {
     "duration": 8.690228,
     "end_time": "2024-05-02T13:10:31.283950",
     "exception": false,
     "start_time": "2024-05-02T13:10:22.593722",
     "status": "completed"
    },
    "tags": []
   },
   "source": [
    "Since I am a stock market enthusiast, I will use LSTMs for predicting the price of stocks of Apple of the year 2017 using the past data"
   ]
  },
  {
   "cell_type": "code",
   "execution_count": 43,
   "metadata": {
    "execution": {
     "iopub.execute_input": "2024-05-02T13:10:48.636785Z",
     "iopub.status.busy": "2024-05-02T13:10:48.636130Z",
     "iopub.status.idle": "2024-05-02T13:10:48.639279Z",
     "shell.execute_reply": "2024-05-02T13:10:48.638748Z",
     "shell.execute_reply.started": "2024-05-02T11:53:13.134653Z"
    },
    "papermill": {
     "duration": 8.656026,
     "end_time": "2024-05-02T13:10:48.639396",
     "exception": false,
     "start_time": "2024-05-02T13:10:39.983370",
     "status": "completed"
    },
    "tags": []
   },
   "outputs": [],
   "source": [
    "# Importing the libraries\n",
    "import numpy as np\n",
    "import matplotlib.pyplot as plt\n",
    "plt.style.use('fivethirtyeight')\n",
    "import pandas as pd\n",
    "from sklearn.preprocessing import MinMaxScaler\n",
    "from keras.models import Sequential\n",
    "from keras.layers import Dense, LSTM, Dropout, GRU, Bidirectional\n",
    "from keras.optimizers import SGD\n",
    "import math\n",
    "from sklearn.metrics import mean_squared_error"
   ]
  },
  {
   "cell_type": "code",
   "execution_count": 44,
   "metadata": {
    "execution": {
     "iopub.execute_input": "2024-05-02T13:11:06.241505Z",
     "iopub.status.busy": "2024-05-02T13:11:06.240514Z",
     "iopub.status.idle": "2024-05-02T13:11:06.242875Z",
     "shell.execute_reply": "2024-05-02T13:11:06.243357Z",
     "shell.execute_reply.started": "2024-05-02T11:53:39.123914Z"
    },
    "papermill": {
     "duration": 8.661974,
     "end_time": "2024-05-02T13:11:06.243513",
     "exception": false,
     "start_time": "2024-05-02T13:10:57.581539",
     "status": "completed"
    },
    "tags": []
   },
   "outputs": [],
   "source": [
    "# Some functions to help out with\n",
    "def plot_predictions(test,predicted):\n",
    "    plt.plot(test, color='red',label='Real IBM Stock Price')\n",
    "    plt.plot(predicted, color='blue',label='Predicted IBM Stock Price')\n",
    "    plt.title('IBM Stock Price Prediction')\n",
    "    plt.xlabel('Time')\n",
    "    plt.ylabel('IBM Stock Price')\n",
    "    plt.legend()\n",
    "    plt.show()\n",
    "\n",
    "def return_rmse(test,predicted):\n",
    "    rmse = math.sqrt(mean_squared_error(test, predicted))\n",
    "    print(\"The root mean squared error is {}.\".format(rmse))"
   ]
  },
  {
   "cell_type": "code",
   "execution_count": 45,
   "metadata": {
    "execution": {
     "iopub.execute_input": "2024-05-02T13:11:23.774281Z",
     "iopub.status.busy": "2024-05-02T13:11:23.773349Z",
     "iopub.status.idle": "2024-05-02T13:11:23.808043Z",
     "shell.execute_reply": "2024-05-02T13:11:23.807184Z",
     "shell.execute_reply.started": "2024-05-02T11:54:00.309641Z"
    },
    "papermill": {
     "duration": 8.845161,
     "end_time": "2024-05-02T13:11:23.808164",
     "exception": false,
     "start_time": "2024-05-02T13:11:14.963003",
     "status": "completed"
    },
    "tags": []
   },
   "outputs": [
    {
     "data": {
      "text/html": [
       "<div>\n",
       "<style scoped>\n",
       "    .dataframe tbody tr th:only-of-type {\n",
       "        vertical-align: middle;\n",
       "    }\n",
       "\n",
       "    .dataframe tbody tr th {\n",
       "        vertical-align: top;\n",
       "    }\n",
       "\n",
       "    .dataframe thead th {\n",
       "        text-align: right;\n",
       "    }\n",
       "</style>\n",
       "<table border=\"1\" class=\"dataframe\">\n",
       "  <thead>\n",
       "    <tr style=\"text-align: right;\">\n",
       "      <th></th>\n",
       "      <th>Open</th>\n",
       "      <th>High</th>\n",
       "      <th>Low</th>\n",
       "      <th>Close</th>\n",
       "      <th>Volume</th>\n",
       "      <th>Name</th>\n",
       "    </tr>\n",
       "    <tr>\n",
       "      <th>Date</th>\n",
       "      <th></th>\n",
       "      <th></th>\n",
       "      <th></th>\n",
       "      <th></th>\n",
       "      <th></th>\n",
       "      <th></th>\n",
       "    </tr>\n",
       "  </thead>\n",
       "  <tbody>\n",
       "    <tr>\n",
       "      <th>2006-01-03</th>\n",
       "      <td>82.45</td>\n",
       "      <td>82.55</td>\n",
       "      <td>80.81</td>\n",
       "      <td>82.06</td>\n",
       "      <td>11715200</td>\n",
       "      <td>IBM</td>\n",
       "    </tr>\n",
       "    <tr>\n",
       "      <th>2006-01-04</th>\n",
       "      <td>82.20</td>\n",
       "      <td>82.50</td>\n",
       "      <td>81.33</td>\n",
       "      <td>81.95</td>\n",
       "      <td>9840600</td>\n",
       "      <td>IBM</td>\n",
       "    </tr>\n",
       "    <tr>\n",
       "      <th>2006-01-05</th>\n",
       "      <td>81.40</td>\n",
       "      <td>82.90</td>\n",
       "      <td>81.00</td>\n",
       "      <td>82.50</td>\n",
       "      <td>7213500</td>\n",
       "      <td>IBM</td>\n",
       "    </tr>\n",
       "    <tr>\n",
       "      <th>2006-01-06</th>\n",
       "      <td>83.95</td>\n",
       "      <td>85.03</td>\n",
       "      <td>83.41</td>\n",
       "      <td>84.95</td>\n",
       "      <td>8197400</td>\n",
       "      <td>IBM</td>\n",
       "    </tr>\n",
       "    <tr>\n",
       "      <th>2006-01-09</th>\n",
       "      <td>84.10</td>\n",
       "      <td>84.25</td>\n",
       "      <td>83.38</td>\n",
       "      <td>83.73</td>\n",
       "      <td>6858200</td>\n",
       "      <td>IBM</td>\n",
       "    </tr>\n",
       "  </tbody>\n",
       "</table>\n",
       "</div>"
      ],
      "text/plain": [
       "             Open   High    Low  Close    Volume Name\n",
       "Date                                                 \n",
       "2006-01-03  82.45  82.55  80.81  82.06  11715200  IBM\n",
       "2006-01-04  82.20  82.50  81.33  81.95   9840600  IBM\n",
       "2006-01-05  81.40  82.90  81.00  82.50   7213500  IBM\n",
       "2006-01-06  83.95  85.03  83.41  84.95   8197400  IBM\n",
       "2006-01-09  84.10  84.25  83.38  83.73   6858200  IBM"
      ]
     },
     "execution_count": 45,
     "metadata": {},
     "output_type": "execute_result"
    }
   ],
   "source": [
    "# First, we get the data\n",
    "dataset = pd.read_csv('../input/stock-time-series-20050101-to-20171231/IBM_2006-01-01_to_2018-01-01.csv', index_col='Date', parse_dates=['Date'])\n",
    "dataset.head()"
   ]
  },
  {
   "cell_type": "code",
   "execution_count": 46,
   "metadata": {
    "execution": {
     "iopub.execute_input": "2024-05-02T13:11:41.346049Z",
     "iopub.status.busy": "2024-05-02T13:11:41.345417Z",
     "iopub.status.idle": "2024-05-02T13:11:41.351282Z",
     "shell.execute_reply": "2024-05-02T13:11:41.350780Z",
     "shell.execute_reply.started": "2024-05-02T11:54:04.264643Z"
    },
    "papermill": {
     "duration": 8.750282,
     "end_time": "2024-05-02T13:11:41.351397",
     "exception": false,
     "start_time": "2024-05-02T13:11:32.601115",
     "status": "completed"
    },
    "tags": []
   },
   "outputs": [],
   "source": [
    "# Checking for missing values\n",
    "training_set = dataset[:'2016'].iloc[:,1:2].values\n",
    "test_set = dataset['2017':].iloc[:,1:2].values"
   ]
  },
  {
   "cell_type": "code",
   "execution_count": 47,
   "metadata": {
    "execution": {
     "iopub.execute_input": "2024-05-02T13:11:59.004593Z",
     "iopub.status.busy": "2024-05-02T13:11:59.003862Z",
     "iopub.status.idle": "2024-05-02T13:11:59.216703Z",
     "shell.execute_reply": "2024-05-02T13:11:59.216056Z",
     "shell.execute_reply.started": "2024-05-02T11:54:14.755028Z"
    },
    "papermill": {
     "duration": 9.115245,
     "end_time": "2024-05-02T13:11:59.216857",
     "exception": false,
     "start_time": "2024-05-02T13:11:50.101612",
     "status": "completed"
    },
    "tags": []
   },
   "outputs": [
    {
     "data": {
      "image/png": "[encoded data removed]",
      "text/plain": [
       "<Figure size 1152x288 with 1 Axes>"
      ]
     },
     "metadata": {},
     "output_type": "display_data"
    }
   ],
   "source": [
    "# We have chosen 'High' attribute for prices. Let's see what it looks like\n",
    "dataset[\"High\"][:'2016'].plot(figsize=(16,4),legend=True)\n",
    "dataset[\"High\"]['2017':].plot(figsize=(16,4),legend=True)\n",
    "plt.legend(['Training set (Before 2017)','Test set (2017 and beyond)'])\n",
    "plt.title('IBM stock price')\n",
    "plt.show()"
   ]
  },
  {
   "cell_type": "code",
   "execution_count": 48,
   "metadata": {
    "execution": {
     "iopub.execute_input": "2024-05-02T13:12:16.741953Z",
     "iopub.status.busy": "2024-05-02T13:12:16.741121Z",
     "iopub.status.idle": "2024-05-02T13:12:16.744165Z",
     "shell.execute_reply": "2024-05-02T13:12:16.743528Z",
     "shell.execute_reply.started": "2024-05-02T11:54:18.952987Z"
    },
    "papermill": {
     "duration": 8.667874,
     "end_time": "2024-05-02T13:12:16.744276",
     "exception": false,
     "start_time": "2024-05-02T13:12:08.076402",
     "status": "completed"
    },
    "tags": []
   },
   "outputs": [],
   "source": [
    "# Scaling the training set\n",
    "sc = MinMaxScaler(feature_range=(0,1))\n",
    "training_set_scaled = sc.fit_transform(training_set)"
   ]
  },
  {
   "cell_type": "code",
   "execution_count": 49,
   "metadata": {
    "execution": {
     "iopub.execute_input": "2024-05-02T13:12:34.314181Z",
     "iopub.status.busy": "2024-05-02T13:12:34.313256Z",
     "iopub.status.idle": "2024-05-02T13:12:34.319335Z",
     "shell.execute_reply": "2024-05-02T13:12:34.318839Z",
     "shell.execute_reply.started": "2024-05-02T11:54:24.795992Z"
    },
    "papermill": {
     "duration": 8.728917,
     "end_time": "2024-05-02T13:12:34.319463",
     "exception": false,
     "start_time": "2024-05-02T13:12:25.590546",
     "status": "completed"
    },
    "tags": []
   },
   "outputs": [],
   "source": [
    "# Since LSTMs store long term memory state, we create a data structure with 60 timesteps and 1 output\n",
    "# So for each element of training set, we have 60 previous training set elements \n",
    "X_train = []\n",
    "y_train = []\n",
    "for i in range(60,2767):\n",
    "    X_train.append(training_set_scaled[i-60:i,0])\n",
    "    y_train.append(training_set_scaled[i,0])\n",
    "X_train, y_train = np.array(X_train), np.array(y_train)"
   ]
  },
  {
   "cell_type": "code",
   "execution_count": 50,
   "metadata": {
    "execution": {
     "iopub.execute_input": "2024-05-02T13:12:51.840710Z",
     "iopub.status.busy": "2024-05-02T13:12:51.840040Z",
     "iopub.status.idle": "2024-05-02T13:12:51.843006Z",
     "shell.execute_reply": "2024-05-02T13:12:51.842459Z",
     "shell.execute_reply.started": "2024-05-02T11:54:27.805098Z"
    },
    "papermill": {
     "duration": 8.711571,
     "end_time": "2024-05-02T13:12:51.843117",
     "exception": false,
     "start_time": "2024-05-02T13:12:43.131546",
     "status": "completed"
    },
    "tags": []
   },
   "outputs": [],
   "source": [
    "# Reshaping X_train for efficient modelling\n",
    "X_train = np.reshape(X_train, (X_train.shape[0],X_train.shape[1],1))"
   ]
  },
  {
   "cell_type": "code",
   "execution_count": 51,
   "metadata": {
    "execution": {
     "iopub.execute_input": "2024-05-02T13:13:09.539486Z",
     "iopub.status.busy": "2024-05-02T13:13:09.534046Z",
     "iopub.status.idle": "2024-05-02T13:15:00.322419Z",
     "shell.execute_reply": "2024-05-02T13:15:00.321808Z",
     "shell.execute_reply.started": "2024-05-02T11:54:31.307492Z"
    },
    "papermill": {
     "duration": 119.507593,
     "end_time": "2024-05-02T13:15:00.322572",
     "exception": false,
     "start_time": "2024-05-02T13:13:00.814979",
     "status": "completed"
    },
    "tags": []
   },
   "outputs": [
    {
     "name": "stdout",
     "output_type": "stream",
     "text": [
      "Epoch 1/100\n",
      "85/85 [==============================] - 1s 12ms/step - loss: 0.0247\n",
      "Epoch 2/100\n",
      "85/85 [==============================] - 1s 12ms/step - loss: 0.0105\n",
      "Epoch 3/100\n",
      "85/85 [==============================] - 1s 12ms/step - loss: 0.0086\n",
      "Epoch 4/100\n",
      "85/85 [==============================] - 1s 12ms/step - loss: 0.0074\n",
      "Epoch 5/100\n",
      "85/85 [==============================] - 1s 12ms/step - loss: 0.0065\n",
      "Epoch 6/100\n",
      "85/85 [==============================] - 1s 12ms/step - loss: 0.0055\n",
      "Epoch 7/100\n",
      "85/85 [==============================] - 1s 12ms/step - loss: 0.0047\n",
      "Epoch 8/100\n",
      "85/85 [==============================] - 1s 12ms/step - loss: 0.0046\n",
      "Epoch 9/100\n",
      "85/85 [==============================] - 1s 12ms/step - loss: 0.0043\n",
      "Epoch 10/100\n",
      "85/85 [==============================] - 1s 12ms/step - loss: 0.0041\n",
      "Epoch 11/100\n",
      "85/85 [==============================] - 1s 12ms/step - loss: 0.0037\n",
      "Epoch 12/100\n",
      "85/85 [==============================] - 1s 12ms/step - loss: 0.0035\n",
      "Epoch 13/100\n",
      "85/85 [==============================] - 1s 13ms/step - loss: 0.0032\n",
      "Epoch 14/100\n",
      "85/85 [==============================] - 1s 13ms/step - loss: 0.0032\n",
      "Epoch 15/100\n",
      "85/85 [==============================] - 1s 12ms/step - loss: 0.0030\n",
      "Epoch 16/100\n",
      "85/85 [==============================] - 1s 12ms/step - loss: 0.0029\n",
      "Epoch 17/100\n",
      "85/85 [==============================] - 1s 12ms/step - loss: 0.0026\n",
      "Epoch 18/100\n",
      "85/85 [==============================] - 1s 12ms/step - loss: 0.0027\n",
      "Epoch 19/100\n",
      "85/85 [==============================] - 1s 12ms/step - loss: 0.0025\n",
      "Epoch 20/100\n",
      "85/85 [==============================] - 1s 12ms/step - loss: 0.0026\n",
      "Epoch 21/100\n",
      "85/85 [==============================] - 1s 12ms/step - loss: 0.0025\n",
      "Epoch 22/100\n",
      "85/85 [==============================] - 1s 12ms/step - loss: 0.0023\n",
      "Epoch 23/100\n",
      "85/85 [==============================] - 1s 12ms/step - loss: 0.0024\n",
      "Epoch 24/100\n",
      "85/85 [==============================] - 1s 12ms/step - loss: 0.0021\n",
      "Epoch 25/100\n",
      "85/85 [==============================] - 1s 12ms/step - loss: 0.0022\n",
      "Epoch 26/100\n",
      "85/85 [==============================] - 1s 12ms/step - loss: 0.0021\n",
      "Epoch 27/100\n",
      "85/85 [==============================] - 1s 12ms/step - loss: 0.0021\n",
      "Epoch 28/100\n",
      "85/85 [==============================] - 1s 12ms/step - loss: 0.0021\n",
      "Epoch 29/100\n",
      "85/85 [==============================] - 1s 12ms/step - loss: 0.0019\n",
      "Epoch 30/100\n",
      "85/85 [==============================] - 1s 12ms/step - loss: 0.0019\n",
      "Epoch 31/100\n",
      "85/85 [==============================] - 1s 12ms/step - loss: 0.0020\n",
      "Epoch 32/100\n",
      "85/85 [==============================] - 1s 12ms/step - loss: 0.0019\n",
      "Epoch 33/100\n",
      "85/85 [==============================] - 1s 12ms/step - loss: 0.0018\n",
      "Epoch 34/100\n",
      "85/85 [==============================] - 1s 12ms/step - loss: 0.0018\n",
      "Epoch 35/100\n",
      "85/85 [==============================] - 1s 12ms/step - loss: 0.0018\n",
      "Epoch 36/100\n",
      "85/85 [==============================] - 1s 12ms/step - loss: 0.0017\n",
      "Epoch 37/100\n",
      "85/85 [==============================] - 1s 12ms/step - loss: 0.0017\n",
      "Epoch 38/100\n",
      "85/85 [==============================] - 1s 13ms/step - loss: 0.0016\n",
      "Epoch 39/100\n",
      "85/85 [==============================] - 1s 12ms/step - loss: 0.0017\n",
      "Epoch 40/100\n",
      "85/85 [==============================] - 1s 12ms/step - loss: 0.0016\n",
      "Epoch 41/100\n",
      "85/85 [==============================] - 1s 12ms/step - loss: 0.0016\n",
      "Epoch 42/100\n",
      "85/85 [==============================] - 1s 12ms/step - loss: 0.0016\n",
      "Epoch 43/100\n",
      "85/85 [==============================] - 1s 12ms/step - loss: 0.0015\n",
      "Epoch 44/100\n",
      "85/85 [==============================] - 1s 14ms/step - loss: 0.0016\n",
      "Epoch 45/100\n",
      "85/85 [==============================] - 1s 12ms/step - loss: 0.0015\n",
      "Epoch 46/100\n",
      "85/85 [==============================] - 1s 12ms/step - loss: 0.0015\n",
      "Epoch 47/100\n",
      "85/85 [==============================] - 1s 12ms/step - loss: 0.0015\n",
      "Epoch 48/100\n",
      "85/85 [==============================] - 1s 12ms/step - loss: 0.0013\n",
      "Epoch 49/100\n",
      "85/85 [==============================] - 1s 12ms/step - loss: 0.0014\n",
      "Epoch 50/100\n",
      "85/85 [==============================] - 1s 12ms/step - loss: 0.0014\n",
      "Epoch 51/100\n",
      "85/85 [==============================] - 1s 12ms/step - loss: 0.0014\n",
      "Epoch 52/100\n",
      "85/85 [==============================] - 1s 12ms/step - loss: 0.0014\n",
      "Epoch 53/100\n",
      "85/85 [==============================] - 1s 13ms/step - loss: 0.0014\n",
      "Epoch 54/100\n",
      "85/85 [==============================] - 1s 14ms/step - loss: 0.0013\n",
      "Epoch 55/100\n",
      "85/85 [==============================] - 1s 13ms/step - loss: 0.0013\n",
      "Epoch 56/100\n",
      "85/85 [==============================] - 1s 13ms/step - loss: 0.0013\n",
      "Epoch 57/100\n",
      "85/85 [==============================] - 1s 13ms/step - loss: 0.0014\n",
      "Epoch 58/100\n",
      "85/85 [==============================] - 1s 14ms/step - loss: 0.0013\n",
      "Epoch 59/100\n",
      "85/85 [==============================] - 1s 13ms/step - loss: 0.0013\n",
      "Epoch 60/100\n",
      "85/85 [==============================] - 1s 14ms/step - loss: 0.0013\n",
      "Epoch 61/100\n",
      "85/85 [==============================] - 1s 13ms/step - loss: 0.0013\n",
      "Epoch 62/100\n",
      "85/85 [==============================] - 1s 14ms/step - loss: 0.0012\n",
      "Epoch 63/100\n",
      "85/85 [==============================] - 1s 13ms/step - loss: 0.0013\n",
      "Epoch 64/100\n",
      "85/85 [==============================] - 1s 12ms/step - loss: 0.0012\n",
      "Epoch 65/100\n",
      "85/85 [==============================] - 1s 12ms/step - loss: 0.0012\n",
      "Epoch 66/100\n",
      "85/85 [==============================] - 1s 13ms/step - loss: 0.0012\n",
      "Epoch 67/100\n",
      "85/85 [==============================] - 1s 12ms/step - loss: 0.0012\n",
      "Epoch 68/100\n",
      "85/85 [==============================] - 1s 12ms/step - loss: 0.0012\n",
      "Epoch 69/100\n",
      "85/85 [==============================] - 1s 12ms/step - loss: 0.0012\n",
      "Epoch 70/100\n",
      "85/85 [==============================] - 1s 12ms/step - loss: 0.0012\n",
      "Epoch 71/100\n",
      "85/85 [==============================] - 1s 12ms/step - loss: 0.0012\n",
      "Epoch 72/100\n",
      "85/85 [==============================] - 1s 12ms/step - loss: 0.0011\n",
      "Epoch 73/100\n",
      "85/85 [==============================] - 1s 14ms/step - loss: 0.0011\n",
      "Epoch 74/100\n",
      "85/85 [==============================] - 1s 13ms/step - loss: 0.0011\n",
      "Epoch 75/100\n",
      "85/85 [==============================] - 1s 12ms/step - loss: 0.0011\n",
      "Epoch 76/100\n",
      "85/85 [==============================] - 1s 12ms/step - loss: 0.0012\n",
      "Epoch 77/100\n",
      "85/85 [==============================] - 1s 12ms/step - loss: 0.0011\n",
      "Epoch 78/100\n",
      "85/85 [==============================] - 1s 12ms/step - loss: 0.0011\n",
      "Epoch 79/100\n",
      "85/85 [==============================] - 1s 12ms/step - loss: 0.0011\n",
      "Epoch 80/100\n",
      "85/85 [==============================] - 1s 12ms/step - loss: 0.0011\n",
      "Epoch 81/100\n",
      "85/85 [==============================] - 1s 12ms/step - loss: 0.0011\n",
      "Epoch 82/100\n",
      "85/85 [==============================] - 1s 12ms/step - loss: 0.0012\n",
      "Epoch 83/100\n",
      "85/85 [==============================] - 1s 12ms/step - loss: 0.0010\n",
      "Epoch 84/100\n",
      "85/85 [==============================] - 1s 12ms/step - loss: 0.0011\n",
      "Epoch 85/100\n",
      "85/85 [==============================] - 1s 12ms/step - loss: 0.0011\n",
      "Epoch 86/100\n",
      "85/85 [==============================] - 1s 12ms/step - loss: 0.0011\n",
      "Epoch 87/100\n",
      "85/85 [==============================] - 1s 12ms/step - loss: 0.0010\n",
      "Epoch 88/100\n",
      "85/85 [==============================] - 1s 12ms/step - loss: 0.0011\n",
      "Epoch 89/100\n",
      "85/85 [==============================] - 1s 12ms/step - loss: 9.5662e-04\n",
      "Epoch 90/100\n",
      "85/85 [==============================] - 1s 12ms/step - loss: 0.0010\n",
      "Epoch 91/100\n",
      "85/85 [==============================] - 1s 12ms/step - loss: 0.0011\n",
      "Epoch 92/100\n",
      "85/85 [==============================] - 1s 12ms/step - loss: 0.0010\n",
      "Epoch 93/100\n",
      "85/85 [==============================] - 1s 12ms/step - loss: 0.0010\n",
      "Epoch 94/100\n",
      "85/85 [==============================] - 1s 12ms/step - loss: 0.0010\n",
      "Epoch 95/100\n",
      "85/85 [==============================] - 1s 12ms/step - loss: 9.7947e-04\n",
      "Epoch 96/100\n",
      "85/85 [==============================] - 1s 12ms/step - loss: 0.0010\n",
      "Epoch 97/100\n",
      "85/85 [==============================] - 1s 12ms/step - loss: 9.5392e-04\n",
      "Epoch 98/100\n",
      "85/85 [==============================] - 1s 12ms/step - loss: 9.8326e-04\n",
      "Epoch 99/100\n",
      "85/85 [==============================] - 1s 12ms/step - loss: 0.0010\n",
      "Epoch 100/100\n",
      "85/85 [==============================] - 1s 12ms/step - loss: 9.7336e-04\n"
     ]
    },
    {
     "data": {
      "text/plain": [
       "<tensorflow.python.keras.callbacks.History at 0x7d134c03f510>"
      ]
     },
     "execution_count": 51,
     "metadata": {},
     "output_type": "execute_result"
    }
   ],
   "source": [
    "# The LSTM architecture\n",
    "regressor = Sequential()\n",
    "# First LSTM layer with Dropout regularisation\n",
    "regressor.add(LSTM(units=50, return_sequences=True, input_shape=(X_train.shape[1],1)))\n",
    "regressor.add(Dropout(0.2))\n",
    "# Second LSTM layer\n",
    "regressor.add(LSTM(units=50, return_sequences=True))\n",
    "regressor.add(Dropout(0.2))\n",
    "# Third LSTM layer\n",
    "regressor.add(LSTM(units=50, return_sequences=True))\n",
    "regressor.add(Dropout(0.2))\n",
    "# Fourth LSTM layer\n",
    "regressor.add(LSTM(units=50))\n",
    "regressor.add(Dropout(0.2))\n",
    "# The output layer\n",
    "regressor.add(Dense(units=1))\n",
    "\n",
    "# Compiling the RNN\n",
    "regressor.compile(optimizer='rmsprop',loss='mean_squared_error')\n",
    "# Fitting to the training set\n",
    "regressor.fit(X_train,y_train,epochs=100,batch_size=32)"
   ]
  },
  {
   "cell_type": "code",
   "execution_count": 52,
   "metadata": {
    "execution": {
     "iopub.execute_input": "2024-05-02T13:15:19.219024Z",
     "iopub.status.busy": "2024-05-02T13:15:19.217912Z",
     "iopub.status.idle": "2024-05-02T13:15:19.221848Z",
     "shell.execute_reply": "2024-05-02T13:15:19.221324Z",
     "shell.execute_reply.started": "2024-05-02T11:56:33.551315Z"
    },
    "papermill": {
     "duration": 9.431994,
     "end_time": "2024-05-02T13:15:19.221971",
     "exception": false,
     "start_time": "2024-05-02T13:15:09.789977",
     "status": "completed"
    },
    "tags": []
   },
   "outputs": [],
   "source": [
    "# Now to get the test set ready in a similar way as the training set.\n",
    "# The following has been done so forst 60 entires of test set have 60 previous values which is impossible to get unless we take the whole \n",
    "# 'High' attribute data for processing\n",
    "dataset_total = pd.concat((dataset[\"High\"][:'2016'],dataset[\"High\"]['2017':]),axis=0)\n",
    "inputs = dataset_total[len(dataset_total)-len(test_set) - 60:].values\n",
    "inputs = inputs.reshape(-1,1)\n",
    "inputs  = sc.transform(inputs)"
   ]
  },
  {
   "cell_type": "code",
   "execution_count": 53,
   "metadata": {
    "execution": {
     "iopub.execute_input": "2024-05-02T13:15:38.148635Z",
     "iopub.status.busy": "2024-05-02T13:15:38.147753Z",
     "iopub.status.idle": "2024-05-02T13:15:39.421069Z",
     "shell.execute_reply": "2024-05-02T13:15:39.420442Z",
     "shell.execute_reply.started": "2024-05-02T11:56:33.562572Z"
    },
    "papermill": {
     "duration": 10.680367,
     "end_time": "2024-05-02T13:15:39.421186",
     "exception": false,
     "start_time": "2024-05-02T13:15:28.740819",
     "status": "completed"
    },
    "tags": []
   },
   "outputs": [],
   "source": [
    "# Preparing X_test and predicting the prices\n",
    "X_test = []\n",
    "for i in range(60,311):\n",
    "    X_test.append(inputs[i-60:i,0])\n",
    "X_test = np.array(X_test)\n",
    "X_test = np.reshape(X_test, (X_test.shape[0],X_test.shape[1],1))\n",
    "predicted_stock_price = regressor.predict(X_test)\n",
    "predicted_stock_price = sc.inverse_transform(predicted_stock_price)"
   ]
  },
  {
   "cell_type": "code",
   "execution_count": 54,
   "metadata": {
    "execution": {
     "iopub.execute_input": "2024-05-02T13:15:58.255654Z",
     "iopub.status.busy": "2024-05-02T13:15:58.254252Z",
     "iopub.status.idle": "2024-05-02T13:15:58.413232Z",
     "shell.execute_reply": "2024-05-02T13:15:58.412651Z",
     "shell.execute_reply.started": "2024-05-02T11:56:35.008377Z"
    },
    "papermill": {
     "duration": 9.589109,
     "end_time": "2024-05-02T13:15:58.413338",
     "exception": false,
     "start_time": "2024-05-02T13:15:48.824229",
     "status": "completed"
    },
    "tags": []
   },
   "outputs": [
    {
     "data": {
      "image/png": "[encoded data removed]",
      "text/plain": [
       "<Figure size 432x288 with 1 Axes>"
      ]
     },
     "metadata": {},
     "output_type": "display_data"
    }
   ],
   "source": [
    "# Visualizing the results for LSTM\n",
    "plot_predictions(test_set,predicted_stock_price)"
   ]
  },
  {
   "cell_type": "code",
   "execution_count": 55,
   "metadata": {
    "execution": {
     "iopub.execute_input": "2024-05-02T13:16:17.149984Z",
     "iopub.status.busy": "2024-05-02T13:16:17.149257Z",
     "iopub.status.idle": "2024-05-02T13:16:17.152747Z",
     "shell.execute_reply": "2024-05-02T13:16:17.152144Z",
     "shell.execute_reply.started": "2024-05-02T11:56:35.208494Z"
    },
    "papermill": {
     "duration": 9.374839,
     "end_time": "2024-05-02T13:16:17.152863",
     "exception": false,
     "start_time": "2024-05-02T13:16:07.778024",
     "status": "completed"
    },
    "tags": []
   },
   "outputs": [
    {
     "name": "stdout",
     "output_type": "stream",
     "text": [
      "The root mean squared error is 2.7121103723162383.\n"
     ]
    }
   ],
   "source": [
    "# Evaluating our model\n",
    "return_rmse(test_set,predicted_stock_price)"
   ]
  },
  {
   "cell_type": "markdown",
   "metadata": {
    "id": "MNgXJzBjxhqc",
    "papermill": {
     "duration": 9.403148,
     "end_time": "2024-05-02T13:16:35.873712",
     "exception": false,
     "start_time": "2024-05-02T13:16:26.470564",
     "status": "completed"
    },
    "tags": []
   },
   "source": [
    "# References\n"
   ]
  },
  {
   "cell_type": "markdown",
   "metadata": {
    "id": "DbLzTbkIATBy",
    "papermill": {
     "duration": 9.537871,
     "end_time": "2024-05-02T13:16:54.870831",
     "exception": false,
     "start_time": "2024-05-02T13:16:45.332960",
     "status": "completed"
    },
    "tags": []
   },
   "source": [
    "[1] https://towardsdatascience.com/how-to-build-your-own-neural-network-from-scratch-in-python-68998a08e4f6\n",
    "\n",
    "[2] https://towardsdatascience.com/over-fitting-and-regularization-64d16100f45c\n",
    "\n",
    "[3] https://emerj.com/ai-sector-overviews/machine-learning-in-robotics/\n",
    "\n",
    "[4] https://towardsdatascience.com/a-one-stop-shop-for-principal-component-analysis-5582fb7e0a9c\n",
    "\n",
    "[5] https://towardsdatascience.com/l1-and-l2-regularization-methods-ce25e7fc831c\n",
    "\n",
    "[6] https://machinelearningmastery.com/implement-backpropagation-algorithm-scratch-python/\n",
    "\n",
    "[7] https://www.nature.com/articles/s41563-019-0360-1\n",
    "\n",
    "[8] https://medium.com/@ocktavia/titanic-prediction-with-artificial-neural-network-in-r-5dd20fb98dea\n",
    "\n",
    "[9] https://www.kaggle.com/allen-institute-for-ai/CORD-19-research-challenge\n",
    "\n",
    "[10] https://towardsdatascience.com/what-is-a-perceptron-210a50190c3b\n",
    "\n"
   ]
  },
  {
   "cell_type": "code",
   "execution_count": null,
   "metadata": {
    "papermill": {
     "duration": 9.57715,
     "end_time": "2024-05-02T13:17:14.142914",
     "exception": false,
     "start_time": "2024-05-02T13:17:04.565764",
     "status": "completed"
    },
    "tags": []
   },
   "outputs": [],
   "source": []
  }
 ],
 "metadata": {
  "kaggle": {
   "accelerator": "nvidiaTeslaT4",
   "dataSources": [
    {
     "datasetId": 19,
     "sourceId": 420,
     "sourceType": "datasetVersion"
    },
    {
     "datasetId": 8388,
     "sourceId": 11883,
     "sourceType": "datasetVersion"
    },
    {
     "datasetId": 3870216,
     "sourceId": 6717141,
     "sourceType": "datasetVersion"
    },
    {
     "datasetId": 3945952,
     "sourceId": 6865760,
     "sourceType": "datasetVersion"
    }
   ],
   "dockerImageVersionId": 29980,
   "isGpuEnabled": true,
   "isInternetEnabled": true,
   "language": "python",
   "sourceType": "notebook"
  },
  "kernelspec": {
   "display_name": "Python 3",
   "language": "python",
   "name": "python3"
  },
  "language_info": {
   "codemirror_mode": {
    "name": "ipython",
    "version": 3
   },
   "file_extension": ".py",
   "mimetype": "text/x-python",
   "name": "python",
   "nbconvert_exporter": "python",
   "pygments_lexer": "ipython3",
   "version": "3.7.6"
  },
  "papermill": {
   "duration": 4671.52865,
   "end_time": "2024-05-02T13:17:24.091822",
   "environment_variables": {},
   "exception": null,
   "input_path": "__notebook__.ipynb",
   "output_path": "__notebook__.ipynb",
   "parameters": {},
   "start_time": "2024-05-02T11:59:32.563172",
   "version": "2.1.0"
  }
 },
 "nbformat": 4,
 "nbformat_minor": 4
}
